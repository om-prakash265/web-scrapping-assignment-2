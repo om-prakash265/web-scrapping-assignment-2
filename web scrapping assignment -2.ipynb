{
 "cells": [
  {
   "cell_type": "markdown",
   "metadata": {},
   "source": [
    "# Q1: Write a python program to scrape data for “Data Analyst” Job position in Bangalore” location. You have to scrape the job-title, job-location, company_name,experience_required. You have to scrape first 10 jobs data.\n"
   ]
  },
  {
   "cell_type": "code",
   "execution_count": 1,
   "metadata": {},
   "outputs": [],
   "source": [
    "import selenium\n",
    "import pandas as pd\n",
    "from selenium import webdriver"
   ]
  },
  {
   "cell_type": "code",
   "execution_count": 36,
   "metadata": {},
   "outputs": [],
   "source": [
    "driver =webdriver.Chrome(r'C:\\Users\\Om Prakash\\Downloads\\chromedriver_win32/chromedriver.exe')"
   ]
  },
  {
   "cell_type": "code",
   "execution_count": 37,
   "metadata": {},
   "outputs": [],
   "source": [
    "driver=webdriver.Chrome('chromedriver.exe')"
   ]
  },
  {
   "cell_type": "code",
   "execution_count": 38,
   "metadata": {},
   "outputs": [],
   "source": [
    "driver.get('https://www.naukri.com/')"
   ]
  },
  {
   "cell_type": "code",
   "execution_count": 42,
   "metadata": {},
   "outputs": [],
   "source": [
    "search_job=driver.find_element_by_id('qsb-keyword-sugg')\n",
    "search_job.send_keys('data analyst')"
   ]
  },
  {
   "cell_type": "code",
   "execution_count": 43,
   "metadata": {},
   "outputs": [],
   "source": [
    "serch_loc=driver.find_element_by_xpath(\"//input[@id='qsb-location-sugg']\")\n",
    "serch_loc.send_keys(\"Bangalore rural\")"
   ]
  },
  {
   "cell_type": "code",
   "execution_count": 45,
   "metadata": {},
   "outputs": [],
   "source": [
    "search=driver.find_element_by_xpath(\"//div[@class='search-btn']\")\n",
    "search.click()"
   ]
  },
  {
   "cell_type": "code",
   "execution_count": 46,
   "metadata": {},
   "outputs": [],
   "source": [
    "url=('https://www.naukri.com/data-analyst-jobs-in-bangalore-rural?k=data%20analyst&l=bangalore%20rural')"
   ]
  },
  {
   "cell_type": "code",
   "execution_count": 47,
   "metadata": {},
   "outputs": [],
   "source": [
    "driver.get(url)"
   ]
  },
  {
   "cell_type": "code",
   "execution_count": 48,
   "metadata": {},
   "outputs": [],
   "source": [
    "job_title=[]\n",
    "job_location=[]\n",
    "company_name=[]\n",
    "experiance_required=[]"
   ]
  },
  {
   "cell_type": "code",
   "execution_count": 50,
   "metadata": {},
   "outputs": [
    {
     "data": {
      "text/plain": [
       "[<selenium.webdriver.remote.webelement.WebElement (session=\"cfc7275b18a8abb3a3b7323e47cb7a75\", element=\"eb3e61d7-fd9a-4627-a5f5-5526f3cb5146\")>,\n",
       " <selenium.webdriver.remote.webelement.WebElement (session=\"cfc7275b18a8abb3a3b7323e47cb7a75\", element=\"a7f579ae-dfff-48c2-a570-fd452819f094\")>,\n",
       " <selenium.webdriver.remote.webelement.WebElement (session=\"cfc7275b18a8abb3a3b7323e47cb7a75\", element=\"b3411ad7-f33c-49e9-a0e1-e0996226f204\")>,\n",
       " <selenium.webdriver.remote.webelement.WebElement (session=\"cfc7275b18a8abb3a3b7323e47cb7a75\", element=\"32a7beaa-499b-4cdd-b9e5-f2d13675f905\")>,\n",
       " <selenium.webdriver.remote.webelement.WebElement (session=\"cfc7275b18a8abb3a3b7323e47cb7a75\", element=\"90c283bd-e85f-45b3-beca-3762da27ead2\")>,\n",
       " <selenium.webdriver.remote.webelement.WebElement (session=\"cfc7275b18a8abb3a3b7323e47cb7a75\", element=\"9c28d910-48ed-4868-85f9-3a4d1af19a48\")>,\n",
       " <selenium.webdriver.remote.webelement.WebElement (session=\"cfc7275b18a8abb3a3b7323e47cb7a75\", element=\"566e0fb8-0c07-4bc6-9140-25970c68dafc\")>,\n",
       " <selenium.webdriver.remote.webelement.WebElement (session=\"cfc7275b18a8abb3a3b7323e47cb7a75\", element=\"bee49d43-5931-4b67-995f-358f933508c8\")>,\n",
       " <selenium.webdriver.remote.webelement.WebElement (session=\"cfc7275b18a8abb3a3b7323e47cb7a75\", element=\"b6dd200f-9ef8-49aa-89e6-3cd71eeb2c38\")>,\n",
       " <selenium.webdriver.remote.webelement.WebElement (session=\"cfc7275b18a8abb3a3b7323e47cb7a75\", element=\"c1f1a973-62a7-4022-9abe-54ce9d610be5\")>]"
      ]
     },
     "execution_count": 50,
     "metadata": {},
     "output_type": "execute_result"
    }
   ],
   "source": [
    "title_tags=driver.find_elements_by_xpath(\"//a[@class='title fw500 ellipsis']\")\n",
    "title_tags[0:10]"
   ]
  },
  {
   "cell_type": "code",
   "execution_count": 52,
   "metadata": {},
   "outputs": [
    {
     "data": {
      "text/plain": [
       "['Data Analyst - Marketing',\n",
       " 'Business Data Analyst',\n",
       " 'Lead Data Analyst / Data Engineer',\n",
       " 'Data Analyst / Business Analyst (Demand Planning)',\n",
       " 'Senior Data Analyst',\n",
       " 'Data Analyst',\n",
       " 'Business Data Analyst',\n",
       " 'Data Analyst - I/II',\n",
       " 'Data Analyst (BI) - I/II',\n",
       " 'Openings For Data Analyst']"
      ]
     },
     "execution_count": 52,
     "metadata": {},
     "output_type": "execute_result"
    }
   ],
   "source": [
    "for i in title_tags:\n",
    "    job_title.append(i.text)\n",
    "job_title[0:10]    "
   ]
  },
  {
   "cell_type": "code",
   "execution_count": 53,
   "metadata": {},
   "outputs": [
    {
     "data": {
      "text/plain": [
       "[<selenium.webdriver.remote.webelement.WebElement (session=\"cfc7275b18a8abb3a3b7323e47cb7a75\", element=\"0ea21293-55e7-47bf-a2fa-d19f33580de0\")>,\n",
       " <selenium.webdriver.remote.webelement.WebElement (session=\"cfc7275b18a8abb3a3b7323e47cb7a75\", element=\"5cbda38d-1a48-4d38-a42d-1cf0b712ed09\")>,\n",
       " <selenium.webdriver.remote.webelement.WebElement (session=\"cfc7275b18a8abb3a3b7323e47cb7a75\", element=\"7c059e81-0c68-4446-b868-8d94c59627a2\")>,\n",
       " <selenium.webdriver.remote.webelement.WebElement (session=\"cfc7275b18a8abb3a3b7323e47cb7a75\", element=\"f0c29613-6c6d-49e9-95e1-91c263448675\")>,\n",
       " <selenium.webdriver.remote.webelement.WebElement (session=\"cfc7275b18a8abb3a3b7323e47cb7a75\", element=\"5150063f-0e8f-4e7a-a223-0984debfea51\")>,\n",
       " <selenium.webdriver.remote.webelement.WebElement (session=\"cfc7275b18a8abb3a3b7323e47cb7a75\", element=\"40b7515d-89e9-454b-9aaf-00de8bc9282b\")>,\n",
       " <selenium.webdriver.remote.webelement.WebElement (session=\"cfc7275b18a8abb3a3b7323e47cb7a75\", element=\"606da715-328a-4fec-9b53-817e349b229f\")>,\n",
       " <selenium.webdriver.remote.webelement.WebElement (session=\"cfc7275b18a8abb3a3b7323e47cb7a75\", element=\"87663b06-a063-499c-af4e-0383c76c8414\")>,\n",
       " <selenium.webdriver.remote.webelement.WebElement (session=\"cfc7275b18a8abb3a3b7323e47cb7a75\", element=\"2077f622-7b11-432f-a6ef-2c2467fbc007\")>,\n",
       " <selenium.webdriver.remote.webelement.WebElement (session=\"cfc7275b18a8abb3a3b7323e47cb7a75\", element=\"6149fc78-03be-4c1f-8816-f7d68b8901ff\")>]"
      ]
     },
     "execution_count": 53,
     "metadata": {},
     "output_type": "execute_result"
    }
   ],
   "source": [
    "location_tags=driver.find_elements_by_xpath(\"//li[@class='fleft grey-text br2 placeHolderLi location']\")\n",
    "location_tags[0:10]"
   ]
  },
  {
   "cell_type": "code",
   "execution_count": 55,
   "metadata": {},
   "outputs": [
    {
     "data": {
      "text/plain": [
       "['Bangalore/Bengaluru',\n",
       " 'Bangalore/Bengaluru',\n",
       " 'Bangalore/Bengaluru',\n",
       " 'Bangalore/Bengaluru',\n",
       " 'Bangalore/Bengaluru',\n",
       " 'Bangalore/Bengaluru',\n",
       " 'Bangalore/Bengaluru',\n",
       " 'Bangalore/Bengaluru',\n",
       " 'Bangalore/Bengaluru',\n",
       " 'Bangalore/Bengaluru']"
      ]
     },
     "execution_count": 55,
     "metadata": {},
     "output_type": "execute_result"
    }
   ],
   "source": [
    "for i in location_tags:\n",
    "    job_location.append(i.text)\n",
    "job_location[0:10]   "
   ]
  },
  {
   "cell_type": "code",
   "execution_count": 56,
   "metadata": {},
   "outputs": [
    {
     "data": {
      "text/plain": [
       "[<selenium.webdriver.remote.webelement.WebElement (session=\"cfc7275b18a8abb3a3b7323e47cb7a75\", element=\"5e2382b0-b092-49e5-b477-a1ad742cdb08\")>,\n",
       " <selenium.webdriver.remote.webelement.WebElement (session=\"cfc7275b18a8abb3a3b7323e47cb7a75\", element=\"66982345-20da-4d4a-93e5-1251347a8301\")>,\n",
       " <selenium.webdriver.remote.webelement.WebElement (session=\"cfc7275b18a8abb3a3b7323e47cb7a75\", element=\"5c3e6389-8f34-4d43-9ee9-34c170c94f75\")>,\n",
       " <selenium.webdriver.remote.webelement.WebElement (session=\"cfc7275b18a8abb3a3b7323e47cb7a75\", element=\"3607b3dd-71b2-44f0-aab3-c23c3cf32ff0\")>,\n",
       " <selenium.webdriver.remote.webelement.WebElement (session=\"cfc7275b18a8abb3a3b7323e47cb7a75\", element=\"43301ed9-8168-48a5-9c05-9aed10c6a865\")>,\n",
       " <selenium.webdriver.remote.webelement.WebElement (session=\"cfc7275b18a8abb3a3b7323e47cb7a75\", element=\"bfe466a4-d032-4f88-8a94-a11cdaa01d86\")>,\n",
       " <selenium.webdriver.remote.webelement.WebElement (session=\"cfc7275b18a8abb3a3b7323e47cb7a75\", element=\"db4d7a87-7803-4888-b0b2-caee0a43ef2d\")>,\n",
       " <selenium.webdriver.remote.webelement.WebElement (session=\"cfc7275b18a8abb3a3b7323e47cb7a75\", element=\"78fb9e9b-0a29-400f-a456-a79063ef794d\")>,\n",
       " <selenium.webdriver.remote.webelement.WebElement (session=\"cfc7275b18a8abb3a3b7323e47cb7a75\", element=\"81df2b1d-53cf-4c99-b1ed-e9266c38b1d0\")>,\n",
       " <selenium.webdriver.remote.webelement.WebElement (session=\"cfc7275b18a8abb3a3b7323e47cb7a75\", element=\"ec137645-f1e3-45eb-9b6e-43f389a9f524\")>]"
      ]
     },
     "execution_count": 56,
     "metadata": {},
     "output_type": "execute_result"
    }
   ],
   "source": [
    "company_tags=driver.find_elements_by_xpath(\"//a[@class='subTitle ellipsis fleft']\")\n",
    "company_tags[0:10]"
   ]
  },
  {
   "cell_type": "code",
   "execution_count": 57,
   "metadata": {},
   "outputs": [
    {
     "data": {
      "text/plain": [
       "['Byjus - Transforming Education using Technology',\n",
       " 'INDIAVIDUAL LEARNING LIMITED',\n",
       " 'Huawei Technologies',\n",
       " 'Flipkart',\n",
       " 'Scienaptic Systems',\n",
       " 'Applied Materials',\n",
       " 'RANDSTAD INDIA PVT LTD',\n",
       " 'Philips India Limited',\n",
       " 'Philips India Limited',\n",
       " 'Allegis Services India Pvt. Ltd.']"
      ]
     },
     "execution_count": 57,
     "metadata": {},
     "output_type": "execute_result"
    }
   ],
   "source": [
    "for i in company_tags:\n",
    "    company_name.append(i.text)\n",
    "company_name[0:10]    "
   ]
  },
  {
   "cell_type": "code",
   "execution_count": 58,
   "metadata": {},
   "outputs": [
    {
     "data": {
      "text/plain": [
       "[<selenium.webdriver.remote.webelement.WebElement (session=\"cfc7275b18a8abb3a3b7323e47cb7a75\", element=\"e342053c-a9d7-429f-8742-f369e27e2def\")>,\n",
       " <selenium.webdriver.remote.webelement.WebElement (session=\"cfc7275b18a8abb3a3b7323e47cb7a75\", element=\"77d668c2-0407-4d91-85d8-bfe24d7c8326\")>,\n",
       " <selenium.webdriver.remote.webelement.WebElement (session=\"cfc7275b18a8abb3a3b7323e47cb7a75\", element=\"f0c84642-ffe1-468e-babd-98dea58d1c8c\")>,\n",
       " <selenium.webdriver.remote.webelement.WebElement (session=\"cfc7275b18a8abb3a3b7323e47cb7a75\", element=\"7b33db9d-73cf-4c3b-ac10-833bdc51459f\")>,\n",
       " <selenium.webdriver.remote.webelement.WebElement (session=\"cfc7275b18a8abb3a3b7323e47cb7a75\", element=\"1e01baaf-e189-40d2-9634-247760b67a46\")>,\n",
       " <selenium.webdriver.remote.webelement.WebElement (session=\"cfc7275b18a8abb3a3b7323e47cb7a75\", element=\"b5e85489-cbb8-41bc-8546-b3d510410fcd\")>,\n",
       " <selenium.webdriver.remote.webelement.WebElement (session=\"cfc7275b18a8abb3a3b7323e47cb7a75\", element=\"a60a41c8-d640-455d-92a9-6f3a9790c6ca\")>,\n",
       " <selenium.webdriver.remote.webelement.WebElement (session=\"cfc7275b18a8abb3a3b7323e47cb7a75\", element=\"b6f12aaa-0fa9-45a9-8d34-56e111c81aee\")>,\n",
       " <selenium.webdriver.remote.webelement.WebElement (session=\"cfc7275b18a8abb3a3b7323e47cb7a75\", element=\"64e65ce0-dfbb-4053-8963-fb4f31f08562\")>,\n",
       " <selenium.webdriver.remote.webelement.WebElement (session=\"cfc7275b18a8abb3a3b7323e47cb7a75\", element=\"f030b9a8-1a89-4b79-8374-e84c1544a78f\")>]"
      ]
     },
     "execution_count": 58,
     "metadata": {},
     "output_type": "execute_result"
    }
   ],
   "source": [
    "experiance_tags=driver.find_elements_by_xpath(\"//li[@class='fleft grey-text br2 placeHolderLi experience']\")\n",
    "experiance_tags[0:10]"
   ]
  },
  {
   "cell_type": "code",
   "execution_count": 59,
   "metadata": {},
   "outputs": [
    {
     "data": {
      "text/plain": [
       "['0-2 Yrs',\n",
       " '2-6 Yrs',\n",
       " '5-10 Yrs',\n",
       " '1-4 Yrs',\n",
       " '5-10 Yrs',\n",
       " '0-3 Yrs',\n",
       " '8-12 Yrs',\n",
       " '3-6 Yrs',\n",
       " '3-6 Yrs',\n",
       " '0-3 Yrs']"
      ]
     },
     "execution_count": 59,
     "metadata": {},
     "output_type": "execute_result"
    }
   ],
   "source": [
    "for i in experiance_tags:\n",
    "    experiance_required.append(i.text)\n",
    "experiance_required[0:10]    "
   ]
  },
  {
   "cell_type": "code",
   "execution_count": 60,
   "metadata": {},
   "outputs": [
    {
     "data": {
      "text/html": [
       "<div>\n",
       "<style scoped>\n",
       "    .dataframe tbody tr th:only-of-type {\n",
       "        vertical-align: middle;\n",
       "    }\n",
       "\n",
       "    .dataframe tbody tr th {\n",
       "        vertical-align: top;\n",
       "    }\n",
       "\n",
       "    .dataframe thead th {\n",
       "        text-align: right;\n",
       "    }\n",
       "</style>\n",
       "<table border=\"1\" class=\"dataframe\">\n",
       "  <thead>\n",
       "    <tr style=\"text-align: right;\">\n",
       "      <th></th>\n",
       "      <th>title</th>\n",
       "      <th>location</th>\n",
       "      <th>company</th>\n",
       "      <th>experiance required</th>\n",
       "    </tr>\n",
       "  </thead>\n",
       "  <tbody>\n",
       "    <tr>\n",
       "      <th>0</th>\n",
       "      <td>Data Analyst - Marketing</td>\n",
       "      <td>Bangalore/Bengaluru</td>\n",
       "      <td>Byjus - Transforming Education using Technology</td>\n",
       "      <td>0-2 Yrs</td>\n",
       "    </tr>\n",
       "    <tr>\n",
       "      <th>1</th>\n",
       "      <td>Business Data Analyst</td>\n",
       "      <td>Bangalore/Bengaluru</td>\n",
       "      <td>INDIAVIDUAL LEARNING LIMITED</td>\n",
       "      <td>2-6 Yrs</td>\n",
       "    </tr>\n",
       "    <tr>\n",
       "      <th>2</th>\n",
       "      <td>Lead Data Analyst / Data Engineer</td>\n",
       "      <td>Bangalore/Bengaluru</td>\n",
       "      <td>Huawei Technologies</td>\n",
       "      <td>5-10 Yrs</td>\n",
       "    </tr>\n",
       "    <tr>\n",
       "      <th>3</th>\n",
       "      <td>Data Analyst / Business Analyst (Demand Planning)</td>\n",
       "      <td>Bangalore/Bengaluru</td>\n",
       "      <td>Flipkart</td>\n",
       "      <td>1-4 Yrs</td>\n",
       "    </tr>\n",
       "    <tr>\n",
       "      <th>4</th>\n",
       "      <td>Senior Data Analyst</td>\n",
       "      <td>Bangalore/Bengaluru</td>\n",
       "      <td>Scienaptic Systems</td>\n",
       "      <td>5-10 Yrs</td>\n",
       "    </tr>\n",
       "    <tr>\n",
       "      <th>5</th>\n",
       "      <td>Data Analyst</td>\n",
       "      <td>Bangalore/Bengaluru</td>\n",
       "      <td>Applied Materials</td>\n",
       "      <td>0-3 Yrs</td>\n",
       "    </tr>\n",
       "    <tr>\n",
       "      <th>6</th>\n",
       "      <td>Business Data Analyst</td>\n",
       "      <td>Bangalore/Bengaluru</td>\n",
       "      <td>RANDSTAD INDIA PVT LTD</td>\n",
       "      <td>8-12 Yrs</td>\n",
       "    </tr>\n",
       "    <tr>\n",
       "      <th>7</th>\n",
       "      <td>Data Analyst - I/II</td>\n",
       "      <td>Bangalore/Bengaluru</td>\n",
       "      <td>Philips India Limited</td>\n",
       "      <td>3-6 Yrs</td>\n",
       "    </tr>\n",
       "    <tr>\n",
       "      <th>8</th>\n",
       "      <td>Data Analyst (BI) - I/II</td>\n",
       "      <td>Bangalore/Bengaluru</td>\n",
       "      <td>Philips India Limited</td>\n",
       "      <td>3-6 Yrs</td>\n",
       "    </tr>\n",
       "    <tr>\n",
       "      <th>9</th>\n",
       "      <td>Openings For Data Analyst</td>\n",
       "      <td>Bangalore/Bengaluru</td>\n",
       "      <td>Allegis Services India Pvt. Ltd.</td>\n",
       "      <td>0-3 Yrs</td>\n",
       "    </tr>\n",
       "  </tbody>\n",
       "</table>\n",
       "</div>"
      ],
      "text/plain": [
       "                                               title             location  \\\n",
       "0                           Data Analyst - Marketing  Bangalore/Bengaluru   \n",
       "1                              Business Data Analyst  Bangalore/Bengaluru   \n",
       "2                  Lead Data Analyst / Data Engineer  Bangalore/Bengaluru   \n",
       "3  Data Analyst / Business Analyst (Demand Planning)  Bangalore/Bengaluru   \n",
       "4                                Senior Data Analyst  Bangalore/Bengaluru   \n",
       "5                                       Data Analyst  Bangalore/Bengaluru   \n",
       "6                              Business Data Analyst  Bangalore/Bengaluru   \n",
       "7                                Data Analyst - I/II  Bangalore/Bengaluru   \n",
       "8                           Data Analyst (BI) - I/II  Bangalore/Bengaluru   \n",
       "9                          Openings For Data Analyst  Bangalore/Bengaluru   \n",
       "\n",
       "                                           company experiance required  \n",
       "0  Byjus - Transforming Education using Technology             0-2 Yrs  \n",
       "1                     INDIAVIDUAL LEARNING LIMITED             2-6 Yrs  \n",
       "2                              Huawei Technologies            5-10 Yrs  \n",
       "3                                         Flipkart             1-4 Yrs  \n",
       "4                               Scienaptic Systems            5-10 Yrs  \n",
       "5                                Applied Materials             0-3 Yrs  \n",
       "6                           RANDSTAD INDIA PVT LTD            8-12 Yrs  \n",
       "7                            Philips India Limited             3-6 Yrs  \n",
       "8                            Philips India Limited             3-6 Yrs  \n",
       "9                 Allegis Services India Pvt. Ltd.             0-3 Yrs  "
      ]
     },
     "execution_count": 60,
     "metadata": {},
     "output_type": "execute_result"
    }
   ],
   "source": [
    "jobs=pd.DataFrame({})\n",
    "jobs['title']=job_title[0:10]\n",
    "jobs['location']=job_location[0:10]\n",
    "jobs['company']=company_name[0:10]\n",
    "jobs['experiance required']=experiance_required[0:10]\n",
    "jobs"
   ]
  },
  {
   "cell_type": "markdown",
   "metadata": {},
   "source": [
    "# Q2: Write a python program to scrape data for “Data Scientist” Job position in Bangalore” location. You have to scrape the job-title, job-location,company_name, full job-description. You have to scrape first 10 jobs data.\n"
   ]
  },
  {
   "cell_type": "code",
   "execution_count": 132,
   "metadata": {},
   "outputs": [],
   "source": [
    "driver =webdriver.Chrome(r'C:\\Users\\Om Prakash\\Downloads\\chromedriver_win32/chromedriver.exe')"
   ]
  },
  {
   "cell_type": "code",
   "execution_count": 133,
   "metadata": {},
   "outputs": [],
   "source": [
    "driver=webdriver.Chrome('chromedriver.exe')"
   ]
  },
  {
   "cell_type": "code",
   "execution_count": 134,
   "metadata": {},
   "outputs": [],
   "source": [
    "driver.get('https://www.naukri.com/')"
   ]
  },
  {
   "cell_type": "code",
   "execution_count": 135,
   "metadata": {},
   "outputs": [],
   "source": [
    "serch_job=driver.find_element_by_id('qsb-keyword-sugg')\n",
    "serch_job.send_keys('data scientist')"
   ]
  },
  {
   "cell_type": "code",
   "execution_count": 136,
   "metadata": {},
   "outputs": [],
   "source": [
    "serch_loc=driver.find_element_by_xpath(\"//input[@id='qsb-location-sugg']\")\n",
    "serch_loc.send_keys(\"Bangalore\")"
   ]
  },
  {
   "cell_type": "code",
   "execution_count": 137,
   "metadata": {},
   "outputs": [],
   "source": [
    "serch=driver.find_element_by_xpath(\"//div[@class='search-btn']\")\n",
    "serch.click()"
   ]
  },
  {
   "cell_type": "code",
   "execution_count": 138,
   "metadata": {},
   "outputs": [],
   "source": [
    "url=('https://www.naukri.com/data-scientist-jobs-in-bangalore?k=data%20scientist&l=bangalore')"
   ]
  },
  {
   "cell_type": "code",
   "execution_count": 139,
   "metadata": {},
   "outputs": [],
   "source": [
    "driver.get(url)"
   ]
  },
  {
   "cell_type": "code",
   "execution_count": 140,
   "metadata": {},
   "outputs": [],
   "source": [
    "jb_title=[]\n",
    "jb_location=[]\n",
    "cmpany_name=[]\n",
    "eperiance_required=[]"
   ]
  },
  {
   "cell_type": "code",
   "execution_count": 141,
   "metadata": {},
   "outputs": [
    {
     "data": {
      "text/plain": [
       "[<selenium.webdriver.remote.webelement.WebElement (session=\"da497723be1072ff798e7d5a05710100\", element=\"d058a90d-c21b-49cc-9c4a-5ad99defe91c\")>,\n",
       " <selenium.webdriver.remote.webelement.WebElement (session=\"da497723be1072ff798e7d5a05710100\", element=\"1e0e789b-cc66-4230-9945-8207131004bc\")>,\n",
       " <selenium.webdriver.remote.webelement.WebElement (session=\"da497723be1072ff798e7d5a05710100\", element=\"f89ce9ea-9938-4d0d-9b05-7340b0ca21fa\")>,\n",
       " <selenium.webdriver.remote.webelement.WebElement (session=\"da497723be1072ff798e7d5a05710100\", element=\"c5bff0c5-8abd-4fbc-a6f5-fd254f73a08f\")>,\n",
       " <selenium.webdriver.remote.webelement.WebElement (session=\"da497723be1072ff798e7d5a05710100\", element=\"7adb6a05-9579-45f8-bf9d-ccbc9add779c\")>,\n",
       " <selenium.webdriver.remote.webelement.WebElement (session=\"da497723be1072ff798e7d5a05710100\", element=\"75aab6f6-42ce-4fec-abdb-d2f9fcf8a32e\")>,\n",
       " <selenium.webdriver.remote.webelement.WebElement (session=\"da497723be1072ff798e7d5a05710100\", element=\"eb755da1-8e32-42a8-91a4-8d06d0df4400\")>,\n",
       " <selenium.webdriver.remote.webelement.WebElement (session=\"da497723be1072ff798e7d5a05710100\", element=\"a31ba039-a664-4e44-830a-d7e76f3be0a1\")>,\n",
       " <selenium.webdriver.remote.webelement.WebElement (session=\"da497723be1072ff798e7d5a05710100\", element=\"cf682d84-44cc-424e-a534-e726a7bd23c8\")>,\n",
       " <selenium.webdriver.remote.webelement.WebElement (session=\"da497723be1072ff798e7d5a05710100\", element=\"4ab49a42-551c-425b-92c9-3f0a4acf4932\")>]"
      ]
     },
     "execution_count": 141,
     "metadata": {},
     "output_type": "execute_result"
    }
   ],
   "source": [
    "jb_tags=driver.find_elements_by_xpath(\"//a[@class='title fw500 ellipsis']\")\n",
    "jb_tags[0:10]"
   ]
  },
  {
   "cell_type": "code",
   "execution_count": 142,
   "metadata": {},
   "outputs": [
    {
     "data": {
      "text/plain": [
       "['Lead Data Scientist',\n",
       " 'Data Scientist / AI / ML Engineer',\n",
       " 'Senior Data Scientist',\n",
       " 'Senior Data Scientist',\n",
       " 'Senior Data Scientist, NLP',\n",
       " 'Data Scientist/Senior Data Scientist - IT Services Firm',\n",
       " 'Data Scientist',\n",
       " 'Data Scientist',\n",
       " 'Data Scientist - AI Flagship',\n",
       " 'Data Scientist']"
      ]
     },
     "execution_count": 142,
     "metadata": {},
     "output_type": "execute_result"
    }
   ],
   "source": [
    "for i in jb_tags:\n",
    "    jb_title.append(i.text)\n",
    "jb_title[0:10]    "
   ]
  },
  {
   "cell_type": "code",
   "execution_count": 144,
   "metadata": {},
   "outputs": [
    {
     "data": {
      "text/plain": [
       "[<selenium.webdriver.remote.webelement.WebElement (session=\"da497723be1072ff798e7d5a05710100\", element=\"a6bf77d8-136e-4173-b101-18c96ac3b210\")>,\n",
       " <selenium.webdriver.remote.webelement.WebElement (session=\"da497723be1072ff798e7d5a05710100\", element=\"8cf44754-104f-4c2a-afa1-01d97886c774\")>,\n",
       " <selenium.webdriver.remote.webelement.WebElement (session=\"da497723be1072ff798e7d5a05710100\", element=\"e05ccf67-fa1b-49d8-a083-9e0935e71b48\")>,\n",
       " <selenium.webdriver.remote.webelement.WebElement (session=\"da497723be1072ff798e7d5a05710100\", element=\"ad5a5855-6164-4c3a-b66f-c50d10625186\")>,\n",
       " <selenium.webdriver.remote.webelement.WebElement (session=\"da497723be1072ff798e7d5a05710100\", element=\"84880bb4-518c-42cc-866f-96be6699ae16\")>,\n",
       " <selenium.webdriver.remote.webelement.WebElement (session=\"da497723be1072ff798e7d5a05710100\", element=\"fbc7b8e9-30da-4160-8faa-e27bd874e8eb\")>,\n",
       " <selenium.webdriver.remote.webelement.WebElement (session=\"da497723be1072ff798e7d5a05710100\", element=\"b0db2d25-17f5-41cb-90ee-1b22e5b70387\")>,\n",
       " <selenium.webdriver.remote.webelement.WebElement (session=\"da497723be1072ff798e7d5a05710100\", element=\"ae02f389-f9c5-40bd-8ab8-4bff3e99ba09\")>,\n",
       " <selenium.webdriver.remote.webelement.WebElement (session=\"da497723be1072ff798e7d5a05710100\", element=\"bae18f4f-f379-4834-90ab-34da832dacf9\")>,\n",
       " <selenium.webdriver.remote.webelement.WebElement (session=\"da497723be1072ff798e7d5a05710100\", element=\"cb801f1c-99e4-4b6e-b50c-a3e534a7feee\")>]"
      ]
     },
     "execution_count": 144,
     "metadata": {},
     "output_type": "execute_result"
    }
   ],
   "source": [
    "location_tgs=driver.find_elements_by_xpath(\"//li[@class='fleft grey-text br2 placeHolderLi location']\")\n",
    "location_tgs[0:10]"
   ]
  },
  {
   "cell_type": "code",
   "execution_count": 146,
   "metadata": {},
   "outputs": [
    {
     "data": {
      "text/plain": [
       "['Bangalore/Bengaluru',\n",
       " 'Bangalore/Bengaluru',\n",
       " 'Bangalore/Bengaluru',\n",
       " 'Bangalore/Bengaluru(Sadashiva Nagar)\\n(WFH during Covid)',\n",
       " 'Bangalore/Bengaluru',\n",
       " 'Hyderabad/Secunderabad, Pune, Gurgaon/Gurugram, Bangalore/Bengaluru',\n",
       " 'Bangalore/Bengaluru(Whitefield)\\n(WFH during Covid)',\n",
       " 'Bangalore/Bengaluru',\n",
       " 'Bangalore/Bengaluru',\n",
       " 'Bangalore/Bengaluru']"
      ]
     },
     "execution_count": 146,
     "metadata": {},
     "output_type": "execute_result"
    }
   ],
   "source": [
    "for i in location_tgs:\n",
    "    jb_location.append(i.text)\n",
    "jb_location[0:10]   "
   ]
  },
  {
   "cell_type": "code",
   "execution_count": 147,
   "metadata": {},
   "outputs": [
    {
     "data": {
      "text/plain": [
       "[<selenium.webdriver.remote.webelement.WebElement (session=\"da497723be1072ff798e7d5a05710100\", element=\"adc8d90f-57ef-44dc-b786-8fd9074737ec\")>,\n",
       " <selenium.webdriver.remote.webelement.WebElement (session=\"da497723be1072ff798e7d5a05710100\", element=\"803cb68d-2077-4886-8649-ebe376573fcd\")>,\n",
       " <selenium.webdriver.remote.webelement.WebElement (session=\"da497723be1072ff798e7d5a05710100\", element=\"987d05b1-8f5a-4e78-9b49-4fcc27c861b0\")>,\n",
       " <selenium.webdriver.remote.webelement.WebElement (session=\"da497723be1072ff798e7d5a05710100\", element=\"aac39b11-e4d1-47e9-a9ef-ae702b7ead02\")>,\n",
       " <selenium.webdriver.remote.webelement.WebElement (session=\"da497723be1072ff798e7d5a05710100\", element=\"6da64219-a4ce-45e6-aea5-dd27b229eba9\")>,\n",
       " <selenium.webdriver.remote.webelement.WebElement (session=\"da497723be1072ff798e7d5a05710100\", element=\"80a0d93d-806d-45ea-8675-dbbec434036f\")>,\n",
       " <selenium.webdriver.remote.webelement.WebElement (session=\"da497723be1072ff798e7d5a05710100\", element=\"4ae7e145-18c2-4f42-a57c-aa632d631a8c\")>,\n",
       " <selenium.webdriver.remote.webelement.WebElement (session=\"da497723be1072ff798e7d5a05710100\", element=\"0d2ed9aa-5621-407c-8968-3ab7afc4093e\")>,\n",
       " <selenium.webdriver.remote.webelement.WebElement (session=\"da497723be1072ff798e7d5a05710100\", element=\"84c928ec-1748-4779-a39c-02ddfe942b32\")>,\n",
       " <selenium.webdriver.remote.webelement.WebElement (session=\"da497723be1072ff798e7d5a05710100\", element=\"34f3c358-367a-45b6-9464-1b1ea23707e5\")>]"
      ]
     },
     "execution_count": 147,
     "metadata": {},
     "output_type": "execute_result"
    }
   ],
   "source": [
    "cmpany_tags=driver.find_elements_by_xpath(\"//a[@class='subTitle ellipsis fleft']\")\n",
    "cmpany_tags[0:10]"
   ]
  },
  {
   "cell_type": "code",
   "execution_count": 149,
   "metadata": {},
   "outputs": [
    {
     "data": {
      "text/plain": [
       "['Huawei Technologies',\n",
       " 'Hitachi Ltd.',\n",
       " 'GO-JEK India',\n",
       " 'Convergence Infotech Ltd',\n",
       " 'Thomson Reuters',\n",
       " 'Pylon Management Consulting Pvt Ltd',\n",
       " 'BRIDGETREE RESEARCH SERVICES PRIVATE LIMITED',\n",
       " 'Flipkart Internet Private Limited',\n",
       " 'Schneider Electric India Pvt. Ltd.',\n",
       " 'GlaxoSmithKline Pharmaceuticals Limited']"
      ]
     },
     "execution_count": 149,
     "metadata": {},
     "output_type": "execute_result"
    }
   ],
   "source": [
    "for i in cmpany_tags:\n",
    "    cmpany_name.append(i.text)\n",
    "cmpany_name[0:10]   "
   ]
  },
  {
   "cell_type": "code",
   "execution_count": 151,
   "metadata": {},
   "outputs": [
    {
     "data": {
      "text/plain": [
       "[<selenium.webdriver.remote.webelement.WebElement (session=\"da497723be1072ff798e7d5a05710100\", element=\"cbefb209-e4e4-438e-99e5-4f8f30a64210\")>,\n",
       " <selenium.webdriver.remote.webelement.WebElement (session=\"da497723be1072ff798e7d5a05710100\", element=\"1ebef014-7712-4455-9263-5aca25a2afdc\")>,\n",
       " <selenium.webdriver.remote.webelement.WebElement (session=\"da497723be1072ff798e7d5a05710100\", element=\"d03fa2ea-bb4f-4626-8b7c-22089bd6c5e7\")>,\n",
       " <selenium.webdriver.remote.webelement.WebElement (session=\"da497723be1072ff798e7d5a05710100\", element=\"309000a1-73b5-4366-9fa3-842942a35069\")>,\n",
       " <selenium.webdriver.remote.webelement.WebElement (session=\"da497723be1072ff798e7d5a05710100\", element=\"0762eba5-5e85-4c77-8caf-322cd9669b0a\")>,\n",
       " <selenium.webdriver.remote.webelement.WebElement (session=\"da497723be1072ff798e7d5a05710100\", element=\"6c4cd81d-9392-4b72-976b-2ea175fe6dea\")>,\n",
       " <selenium.webdriver.remote.webelement.WebElement (session=\"da497723be1072ff798e7d5a05710100\", element=\"c3c045a3-30b2-4715-a8c7-a942da803407\")>,\n",
       " <selenium.webdriver.remote.webelement.WebElement (session=\"da497723be1072ff798e7d5a05710100\", element=\"f8b6d66e-1c75-4a67-a8ff-713f401c6927\")>,\n",
       " <selenium.webdriver.remote.webelement.WebElement (session=\"da497723be1072ff798e7d5a05710100\", element=\"1a90f613-a58d-4541-8999-2c7afa52519f\")>,\n",
       " <selenium.webdriver.remote.webelement.WebElement (session=\"da497723be1072ff798e7d5a05710100\", element=\"eb4c3229-7ad5-4360-9c55-fe79c470271a\")>]"
      ]
     },
     "execution_count": 151,
     "metadata": {},
     "output_type": "execute_result"
    }
   ],
   "source": [
    "eprnc_tags=driver.find_elements_by_xpath(\"//li[@class='fleft grey-text br2 placeHolderLi experience']\")\n",
    "eprnc_tags[0:10]"
   ]
  },
  {
   "cell_type": "code",
   "execution_count": 152,
   "metadata": {},
   "outputs": [
    {
     "data": {
      "text/plain": [
       "['4-9 Yrs',\n",
       " '5-10 Yrs',\n",
       " '5-10 Yrs',\n",
       " '8-12 Yrs',\n",
       " '8-10 Yrs',\n",
       " '5-6 Yrs',\n",
       " '4-5 Yrs',\n",
       " '3-6 Yrs',\n",
       " '4-7 Yrs',\n",
       " '4-7 Yrs']"
      ]
     },
     "execution_count": 152,
     "metadata": {},
     "output_type": "execute_result"
    }
   ],
   "source": [
    "for i in eprnc_tags:\n",
    "    eperiance_required.append(i.text)\n",
    "eperiance_required[0:10]    "
   ]
  },
  {
   "cell_type": "code",
   "execution_count": 155,
   "metadata": {},
   "outputs": [
    {
     "data": {
      "text/html": [
       "<div>\n",
       "<style scoped>\n",
       "    .dataframe tbody tr th:only-of-type {\n",
       "        vertical-align: middle;\n",
       "    }\n",
       "\n",
       "    .dataframe tbody tr th {\n",
       "        vertical-align: top;\n",
       "    }\n",
       "\n",
       "    .dataframe thead th {\n",
       "        text-align: right;\n",
       "    }\n",
       "</style>\n",
       "<table border=\"1\" class=\"dataframe\">\n",
       "  <thead>\n",
       "    <tr style=\"text-align: right;\">\n",
       "      <th></th>\n",
       "      <th>title</th>\n",
       "      <th>company</th>\n",
       "      <th>location</th>\n",
       "      <th>experiance required</th>\n",
       "    </tr>\n",
       "  </thead>\n",
       "  <tbody>\n",
       "    <tr>\n",
       "      <th>0</th>\n",
       "      <td>Lead Data Scientist</td>\n",
       "      <td>Huawei Technologies</td>\n",
       "      <td>Bangalore/Bengaluru</td>\n",
       "      <td>4-9 Yrs</td>\n",
       "    </tr>\n",
       "    <tr>\n",
       "      <th>1</th>\n",
       "      <td>Data Scientist / AI / ML Engineer</td>\n",
       "      <td>Hitachi Ltd.</td>\n",
       "      <td>Bangalore/Bengaluru</td>\n",
       "      <td>5-10 Yrs</td>\n",
       "    </tr>\n",
       "    <tr>\n",
       "      <th>2</th>\n",
       "      <td>Senior Data Scientist</td>\n",
       "      <td>GO-JEK India</td>\n",
       "      <td>Bangalore/Bengaluru</td>\n",
       "      <td>5-10 Yrs</td>\n",
       "    </tr>\n",
       "    <tr>\n",
       "      <th>3</th>\n",
       "      <td>Senior Data Scientist</td>\n",
       "      <td>Convergence Infotech Ltd</td>\n",
       "      <td>Bangalore/Bengaluru(Sadashiva Nagar)\\n(WFH dur...</td>\n",
       "      <td>8-12 Yrs</td>\n",
       "    </tr>\n",
       "    <tr>\n",
       "      <th>4</th>\n",
       "      <td>Senior Data Scientist, NLP</td>\n",
       "      <td>Thomson Reuters</td>\n",
       "      <td>Bangalore/Bengaluru</td>\n",
       "      <td>8-10 Yrs</td>\n",
       "    </tr>\n",
       "    <tr>\n",
       "      <th>5</th>\n",
       "      <td>Data Scientist/Senior Data Scientist - IT Serv...</td>\n",
       "      <td>Pylon Management Consulting Pvt Ltd</td>\n",
       "      <td>Hyderabad/Secunderabad, Pune, Gurgaon/Gurugram...</td>\n",
       "      <td>5-6 Yrs</td>\n",
       "    </tr>\n",
       "    <tr>\n",
       "      <th>6</th>\n",
       "      <td>Data Scientist</td>\n",
       "      <td>BRIDGETREE RESEARCH SERVICES PRIVATE LIMITED</td>\n",
       "      <td>Bangalore/Bengaluru(Whitefield)\\n(WFH during C...</td>\n",
       "      <td>4-5 Yrs</td>\n",
       "    </tr>\n",
       "    <tr>\n",
       "      <th>7</th>\n",
       "      <td>Data Scientist</td>\n",
       "      <td>Flipkart Internet Private Limited</td>\n",
       "      <td>Bangalore/Bengaluru</td>\n",
       "      <td>3-6 Yrs</td>\n",
       "    </tr>\n",
       "    <tr>\n",
       "      <th>8</th>\n",
       "      <td>Data Scientist - AI Flagship</td>\n",
       "      <td>Schneider Electric India Pvt. Ltd.</td>\n",
       "      <td>Bangalore/Bengaluru</td>\n",
       "      <td>4-7 Yrs</td>\n",
       "    </tr>\n",
       "    <tr>\n",
       "      <th>9</th>\n",
       "      <td>Data Scientist</td>\n",
       "      <td>GlaxoSmithKline Pharmaceuticals Limited</td>\n",
       "      <td>Bangalore/Bengaluru</td>\n",
       "      <td>4-7 Yrs</td>\n",
       "    </tr>\n",
       "  </tbody>\n",
       "</table>\n",
       "</div>"
      ],
      "text/plain": [
       "                                               title  \\\n",
       "0                                Lead Data Scientist   \n",
       "1                  Data Scientist / AI / ML Engineer   \n",
       "2                              Senior Data Scientist   \n",
       "3                              Senior Data Scientist   \n",
       "4                         Senior Data Scientist, NLP   \n",
       "5  Data Scientist/Senior Data Scientist - IT Serv...   \n",
       "6                                     Data Scientist   \n",
       "7                                     Data Scientist   \n",
       "8                       Data Scientist - AI Flagship   \n",
       "9                                     Data Scientist   \n",
       "\n",
       "                                        company  \\\n",
       "0                           Huawei Technologies   \n",
       "1                                  Hitachi Ltd.   \n",
       "2                                  GO-JEK India   \n",
       "3                      Convergence Infotech Ltd   \n",
       "4                               Thomson Reuters   \n",
       "5           Pylon Management Consulting Pvt Ltd   \n",
       "6  BRIDGETREE RESEARCH SERVICES PRIVATE LIMITED   \n",
       "7             Flipkart Internet Private Limited   \n",
       "8            Schneider Electric India Pvt. Ltd.   \n",
       "9       GlaxoSmithKline Pharmaceuticals Limited   \n",
       "\n",
       "                                            location experiance required  \n",
       "0                                Bangalore/Bengaluru             4-9 Yrs  \n",
       "1                                Bangalore/Bengaluru            5-10 Yrs  \n",
       "2                                Bangalore/Bengaluru            5-10 Yrs  \n",
       "3  Bangalore/Bengaluru(Sadashiva Nagar)\\n(WFH dur...            8-12 Yrs  \n",
       "4                                Bangalore/Bengaluru            8-10 Yrs  \n",
       "5  Hyderabad/Secunderabad, Pune, Gurgaon/Gurugram...             5-6 Yrs  \n",
       "6  Bangalore/Bengaluru(Whitefield)\\n(WFH during C...             4-5 Yrs  \n",
       "7                                Bangalore/Bengaluru             3-6 Yrs  \n",
       "8                                Bangalore/Bengaluru             4-7 Yrs  \n",
       "9                                Bangalore/Bengaluru             4-7 Yrs  "
      ]
     },
     "execution_count": 155,
     "metadata": {},
     "output_type": "execute_result"
    }
   ],
   "source": [
    "jbs=pd.DataFrame({})\n",
    "jbs['title']=jb_title[0:10]\n",
    "jbs['company']=cmpany_name[0:10]\n",
    "jbs['location']=jb_location[0:10]\n",
    "jbs['experiance required']=eperiance_required[0:10]\n",
    "jbs"
   ]
  },
  {
   "cell_type": "markdown",
   "metadata": {},
   "source": [
    "# Q3: In this question you have to scrape data using the filters available on the \n",
    "webpage as shown below:\n",
    "You have to use the location and salary filter.\n",
    "You have to scrape data for “Data Scientist” designation for first 10 job results.\n",
    "You have to scrape the job-title, job-location, company_name,\n",
    "experience_required.\n",
    "The location filter to be used is “Delhi/NCR”\n",
    "The salary filter to be used is “3-6” lakhs\n",
    "The task will be done as shown in the below steps:\n",
    "1. first get the webpage https://www.naukri.com/\n",
    "2. Enter “Data Scientist” in “Skill,Designations,Companies” field .WEB SCRAPING ASSIGNMENT-2\n",
    ".\n",
    "3. Then click the search button.\n",
    "4. Then apply the location filter and salary filter by checking the respective boxes\n",
    "4. Then scrape the data for the first 10 jobs results you get.\n",
    "5. Finally create a dataframe of the scraped data.\n",
    "Note- All of the above steps have to be done in code. No step is to be done"
   ]
  },
  {
   "cell_type": "code",
   "execution_count": 2,
   "metadata": {},
   "outputs": [],
   "source": [
    "driver =webdriver.Chrome(r'C:\\Users\\Om Prakash\\Downloads\\chromedriver_win32/chromedriver.exe')"
   ]
  },
  {
   "cell_type": "code",
   "execution_count": 3,
   "metadata": {},
   "outputs": [],
   "source": [
    "driver=webdriver.Chrome('chromedriver.exe')"
   ]
  },
  {
   "cell_type": "code",
   "execution_count": 4,
   "metadata": {},
   "outputs": [],
   "source": [
    "driver.get('https://www.naukri.com/')"
   ]
  },
  {
   "cell_type": "code",
   "execution_count": 5,
   "metadata": {},
   "outputs": [],
   "source": [
    "search_job=driver.find_element_by_id('qsb-keyword-sugg')\n",
    "search_job.send_keys('data scientist')"
   ]
  },
  {
   "cell_type": "code",
   "execution_count": 6,
   "metadata": {},
   "outputs": [],
   "source": [
    "serch_loc=driver.find_element_by_xpath(\"//input[@id='qsb-location-sugg']\")\n",
    "serch_loc.send_keys(\"delhi/ncr\")"
   ]
  },
  {
   "cell_type": "code",
   "execution_count": 7,
   "metadata": {},
   "outputs": [],
   "source": [
    "search=driver.find_element_by_xpath(\"//div[@class='search-btn']\")\n",
    "search.click()"
   ]
  },
  {
   "cell_type": "code",
   "execution_count": 8,
   "metadata": {},
   "outputs": [],
   "source": [
    "url=('https://www.naukri.com/data-scientist-jobs-in-delhi-ncr?k=data%20scientist&l=delhi%2Fncr')"
   ]
  },
  {
   "cell_type": "code",
   "execution_count": 9,
   "metadata": {},
   "outputs": [],
   "source": [
    "driver.get(url)"
   ]
  },
  {
   "cell_type": "code",
   "execution_count": 10,
   "metadata": {},
   "outputs": [],
   "source": [
    "jb_titl=[]\n",
    "jb_locatio=[]\n",
    "cmpany_nam=[]\n",
    "eperiance_require=[]"
   ]
  },
  {
   "cell_type": "code",
   "execution_count": 11,
   "metadata": {},
   "outputs": [
    {
     "data": {
      "text/plain": [
       "[<selenium.webdriver.remote.webelement.WebElement (session=\"ca8f63330222ececf55a7f35fd38827f\", element=\"0d0b5d2f-d463-4d8a-9199-2d27c0fc34e8\")>,\n",
       " <selenium.webdriver.remote.webelement.WebElement (session=\"ca8f63330222ececf55a7f35fd38827f\", element=\"208c8d2c-1993-42a3-9270-642d8dea361b\")>,\n",
       " <selenium.webdriver.remote.webelement.WebElement (session=\"ca8f63330222ececf55a7f35fd38827f\", element=\"63e4f289-7a06-47fd-8000-176d473aa0fb\")>,\n",
       " <selenium.webdriver.remote.webelement.WebElement (session=\"ca8f63330222ececf55a7f35fd38827f\", element=\"0e2d90dc-b1fe-4069-acf2-1da3b5ced832\")>,\n",
       " <selenium.webdriver.remote.webelement.WebElement (session=\"ca8f63330222ececf55a7f35fd38827f\", element=\"df30f94f-b7cb-417e-bcc4-1c1c43aab4c1\")>,\n",
       " <selenium.webdriver.remote.webelement.WebElement (session=\"ca8f63330222ececf55a7f35fd38827f\", element=\"1523418e-669f-4c2a-8d7e-5d5d3721aa5f\")>,\n",
       " <selenium.webdriver.remote.webelement.WebElement (session=\"ca8f63330222ececf55a7f35fd38827f\", element=\"78da4bfc-12bc-4731-acbe-2b50939ed8cb\")>,\n",
       " <selenium.webdriver.remote.webelement.WebElement (session=\"ca8f63330222ececf55a7f35fd38827f\", element=\"1b86937c-3254-47d6-9d23-c51114796011\")>,\n",
       " <selenium.webdriver.remote.webelement.WebElement (session=\"ca8f63330222ececf55a7f35fd38827f\", element=\"7dddf819-fe51-4b87-84c2-a7d2d3c91fe7\")>,\n",
       " <selenium.webdriver.remote.webelement.WebElement (session=\"ca8f63330222ececf55a7f35fd38827f\", element=\"02df7b26-847b-4fd6-8cd3-35daed89a4e3\")>]"
      ]
     },
     "execution_count": 11,
     "metadata": {},
     "output_type": "execute_result"
    }
   ],
   "source": [
    "jb_tag=driver.find_elements_by_xpath(\"//a[@class='title fw500 ellipsis']\")\n",
    "jb_tag[0:10]"
   ]
  },
  {
   "cell_type": "code",
   "execution_count": 12,
   "metadata": {},
   "outputs": [
    {
     "data": {
      "text/plain": [
       "['Senior Data Scientist',\n",
       " 'Data Scientist/Senior Data Scientist - IT Services Firm',\n",
       " 'Job Opportunity || Data Scientist || HCL Technologies',\n",
       " 'Senior Data Scientist',\n",
       " 'Conservation Data Scientist',\n",
       " 'Data Scientist - Sales Analytics',\n",
       " 'Senior Data Scientist',\n",
       " 'Data Scientist - SQL/Predictive Analytics',\n",
       " 'Data Scientist / Machine Learning Engineer - Python / SQL / Spark',\n",
       " 'Co-Founder & Principal Data Scientist/Senior Scientist - NLP/Python']"
      ]
     },
     "execution_count": 12,
     "metadata": {},
     "output_type": "execute_result"
    }
   ],
   "source": [
    "for i in jb_tag:\n",
    "    jb_titl.append(i.text)\n",
    "jb_titl[0:10]    "
   ]
  },
  {
   "cell_type": "code",
   "execution_count": 13,
   "metadata": {},
   "outputs": [
    {
     "data": {
      "text/plain": [
       "[<selenium.webdriver.remote.webelement.WebElement (session=\"ca8f63330222ececf55a7f35fd38827f\", element=\"a82bf038-85a5-45ee-b6f6-3188c1eeede3\")>,\n",
       " <selenium.webdriver.remote.webelement.WebElement (session=\"ca8f63330222ececf55a7f35fd38827f\", element=\"9c87220e-e4e1-4ed6-8450-fbc2845577af\")>,\n",
       " <selenium.webdriver.remote.webelement.WebElement (session=\"ca8f63330222ececf55a7f35fd38827f\", element=\"66698641-9b67-43c4-beec-778caedf2975\")>,\n",
       " <selenium.webdriver.remote.webelement.WebElement (session=\"ca8f63330222ececf55a7f35fd38827f\", element=\"03bcb7a8-1074-46e3-a5dc-82ea8b8664b8\")>,\n",
       " <selenium.webdriver.remote.webelement.WebElement (session=\"ca8f63330222ececf55a7f35fd38827f\", element=\"0d4c83b3-9dd6-4676-a0e4-7c105c932813\")>,\n",
       " <selenium.webdriver.remote.webelement.WebElement (session=\"ca8f63330222ececf55a7f35fd38827f\", element=\"6a5aa377-923d-4b6f-9012-df38bb28b619\")>,\n",
       " <selenium.webdriver.remote.webelement.WebElement (session=\"ca8f63330222ececf55a7f35fd38827f\", element=\"fe654270-4be5-43df-ad45-16c2a78b7155\")>,\n",
       " <selenium.webdriver.remote.webelement.WebElement (session=\"ca8f63330222ececf55a7f35fd38827f\", element=\"dafa92d5-ad16-4712-afeb-59e60352485d\")>,\n",
       " <selenium.webdriver.remote.webelement.WebElement (session=\"ca8f63330222ececf55a7f35fd38827f\", element=\"7465a516-6255-43ee-97d4-52378870e2bd\")>,\n",
       " <selenium.webdriver.remote.webelement.WebElement (session=\"ca8f63330222ececf55a7f35fd38827f\", element=\"b367f47a-17b9-4521-a538-5689e82c9a85\")>]"
      ]
     },
     "execution_count": 13,
     "metadata": {},
     "output_type": "execute_result"
    }
   ],
   "source": [
    "location_tg=driver.find_elements_by_xpath(\"//li[@class='fleft grey-text br2 placeHolderLi location']\")\n",
    "location_tg[0:10]"
   ]
  },
  {
   "cell_type": "code",
   "execution_count": 15,
   "metadata": {},
   "outputs": [
    {
     "data": {
      "text/plain": [
       "['Noida, Bangalore/Bengaluru',\n",
       " 'Hyderabad/Secunderabad, Pune, Gurgaon/Gurugram, Bangalore/Bengaluru',\n",
       " 'Delhi / NCR',\n",
       " 'Noida, Hyderabad/Secunderabad, Chennai',\n",
       " 'Dehradun, New Delhi',\n",
       " 'Noida',\n",
       " 'Noida',\n",
       " 'Gurgaon/Gurugram',\n",
       " 'Hyderabad/Secunderabad, Pune, Chennai, Gurgaon/Gurugram, Bangalore/Bengaluru',\n",
       " 'Gurgaon/Gurugram, Delhi / NCR']"
      ]
     },
     "execution_count": 15,
     "metadata": {},
     "output_type": "execute_result"
    }
   ],
   "source": [
    "for i in location_tg:\n",
    "    jb_locatio.append(i.text)\n",
    "jb_locatio[0:10]   "
   ]
  },
  {
   "cell_type": "code",
   "execution_count": 16,
   "metadata": {},
   "outputs": [
    {
     "data": {
      "text/plain": [
       "[<selenium.webdriver.remote.webelement.WebElement (session=\"ca8f63330222ececf55a7f35fd38827f\", element=\"3ff9183e-192a-4a96-a76e-b63e8824fb14\")>,\n",
       " <selenium.webdriver.remote.webelement.WebElement (session=\"ca8f63330222ececf55a7f35fd38827f\", element=\"d4be6656-3be0-40b6-96a4-349dd6f4da7d\")>,\n",
       " <selenium.webdriver.remote.webelement.WebElement (session=\"ca8f63330222ececf55a7f35fd38827f\", element=\"1977134a-87d2-485f-a5ab-96abdbaead13\")>,\n",
       " <selenium.webdriver.remote.webelement.WebElement (session=\"ca8f63330222ececf55a7f35fd38827f\", element=\"0b91532c-c052-4981-b26c-a83adf383ba0\")>,\n",
       " <selenium.webdriver.remote.webelement.WebElement (session=\"ca8f63330222ececf55a7f35fd38827f\", element=\"3b253236-2002-407d-94fd-31bcbeadaeea\")>,\n",
       " <selenium.webdriver.remote.webelement.WebElement (session=\"ca8f63330222ececf55a7f35fd38827f\", element=\"f7fd7a50-d850-428a-b0a5-9c81c2d85c9d\")>,\n",
       " <selenium.webdriver.remote.webelement.WebElement (session=\"ca8f63330222ececf55a7f35fd38827f\", element=\"5c8f8456-9472-4eb5-b4f6-0403184d7d4d\")>,\n",
       " <selenium.webdriver.remote.webelement.WebElement (session=\"ca8f63330222ececf55a7f35fd38827f\", element=\"77a53a16-32ba-4b69-9b81-7ee97bd5da86\")>,\n",
       " <selenium.webdriver.remote.webelement.WebElement (session=\"ca8f63330222ececf55a7f35fd38827f\", element=\"cb5fbe8a-24d9-4c49-aa1e-bc2065188b80\")>,\n",
       " <selenium.webdriver.remote.webelement.WebElement (session=\"ca8f63330222ececf55a7f35fd38827f\", element=\"902de7eb-9757-42bd-b0d6-7901ab22ea46\")>]"
      ]
     },
     "execution_count": 16,
     "metadata": {},
     "output_type": "execute_result"
    }
   ],
   "source": [
    "cmpany_tag=driver.find_elements_by_xpath(\"//a[@class='subTitle ellipsis fleft']\")\n",
    "cmpany_tag[0:10]"
   ]
  },
  {
   "cell_type": "code",
   "execution_count": 17,
   "metadata": {},
   "outputs": [
    {
     "data": {
      "text/plain": [
       "['InnovAccer',\n",
       " 'Pylon Management Consulting Pvt Ltd',\n",
       " 'HCL Technologies',\n",
       " 'HCL Technologies Limited',\n",
       " 'World Wide Fund For Nature India',\n",
       " 'InnovAccer',\n",
       " 'HCL Technologies Limited',\n",
       " 'AVE-Promagne',\n",
       " 'Axcess consultancy services',\n",
       " 'Benovymed Healthcare']"
      ]
     },
     "execution_count": 17,
     "metadata": {},
     "output_type": "execute_result"
    }
   ],
   "source": [
    "for i in cmpany_tag:\n",
    "    cmpany_nam.append(i.text)\n",
    "cmpany_nam[0:10]   "
   ]
  },
  {
   "cell_type": "code",
   "execution_count": 18,
   "metadata": {},
   "outputs": [
    {
     "data": {
      "text/plain": [
       "[<selenium.webdriver.remote.webelement.WebElement (session=\"ca8f63330222ececf55a7f35fd38827f\", element=\"a89f287c-fad0-4359-a2fa-1aa5c472e8a5\")>,\n",
       " <selenium.webdriver.remote.webelement.WebElement (session=\"ca8f63330222ececf55a7f35fd38827f\", element=\"572afcfa-92ee-45f9-b000-2c829ae2d3bd\")>,\n",
       " <selenium.webdriver.remote.webelement.WebElement (session=\"ca8f63330222ececf55a7f35fd38827f\", element=\"b9bebf59-69e9-4abc-8c22-7c924a167515\")>,\n",
       " <selenium.webdriver.remote.webelement.WebElement (session=\"ca8f63330222ececf55a7f35fd38827f\", element=\"9b695b8b-c7ca-449e-b97e-769a841e3d54\")>,\n",
       " <selenium.webdriver.remote.webelement.WebElement (session=\"ca8f63330222ececf55a7f35fd38827f\", element=\"c419a3a2-8be3-4860-846b-7fea1924bf13\")>,\n",
       " <selenium.webdriver.remote.webelement.WebElement (session=\"ca8f63330222ececf55a7f35fd38827f\", element=\"2514a056-e5ef-4d67-a42b-7604352bd605\")>,\n",
       " <selenium.webdriver.remote.webelement.WebElement (session=\"ca8f63330222ececf55a7f35fd38827f\", element=\"bd5c776d-2ac2-4a64-8120-7f94e6d91dcd\")>,\n",
       " <selenium.webdriver.remote.webelement.WebElement (session=\"ca8f63330222ececf55a7f35fd38827f\", element=\"84310022-7df8-4a3e-acd2-116eaf02669f\")>,\n",
       " <selenium.webdriver.remote.webelement.WebElement (session=\"ca8f63330222ececf55a7f35fd38827f\", element=\"15340f79-8d36-4628-8ea1-06d86ab064fc\")>,\n",
       " <selenium.webdriver.remote.webelement.WebElement (session=\"ca8f63330222ececf55a7f35fd38827f\", element=\"367a22fa-c913-4969-a065-5db1f3f18650\")>]"
      ]
     },
     "execution_count": 18,
     "metadata": {},
     "output_type": "execute_result"
    }
   ],
   "source": [
    "eprnc_tag=driver.find_elements_by_xpath(\"//li[@class='fleft grey-text br2 placeHolderLi experience']\")\n",
    "eprnc_tag[0:10]"
   ]
  },
  {
   "cell_type": "code",
   "execution_count": 19,
   "metadata": {},
   "outputs": [
    {
     "data": {
      "text/plain": [
       "['5-10 Yrs',\n",
       " '5-6 Yrs',\n",
       " '4-7 Yrs',\n",
       " '10-15 Yrs',\n",
       " '6-11 Yrs',\n",
       " '5-10 Yrs',\n",
       " '8-13 Yrs',\n",
       " '3-8 Yrs',\n",
       " '2-7 Yrs',\n",
       " '6-11 Yrs']"
      ]
     },
     "execution_count": 19,
     "metadata": {},
     "output_type": "execute_result"
    }
   ],
   "source": [
    "for i in eprnc_tag:\n",
    "    eperiance_require.append(i.text)\n",
    "eperiance_require[0:10]    "
   ]
  },
  {
   "cell_type": "code",
   "execution_count": 21,
   "metadata": {},
   "outputs": [
    {
     "data": {
      "text/html": [
       "<div>\n",
       "<style scoped>\n",
       "    .dataframe tbody tr th:only-of-type {\n",
       "        vertical-align: middle;\n",
       "    }\n",
       "\n",
       "    .dataframe tbody tr th {\n",
       "        vertical-align: top;\n",
       "    }\n",
       "\n",
       "    .dataframe thead th {\n",
       "        text-align: right;\n",
       "    }\n",
       "</style>\n",
       "<table border=\"1\" class=\"dataframe\">\n",
       "  <thead>\n",
       "    <tr style=\"text-align: right;\">\n",
       "      <th></th>\n",
       "      <th>title</th>\n",
       "      <th>company</th>\n",
       "      <th>location</th>\n",
       "      <th>experiance required</th>\n",
       "    </tr>\n",
       "  </thead>\n",
       "  <tbody>\n",
       "    <tr>\n",
       "      <th>0</th>\n",
       "      <td>Senior Data Scientist</td>\n",
       "      <td>InnovAccer</td>\n",
       "      <td>Noida, Bangalore/Bengaluru</td>\n",
       "      <td>5-10 Yrs</td>\n",
       "    </tr>\n",
       "    <tr>\n",
       "      <th>1</th>\n",
       "      <td>Data Scientist/Senior Data Scientist - IT Serv...</td>\n",
       "      <td>Pylon Management Consulting Pvt Ltd</td>\n",
       "      <td>Hyderabad/Secunderabad, Pune, Gurgaon/Gurugram...</td>\n",
       "      <td>5-6 Yrs</td>\n",
       "    </tr>\n",
       "    <tr>\n",
       "      <th>2</th>\n",
       "      <td>Job Opportunity || Data Scientist || HCL Techn...</td>\n",
       "      <td>HCL Technologies</td>\n",
       "      <td>Delhi / NCR</td>\n",
       "      <td>4-7 Yrs</td>\n",
       "    </tr>\n",
       "    <tr>\n",
       "      <th>3</th>\n",
       "      <td>Senior Data Scientist</td>\n",
       "      <td>HCL Technologies Limited</td>\n",
       "      <td>Noida, Hyderabad/Secunderabad, Chennai</td>\n",
       "      <td>10-15 Yrs</td>\n",
       "    </tr>\n",
       "    <tr>\n",
       "      <th>4</th>\n",
       "      <td>Conservation Data Scientist</td>\n",
       "      <td>World Wide Fund For Nature India</td>\n",
       "      <td>Dehradun, New Delhi</td>\n",
       "      <td>6-11 Yrs</td>\n",
       "    </tr>\n",
       "    <tr>\n",
       "      <th>5</th>\n",
       "      <td>Data Scientist - Sales Analytics</td>\n",
       "      <td>InnovAccer</td>\n",
       "      <td>Noida</td>\n",
       "      <td>5-10 Yrs</td>\n",
       "    </tr>\n",
       "    <tr>\n",
       "      <th>6</th>\n",
       "      <td>Senior Data Scientist</td>\n",
       "      <td>HCL Technologies Limited</td>\n",
       "      <td>Noida</td>\n",
       "      <td>8-13 Yrs</td>\n",
       "    </tr>\n",
       "    <tr>\n",
       "      <th>7</th>\n",
       "      <td>Data Scientist - SQL/Predictive Analytics</td>\n",
       "      <td>AVE-Promagne</td>\n",
       "      <td>Gurgaon/Gurugram</td>\n",
       "      <td>3-8 Yrs</td>\n",
       "    </tr>\n",
       "    <tr>\n",
       "      <th>8</th>\n",
       "      <td>Data Scientist / Machine Learning Engineer - P...</td>\n",
       "      <td>Axcess consultancy services</td>\n",
       "      <td>Hyderabad/Secunderabad, Pune, Chennai, Gurgaon...</td>\n",
       "      <td>2-7 Yrs</td>\n",
       "    </tr>\n",
       "    <tr>\n",
       "      <th>9</th>\n",
       "      <td>Co-Founder &amp; Principal Data Scientist/Senior S...</td>\n",
       "      <td>Benovymed Healthcare</td>\n",
       "      <td>Gurgaon/Gurugram, Delhi / NCR</td>\n",
       "      <td>6-11 Yrs</td>\n",
       "    </tr>\n",
       "  </tbody>\n",
       "</table>\n",
       "</div>"
      ],
      "text/plain": [
       "                                               title  \\\n",
       "0                              Senior Data Scientist   \n",
       "1  Data Scientist/Senior Data Scientist - IT Serv...   \n",
       "2  Job Opportunity || Data Scientist || HCL Techn...   \n",
       "3                              Senior Data Scientist   \n",
       "4                        Conservation Data Scientist   \n",
       "5                   Data Scientist - Sales Analytics   \n",
       "6                              Senior Data Scientist   \n",
       "7          Data Scientist - SQL/Predictive Analytics   \n",
       "8  Data Scientist / Machine Learning Engineer - P...   \n",
       "9  Co-Founder & Principal Data Scientist/Senior S...   \n",
       "\n",
       "                               company  \\\n",
       "0                           InnovAccer   \n",
       "1  Pylon Management Consulting Pvt Ltd   \n",
       "2                     HCL Technologies   \n",
       "3             HCL Technologies Limited   \n",
       "4     World Wide Fund For Nature India   \n",
       "5                           InnovAccer   \n",
       "6             HCL Technologies Limited   \n",
       "7                         AVE-Promagne   \n",
       "8          Axcess consultancy services   \n",
       "9                 Benovymed Healthcare   \n",
       "\n",
       "                                            location experiance required  \n",
       "0                         Noida, Bangalore/Bengaluru            5-10 Yrs  \n",
       "1  Hyderabad/Secunderabad, Pune, Gurgaon/Gurugram...             5-6 Yrs  \n",
       "2                                        Delhi / NCR             4-7 Yrs  \n",
       "3             Noida, Hyderabad/Secunderabad, Chennai           10-15 Yrs  \n",
       "4                                Dehradun, New Delhi            6-11 Yrs  \n",
       "5                                              Noida            5-10 Yrs  \n",
       "6                                              Noida            8-13 Yrs  \n",
       "7                                   Gurgaon/Gurugram             3-8 Yrs  \n",
       "8  Hyderabad/Secunderabad, Pune, Chennai, Gurgaon...             2-7 Yrs  \n",
       "9                      Gurgaon/Gurugram, Delhi / NCR            6-11 Yrs  "
      ]
     },
     "execution_count": 21,
     "metadata": {},
     "output_type": "execute_result"
    }
   ],
   "source": [
    "delhi=pd.DataFrame({})\n",
    "delhi ['title']=jb_titl[0:10]\n",
    "delhi['company']=cmpany_nam[0:10]\n",
    "delhi ['location']=jb_locatio[0:10]\n",
    "delhi['experiance required']=eperiance_require[0:10]\n",
    "delhi"
   ]
  },
  {
   "cell_type": "markdown",
   "metadata": {},
   "source": [
    "# Q4: Write a python program to scrape data for first 10 job results for Data scientist \n",
    "Designation in Noida location. You have to scrape company_name, No. of days \n",
    "ago when job was posted, Rating of the company.\n",
    "This task will be done in following steps:\n",
    "1. first get the webpage https://www.glassdoor.co.in/index.htm\n",
    "2. Enter “Data Scientist” in “Job Title,Keyword,Company” field and enter “Noida” \n",
    "in “location” field.\n",
    "3. Then click the search button. You will land up in the below page:\n",
    "4. Then scrape the data for the first 10 jobs results you get in the above shown \n",
    "page.WEB SCRAPING ASSIGNMENT-2\n",
    ".\n",
    "5. Finally create a dataframe of the scraped data.\n",
    "Note- All of the above steps have to be done in code. No step is to be don"
   ]
  },
  {
   "cell_type": "code",
   "execution_count": 50,
   "metadata": {},
   "outputs": [],
   "source": [
    "driver =webdriver.Chrome(r'C:\\Users\\Om Prakash\\Downloads\\chromedriver_win32/chromedriver.exe')"
   ]
  },
  {
   "cell_type": "code",
   "execution_count": 51,
   "metadata": {},
   "outputs": [],
   "source": [
    "driver=webdriver.Chrome('chromedriver.exe')"
   ]
  },
  {
   "cell_type": "code",
   "execution_count": 52,
   "metadata": {},
   "outputs": [],
   "source": [
    "driver.get(' https://www.glassdoor.co.in/index.htm')"
   ]
  },
  {
   "cell_type": "code",
   "execution_count": 54,
   "metadata": {},
   "outputs": [],
   "source": [
    "search_job=driver.find_element_by_id('scKeyword')\n",
    "search_job.send_keys('data scientist')"
   ]
  },
  {
   "cell_type": "code",
   "execution_count": 55,
   "metadata": {},
   "outputs": [],
   "source": [
    "serch_loc=driver.find_element_by_xpath(\"//input[@id='scLocation']\")\n",
    "serch_loc.send_keys(\"noida\")"
   ]
  },
  {
   "cell_type": "code",
   "execution_count": 63,
   "metadata": {},
   "outputs": [],
   "source": [
    "search=driver.find_element_by_xpath(\"//div[@class='col search__SearchStyles__searchKeywordInput css-1ohf0ui']\")\n",
    "search.click()"
   ]
  },
  {
   "cell_type": "code",
   "execution_count": 65,
   "metadata": {},
   "outputs": [],
   "source": [
    "urls=('https://www.glassdoor.co.in/Job/noida-data-scientist-jobs-SRCH_IL.0,5_IC4477468_KO6,20.htm')"
   ]
  },
  {
   "cell_type": "code",
   "execution_count": 66,
   "metadata": {},
   "outputs": [],
   "source": [
    "driver.get(urls)"
   ]
  },
  {
   "cell_type": "code",
   "execution_count": 93,
   "metadata": {},
   "outputs": [],
   "source": [
    "jb_titls=[]\n",
    "jb_locati=[]\n",
    "cmpany_na=[]\n",
    "noida_salary=[]"
   ]
  },
  {
   "cell_type": "code",
   "execution_count": 94,
   "metadata": {},
   "outputs": [
    {
     "data": {
      "text/plain": [
       "[<selenium.webdriver.remote.webelement.WebElement (session=\"78b6aa6bd089ccd7d5b76550e1ad0227\", element=\"c7a4093c-a9d9-4100-b969-37936efdd591\")>,\n",
       " <selenium.webdriver.remote.webelement.WebElement (session=\"78b6aa6bd089ccd7d5b76550e1ad0227\", element=\"c922dab4-2bd5-4067-91f0-b3d1d3f2974a\")>,\n",
       " <selenium.webdriver.remote.webelement.WebElement (session=\"78b6aa6bd089ccd7d5b76550e1ad0227\", element=\"802fe2d0-bbfc-4a42-8d1c-4eb488aa08f1\")>,\n",
       " <selenium.webdriver.remote.webelement.WebElement (session=\"78b6aa6bd089ccd7d5b76550e1ad0227\", element=\"0d0565fc-2d99-47e6-9c65-bff8391ffe8a\")>,\n",
       " <selenium.webdriver.remote.webelement.WebElement (session=\"78b6aa6bd089ccd7d5b76550e1ad0227\", element=\"16bef96a-ee03-4622-b77c-29d913ac80fb\")>,\n",
       " <selenium.webdriver.remote.webelement.WebElement (session=\"78b6aa6bd089ccd7d5b76550e1ad0227\", element=\"303d9920-4829-4062-935c-7d71da9bb869\")>,\n",
       " <selenium.webdriver.remote.webelement.WebElement (session=\"78b6aa6bd089ccd7d5b76550e1ad0227\", element=\"858bfd1c-3a1d-424c-abd7-b628eba78662\")>,\n",
       " <selenium.webdriver.remote.webelement.WebElement (session=\"78b6aa6bd089ccd7d5b76550e1ad0227\", element=\"a1d0ef1f-84b5-441f-805e-1a73dc84dc95\")>,\n",
       " <selenium.webdriver.remote.webelement.WebElement (session=\"78b6aa6bd089ccd7d5b76550e1ad0227\", element=\"576b9d64-72f1-4da5-a225-ce2fabb93734\")>,\n",
       " <selenium.webdriver.remote.webelement.WebElement (session=\"78b6aa6bd089ccd7d5b76550e1ad0227\", element=\"24688228-b51c-45b5-9abd-b7012dc156f5\")>]"
      ]
     },
     "execution_count": 94,
     "metadata": {},
     "output_type": "execute_result"
    }
   ],
   "source": [
    "noida_jb_tag=driver.find_elements_by_xpath(\"//a[@class='jobLink job-search-key-1rd3saf eigr9kq1']\")\n",
    "noida_jb_tag[0:10]"
   ]
  },
  {
   "cell_type": "code",
   "execution_count": 95,
   "metadata": {},
   "outputs": [
    {
     "data": {
      "text/plain": [
       "['GIS Data Scientist',\n",
       " 'Data Scientist',\n",
       " 'Data Scientist - Sales Analytics',\n",
       " 'Associate Manager Data Scientist - Noida, UP',\n",
       " 'Data Scientist-CAI',\n",
       " 'Data Scientist',\n",
       " 'Data Scientist – Gurgaon/Noida',\n",
       " 'Data Scientist Intern',\n",
       " 'Associate Data Scientist',\n",
       " 'Data Scientist Intern']"
      ]
     },
     "execution_count": 95,
     "metadata": {},
     "output_type": "execute_result"
    }
   ],
   "source": [
    "for i in noida_jb_tag:\n",
    "    jb_titls.append(i.text)\n",
    "jb_titls[0:10]    "
   ]
  },
  {
   "cell_type": "code",
   "execution_count": 96,
   "metadata": {},
   "outputs": [
    {
     "data": {
      "text/plain": [
       "[<selenium.webdriver.remote.webelement.WebElement (session=\"78b6aa6bd089ccd7d5b76550e1ad0227\", element=\"e51bf2a1-fb78-4d40-9c55-9562d5ed69e0\")>,\n",
       " <selenium.webdriver.remote.webelement.WebElement (session=\"78b6aa6bd089ccd7d5b76550e1ad0227\", element=\"35c50933-65ad-4d93-ae39-8d51119332db\")>,\n",
       " <selenium.webdriver.remote.webelement.WebElement (session=\"78b6aa6bd089ccd7d5b76550e1ad0227\", element=\"aacafd78-eea8-41f6-9564-b8f5f6b937fc\")>,\n",
       " <selenium.webdriver.remote.webelement.WebElement (session=\"78b6aa6bd089ccd7d5b76550e1ad0227\", element=\"14f6ff18-dca6-4803-a46a-ff76d84f2d77\")>,\n",
       " <selenium.webdriver.remote.webelement.WebElement (session=\"78b6aa6bd089ccd7d5b76550e1ad0227\", element=\"8821a6b5-9b3b-4fc7-9a9b-daa64fe873d8\")>,\n",
       " <selenium.webdriver.remote.webelement.WebElement (session=\"78b6aa6bd089ccd7d5b76550e1ad0227\", element=\"73550ca0-b850-477a-b37b-5d7604ff97f9\")>,\n",
       " <selenium.webdriver.remote.webelement.WebElement (session=\"78b6aa6bd089ccd7d5b76550e1ad0227\", element=\"615e5ab3-71da-4ba4-86df-ded0fc6b169d\")>,\n",
       " <selenium.webdriver.remote.webelement.WebElement (session=\"78b6aa6bd089ccd7d5b76550e1ad0227\", element=\"7c079da0-9423-40f6-8324-d64815928d38\")>,\n",
       " <selenium.webdriver.remote.webelement.WebElement (session=\"78b6aa6bd089ccd7d5b76550e1ad0227\", element=\"924fdda2-d22a-4e95-a89d-d1a3cbaa8358\")>,\n",
       " <selenium.webdriver.remote.webelement.WebElement (session=\"78b6aa6bd089ccd7d5b76550e1ad0227\", element=\"b1c9aea6-b286-4158-b258-8d291dd70618\")>]"
      ]
     },
     "execution_count": 96,
     "metadata": {},
     "output_type": "execute_result"
    }
   ],
   "source": [
    "noida_location_tg=driver.find_elements_by_xpath(\"//div[@class='d-flex flex-wrap job-search-key-1m2z0go e1rrn5ka2']\")\n",
    "noida_location_tg[0:10]"
   ]
  },
  {
   "cell_type": "code",
   "execution_count": 97,
   "metadata": {},
   "outputs": [
    {
     "data": {
      "text/plain": [
       "['Noida',\n",
       " 'Noida\\n13d',\n",
       " 'Noida',\n",
       " 'Noida',\n",
       " 'Gurgaon',\n",
       " 'Noida',\n",
       " 'Noida\\n22d',\n",
       " 'Noida\\n30d+',\n",
       " 'Noida',\n",
       " 'New Delhi\\nEasy Apply\\n17d']"
      ]
     },
     "execution_count": 97,
     "metadata": {},
     "output_type": "execute_result"
    }
   ],
   "source": [
    "for i in noida_location_tg:\n",
    "    jb_locati.append(i.text)\n",
    "jb_locati[0:10]   "
   ]
  },
  {
   "cell_type": "code",
   "execution_count": 98,
   "metadata": {},
   "outputs": [
    {
     "data": {
      "text/plain": [
       "[<selenium.webdriver.remote.webelement.WebElement (session=\"78b6aa6bd089ccd7d5b76550e1ad0227\", element=\"ce9a949f-a904-46d9-a0a9-511c69a49298\")>,\n",
       " <selenium.webdriver.remote.webelement.WebElement (session=\"78b6aa6bd089ccd7d5b76550e1ad0227\", element=\"890c0974-9498-400f-963e-45da6a24b984\")>,\n",
       " <selenium.webdriver.remote.webelement.WebElement (session=\"78b6aa6bd089ccd7d5b76550e1ad0227\", element=\"cb4e9bd4-ff32-4877-a443-d95ed4d79784\")>,\n",
       " <selenium.webdriver.remote.webelement.WebElement (session=\"78b6aa6bd089ccd7d5b76550e1ad0227\", element=\"70de36da-b9a8-4fa3-a541-44f33b70e3e9\")>,\n",
       " <selenium.webdriver.remote.webelement.WebElement (session=\"78b6aa6bd089ccd7d5b76550e1ad0227\", element=\"ad089cd0-d793-48eb-995d-fb281a1f8aaf\")>,\n",
       " <selenium.webdriver.remote.webelement.WebElement (session=\"78b6aa6bd089ccd7d5b76550e1ad0227\", element=\"5c1578a3-a0ce-4ee2-9dae-2332797e66d3\")>,\n",
       " <selenium.webdriver.remote.webelement.WebElement (session=\"78b6aa6bd089ccd7d5b76550e1ad0227\", element=\"d5174152-91cc-4ae1-bc52-505f1481df28\")>,\n",
       " <selenium.webdriver.remote.webelement.WebElement (session=\"78b6aa6bd089ccd7d5b76550e1ad0227\", element=\"a6a6340f-e5b3-48bf-8c11-34ab3c798d6e\")>,\n",
       " <selenium.webdriver.remote.webelement.WebElement (session=\"78b6aa6bd089ccd7d5b76550e1ad0227\", element=\"088fe964-3f99-4125-a46d-b70a4db522d0\")>,\n",
       " <selenium.webdriver.remote.webelement.WebElement (session=\"78b6aa6bd089ccd7d5b76550e1ad0227\", element=\"ee8554c8-ec00-4bfb-b126-238a923ffe70\")>]"
      ]
     },
     "execution_count": 98,
     "metadata": {},
     "output_type": "execute_result"
    }
   ],
   "source": [
    "noida_cmpany_tag=driver.find_elements_by_xpath(\"//a[@class=' job-search-key-l2wjgv e1n63ojh0 jobLink']\")\n",
    "noida_cmpany_tag[0:10]"
   ]
  },
  {
   "cell_type": "code",
   "execution_count": 99,
   "metadata": {},
   "outputs": [
    {
     "data": {
      "text/plain": [
       "['Pixel Vision',\n",
       " 'Crowe',\n",
       " 'Innovacer',\n",
       " 'UnitedHealth Group',\n",
       " 'HDFC Bank',\n",
       " 'AlgoScale Technologies Private Limited',\n",
       " 'Optum - India',\n",
       " 'Salasar New Age Technologies',\n",
       " 'Liberin Technologies Private Limited',\n",
       " 'CODEC Networks Pvt ltd']"
      ]
     },
     "execution_count": 99,
     "metadata": {},
     "output_type": "execute_result"
    }
   ],
   "source": [
    "for i in noida_cmpany_tag:\n",
    "    cmpany_na.append(i.text)\n",
    "cmpany_na[0:10] "
   ]
  },
  {
   "cell_type": "code",
   "execution_count": 100,
   "metadata": {},
   "outputs": [
    {
     "data": {
      "text/plain": [
       "[<selenium.webdriver.remote.webelement.WebElement (session=\"78b6aa6bd089ccd7d5b76550e1ad0227\", element=\"560c9123-70e3-4659-895a-50e0ee2c2c7e\")>,\n",
       " <selenium.webdriver.remote.webelement.WebElement (session=\"78b6aa6bd089ccd7d5b76550e1ad0227\", element=\"92eb147b-b270-48e4-99d1-1db55912f521\")>,\n",
       " <selenium.webdriver.remote.webelement.WebElement (session=\"78b6aa6bd089ccd7d5b76550e1ad0227\", element=\"75605aec-e3fd-4581-8158-9dea1bd17539\")>,\n",
       " <selenium.webdriver.remote.webelement.WebElement (session=\"78b6aa6bd089ccd7d5b76550e1ad0227\", element=\"9a186248-bcff-4a83-9214-89abdbc0218d\")>,\n",
       " <selenium.webdriver.remote.webelement.WebElement (session=\"78b6aa6bd089ccd7d5b76550e1ad0227\", element=\"5dbb4bd7-bac0-4b42-8811-1a74c3c6db3b\")>,\n",
       " <selenium.webdriver.remote.webelement.WebElement (session=\"78b6aa6bd089ccd7d5b76550e1ad0227\", element=\"4006812e-421f-4e35-a1a4-73c0e66fdcb9\")>,\n",
       " <selenium.webdriver.remote.webelement.WebElement (session=\"78b6aa6bd089ccd7d5b76550e1ad0227\", element=\"14aa2838-5df1-40e7-b624-cfeba84b981e\")>,\n",
       " <selenium.webdriver.remote.webelement.WebElement (session=\"78b6aa6bd089ccd7d5b76550e1ad0227\", element=\"79fb7254-f8ea-4829-b424-9e7a27e4c6ea\")>,\n",
       " <selenium.webdriver.remote.webelement.WebElement (session=\"78b6aa6bd089ccd7d5b76550e1ad0227\", element=\"6b0ef8ba-28e1-4958-b62e-defe64bd4afd\")>,\n",
       " <selenium.webdriver.remote.webelement.WebElement (session=\"78b6aa6bd089ccd7d5b76550e1ad0227\", element=\"e3823a49-a0b9-4388-b7f2-7cd7855cfa9e\")>]"
      ]
     },
     "execution_count": 100,
     "metadata": {},
     "output_type": "execute_result"
    }
   ],
   "source": [
    "noida_salary_tag=driver.find_elements_by_xpath(\"//div[@class='css-1buaf54 pr-xxsm']\")\n",
    "noida_salary_tag[0:10]"
   ]
  },
  {
   "cell_type": "code",
   "execution_count": 101,
   "metadata": {},
   "outputs": [
    {
     "data": {
      "text/plain": [
       "['₹8L - ₹14L (Employer Est.)',\n",
       " '₹5L - ₹9L (Glassdoor Est.)',\n",
       " '₹6L - ₹9L (Glassdoor Est.)',\n",
       " '₹6L - ₹7L (Glassdoor Est.)',\n",
       " '₹4L - ₹14L (Employer Est.)',\n",
       " '₹3L - ₹7L (Employer Est.)',\n",
       " '₹4L - ₹7L (Glassdoor Est.)',\n",
       " '₹8L - ₹9L (Glassdoor Est.)',\n",
       " '₹6L - ₹9L (Glassdoor Est.)',\n",
       " '₹4L - ₹7L (Glassdoor Est.)']"
      ]
     },
     "execution_count": 101,
     "metadata": {},
     "output_type": "execute_result"
    }
   ],
   "source": [
    "for i in noida_salary_tag:\n",
    "    noida_salary.append(i.text)\n",
    "noida_salary[0:10]"
   ]
  },
  {
   "cell_type": "code",
   "execution_count": 102,
   "metadata": {},
   "outputs": [
    {
     "name": "stdout",
     "output_type": "stream",
     "text": [
      "20 30 30 13\n"
     ]
    }
   ],
   "source": [
    "print(len(jb_titl),len(cmpany_na),len(jb_locati),len(noida_salary))"
   ]
  },
  {
   "cell_type": "code",
   "execution_count": 103,
   "metadata": {},
   "outputs": [
    {
     "data": {
      "text/html": [
       "<div>\n",
       "<style scoped>\n",
       "    .dataframe tbody tr th:only-of-type {\n",
       "        vertical-align: middle;\n",
       "    }\n",
       "\n",
       "    .dataframe tbody tr th {\n",
       "        vertical-align: top;\n",
       "    }\n",
       "\n",
       "    .dataframe thead th {\n",
       "        text-align: right;\n",
       "    }\n",
       "</style>\n",
       "<table border=\"1\" class=\"dataframe\">\n",
       "  <thead>\n",
       "    <tr style=\"text-align: right;\">\n",
       "      <th></th>\n",
       "      <th>title</th>\n",
       "      <th>company</th>\n",
       "      <th>location</th>\n",
       "      <th>salary</th>\n",
       "    </tr>\n",
       "  </thead>\n",
       "  <tbody>\n",
       "    <tr>\n",
       "      <th>0</th>\n",
       "      <td>GIS Data Scientist</td>\n",
       "      <td>Pixel Vision</td>\n",
       "      <td>Noida</td>\n",
       "      <td>₹8L - ₹14L (Employer Est.)</td>\n",
       "    </tr>\n",
       "    <tr>\n",
       "      <th>1</th>\n",
       "      <td>Data Scientist</td>\n",
       "      <td>Crowe</td>\n",
       "      <td>Noida\\n13d</td>\n",
       "      <td>₹5L - ₹9L (Glassdoor Est.)</td>\n",
       "    </tr>\n",
       "    <tr>\n",
       "      <th>2</th>\n",
       "      <td>Data Scientist - Sales Analytics</td>\n",
       "      <td>Innovacer</td>\n",
       "      <td>Noida</td>\n",
       "      <td>₹6L - ₹9L (Glassdoor Est.)</td>\n",
       "    </tr>\n",
       "    <tr>\n",
       "      <th>3</th>\n",
       "      <td>Associate Manager Data Scientist - Noida, UP</td>\n",
       "      <td>UnitedHealth Group</td>\n",
       "      <td>Noida</td>\n",
       "      <td>₹6L - ₹7L (Glassdoor Est.)</td>\n",
       "    </tr>\n",
       "    <tr>\n",
       "      <th>4</th>\n",
       "      <td>Data Scientist-CAI</td>\n",
       "      <td>HDFC Bank</td>\n",
       "      <td>Gurgaon</td>\n",
       "      <td>₹4L - ₹14L (Employer Est.)</td>\n",
       "    </tr>\n",
       "    <tr>\n",
       "      <th>5</th>\n",
       "      <td>Data Scientist</td>\n",
       "      <td>AlgoScale Technologies Private Limited</td>\n",
       "      <td>Noida</td>\n",
       "      <td>₹3L - ₹7L (Employer Est.)</td>\n",
       "    </tr>\n",
       "    <tr>\n",
       "      <th>6</th>\n",
       "      <td>Data Scientist – Gurgaon/Noida</td>\n",
       "      <td>Optum - India</td>\n",
       "      <td>Noida\\n22d</td>\n",
       "      <td>₹4L - ₹7L (Glassdoor Est.)</td>\n",
       "    </tr>\n",
       "    <tr>\n",
       "      <th>7</th>\n",
       "      <td>Data Scientist Intern</td>\n",
       "      <td>Salasar New Age Technologies</td>\n",
       "      <td>Noida\\n30d+</td>\n",
       "      <td>₹8L - ₹9L (Glassdoor Est.)</td>\n",
       "    </tr>\n",
       "    <tr>\n",
       "      <th>8</th>\n",
       "      <td>Associate Data Scientist</td>\n",
       "      <td>Liberin Technologies Private Limited</td>\n",
       "      <td>Noida</td>\n",
       "      <td>₹6L - ₹9L (Glassdoor Est.)</td>\n",
       "    </tr>\n",
       "    <tr>\n",
       "      <th>9</th>\n",
       "      <td>Data Scientist Intern</td>\n",
       "      <td>CODEC Networks Pvt ltd</td>\n",
       "      <td>New Delhi\\nEasy Apply\\n17d</td>\n",
       "      <td>₹4L - ₹7L (Glassdoor Est.)</td>\n",
       "    </tr>\n",
       "  </tbody>\n",
       "</table>\n",
       "</div>"
      ],
      "text/plain": [
       "                                          title  \\\n",
       "0                            GIS Data Scientist   \n",
       "1                                Data Scientist   \n",
       "2              Data Scientist - Sales Analytics   \n",
       "3  Associate Manager Data Scientist - Noida, UP   \n",
       "4                            Data Scientist-CAI   \n",
       "5                                Data Scientist   \n",
       "6                Data Scientist – Gurgaon/Noida   \n",
       "7                         Data Scientist Intern   \n",
       "8                      Associate Data Scientist   \n",
       "9                         Data Scientist Intern   \n",
       "\n",
       "                                  company                    location  \\\n",
       "0                            Pixel Vision                       Noida   \n",
       "1                                   Crowe                  Noida\\n13d   \n",
       "2                               Innovacer                       Noida   \n",
       "3                      UnitedHealth Group                       Noida   \n",
       "4                               HDFC Bank                     Gurgaon   \n",
       "5  AlgoScale Technologies Private Limited                       Noida   \n",
       "6                           Optum - India                  Noida\\n22d   \n",
       "7            Salasar New Age Technologies                 Noida\\n30d+   \n",
       "8    Liberin Technologies Private Limited                       Noida   \n",
       "9                  CODEC Networks Pvt ltd  New Delhi\\nEasy Apply\\n17d   \n",
       "\n",
       "                       salary  \n",
       "0  ₹8L - ₹14L (Employer Est.)  \n",
       "1  ₹5L - ₹9L (Glassdoor Est.)  \n",
       "2  ₹6L - ₹9L (Glassdoor Est.)  \n",
       "3  ₹6L - ₹7L (Glassdoor Est.)  \n",
       "4  ₹4L - ₹14L (Employer Est.)  \n",
       "5   ₹3L - ₹7L (Employer Est.)  \n",
       "6  ₹4L - ₹7L (Glassdoor Est.)  \n",
       "7  ₹8L - ₹9L (Glassdoor Est.)  \n",
       "8  ₹6L - ₹9L (Glassdoor Est.)  \n",
       "9  ₹4L - ₹7L (Glassdoor Est.)  "
      ]
     },
     "execution_count": 103,
     "metadata": {},
     "output_type": "execute_result"
    }
   ],
   "source": [
    "noida=pd.DataFrame({})\n",
    "noida['title']=jb_titls[0:10]\n",
    "noida['company']=cmpany_na[0:10]\n",
    "noida['location']=jb_locati[0:10]\n",
    "noida['salary']=noida_salary[0:10]\n",
    "noida"
   ]
  },
  {
   "cell_type": "markdown",
   "metadata": {},
   "source": [
    "# Q5: Write a python program to scrape the salary data for Data Scientist designation \n",
    "in Noida location.\n",
    "You have to scrape Company name, Number of salaries, Average salary, Min\n",
    "salary, Max Salary.\n",
    "The above task will be, done as shown in the below steps:\n",
    "1. first get the webpage https://www.glassdoor.co.in/Salaries/index.htm\n",
    "2. Enter “Data Scientist” in Job title field and “Noida” in location field.\n",
    "3. Click the search button.\n",
    "4. After that you will land on the below page \n",
    "You have to scrape whole data from this webpage\n",
    "5. Scrape data for first 10 companies. Scrape the min salary, max salary, company \n",
    "name, Average salary and rating of the company.\n",
    "6.Store the data in a dataframe.\n",
    "Note that all of the above steps have to be done by coding only and not manuall"
   ]
  },
  {
   "cell_type": "code",
   "execution_count": 2,
   "metadata": {},
   "outputs": [],
   "source": [
    "import selenium\n",
    "import pandas as pd\n",
    "from selenium import webdriver"
   ]
  },
  {
   "cell_type": "code",
   "execution_count": 3,
   "metadata": {},
   "outputs": [],
   "source": [
    "driver =webdriver.Chrome(r'C:\\Users\\Om Prakash\\Downloads\\chromedriver_win32/chromedriver.exe')"
   ]
  },
  {
   "cell_type": "code",
   "execution_count": 4,
   "metadata": {},
   "outputs": [],
   "source": [
    "driver=webdriver.Chrome('chromedriver.exe')"
   ]
  },
  {
   "cell_type": "code",
   "execution_count": 5,
   "metadata": {},
   "outputs": [],
   "source": [
    "driver.get(' https://www.glassdoor.co.in/Salaries/index.htm')"
   ]
  },
  {
   "cell_type": "code",
   "execution_count": 6,
   "metadata": {},
   "outputs": [],
   "source": [
    "search_job=driver.find_element_by_id(\"KeywordSearch\")\n",
    "search_job.send_keys(\"Data scientist\")"
   ]
  },
  {
   "cell_type": "code",
   "execution_count": 7,
   "metadata": {},
   "outputs": [],
   "source": [
    "serch_loc=driver.find_element_by_xpath(\"//input[@id='LocationSearch']\")\n",
    "serch_loc.send_keys(\"noida\")"
   ]
  },
  {
   "cell_type": "code",
   "execution_count": 11,
   "metadata": {},
   "outputs": [],
   "source": [
    "search=driver.find_element_by_xpath(\"//button[@class='gd-btn-mkt']\")\n",
    "search.click()"
   ]
  },
  {
   "cell_type": "code",
   "execution_count": 16,
   "metadata": {},
   "outputs": [],
   "source": [
    "urlss=('https://www.glassdoor.co.in/Salaries/new-delhi-data-scientist-salary-SRCH_IL.0,9_IM1083_KO10,24.htm?clickSource=searchBtn')"
   ]
  },
  {
   "cell_type": "code",
   "execution_count": 50,
   "metadata": {},
   "outputs": [],
   "source": [
    "driver.get(urlss)"
   ]
  },
  {
   "cell_type": "code",
   "execution_count": 51,
   "metadata": {},
   "outputs": [],
   "source": [
    "noi_jb_titls=[]\n",
    "no_of_salary=[]\n",
    "noi_average_salary=[]\n",
    "company_noi=[]\n",
    "no_of_salaries=[]"
   ]
  },
  {
   "cell_type": "code",
   "execution_count": null,
   "metadata": {},
   "outputs": [],
   "source": [
    " "
   ]
  },
  {
   "cell_type": "code",
   "execution_count": 53,
   "metadata": {},
   "outputs": [
    {
     "data": {
      "text/plain": [
       "[<selenium.webdriver.remote.webelement.WebElement (session=\"27f6cd2211da0339ec436c7fb5f6ff9b\", element=\"94db7a3d-33e8-499c-b5ce-2f70de1176f7\")>,\n",
       " <selenium.webdriver.remote.webelement.WebElement (session=\"27f6cd2211da0339ec436c7fb5f6ff9b\", element=\"c4c6abbb-94e0-4faf-bf5e-9128b1acc5d0\")>,\n",
       " <selenium.webdriver.remote.webelement.WebElement (session=\"27f6cd2211da0339ec436c7fb5f6ff9b\", element=\"564d716d-cf54-485d-9bb3-3e794565012e\")>,\n",
       " <selenium.webdriver.remote.webelement.WebElement (session=\"27f6cd2211da0339ec436c7fb5f6ff9b\", element=\"e02f33d9-ba11-47a2-bf63-775ac5c4c69b\")>,\n",
       " <selenium.webdriver.remote.webelement.WebElement (session=\"27f6cd2211da0339ec436c7fb5f6ff9b\", element=\"a829a371-0bc8-4291-a29c-3755be4ba9f0\")>,\n",
       " <selenium.webdriver.remote.webelement.WebElement (session=\"27f6cd2211da0339ec436c7fb5f6ff9b\", element=\"cb85e102-d85d-45ba-8cf1-eac910df30ba\")>,\n",
       " <selenium.webdriver.remote.webelement.WebElement (session=\"27f6cd2211da0339ec436c7fb5f6ff9b\", element=\"c5533e3d-4b15-4f13-a25f-b332a8048bcb\")>,\n",
       " <selenium.webdriver.remote.webelement.WebElement (session=\"27f6cd2211da0339ec436c7fb5f6ff9b\", element=\"3ccb2ba9-b787-414b-913e-ab51bf57db5c\")>,\n",
       " <selenium.webdriver.remote.webelement.WebElement (session=\"27f6cd2211da0339ec436c7fb5f6ff9b\", element=\"a194d78c-b494-4243-9a54-58451a7ac9be\")>,\n",
       " <selenium.webdriver.remote.webelement.WebElement (session=\"27f6cd2211da0339ec436c7fb5f6ff9b\", element=\"e433f110-4f97-4f7f-8c76-aadc6691da15\")>]"
      ]
     },
     "execution_count": 53,
     "metadata": {},
     "output_type": "execute_result"
    }
   ],
   "source": [
    "noi_titles_tags=driver.find_elements_by_xpath(\"//a[@class='css-f3vw95 e1aj7ssy3']\")\n",
    "noi_titles_tags[0:10]"
   ]
  },
  {
   "cell_type": "code",
   "execution_count": 54,
   "metadata": {},
   "outputs": [
    {
     "data": {
      "text/plain": [
       "['Tata Consultancy Services',\n",
       " 'IBM',\n",
       " 'Accenture',\n",
       " 'Ericsson-Worldwide',\n",
       " 'UnitedHealth Group',\n",
       " 'Delhivery',\n",
       " 'EXL Service',\n",
       " 'Optum',\n",
       " 'ZS Associates',\n",
       " 'Optum Global Solutions']"
      ]
     },
     "execution_count": 54,
     "metadata": {},
     "output_type": "execute_result"
    }
   ],
   "source": [
    "for i in noi_titles_tags:\n",
    "    noi_jb_titls.append(i.text)\n",
    "noi_jb_titls[0:10]    "
   ]
  },
  {
   "cell_type": "code",
   "execution_count": 55,
   "metadata": {},
   "outputs": [
    {
     "data": {
      "text/plain": [
       "[<selenium.webdriver.remote.webelement.WebElement (session=\"27f6cd2211da0339ec436c7fb5f6ff9b\", element=\"9e426072-1323-479b-b28c-a3ecf17524f4\")>,\n",
       " <selenium.webdriver.remote.webelement.WebElement (session=\"27f6cd2211da0339ec436c7fb5f6ff9b\", element=\"f5f7fae3-556a-4f30-a267-98b649abcaf5\")>,\n",
       " <selenium.webdriver.remote.webelement.WebElement (session=\"27f6cd2211da0339ec436c7fb5f6ff9b\", element=\"944bfc8c-0ba8-41d2-abd5-8f92ba60964d\")>,\n",
       " <selenium.webdriver.remote.webelement.WebElement (session=\"27f6cd2211da0339ec436c7fb5f6ff9b\", element=\"f8af81a9-b79b-417d-8fe5-a9796c0a2cf9\")>,\n",
       " <selenium.webdriver.remote.webelement.WebElement (session=\"27f6cd2211da0339ec436c7fb5f6ff9b\", element=\"0e57f2d8-f78d-4162-b546-e2b841e95a78\")>,\n",
       " <selenium.webdriver.remote.webelement.WebElement (session=\"27f6cd2211da0339ec436c7fb5f6ff9b\", element=\"d1f8ae8c-2fbc-4eec-932d-553e4f69cbab\")>,\n",
       " <selenium.webdriver.remote.webelement.WebElement (session=\"27f6cd2211da0339ec436c7fb5f6ff9b\", element=\"9c72249d-cce5-4db3-a55d-3357b61957d9\")>,\n",
       " <selenium.webdriver.remote.webelement.WebElement (session=\"27f6cd2211da0339ec436c7fb5f6ff9b\", element=\"0d562228-10ca-4e8d-9275-bbf292db8601\")>,\n",
       " <selenium.webdriver.remote.webelement.WebElement (session=\"27f6cd2211da0339ec436c7fb5f6ff9b\", element=\"fbc2e0b3-7d44-4b20-8b58-db56c3928763\")>,\n",
       " <selenium.webdriver.remote.webelement.WebElement (session=\"27f6cd2211da0339ec436c7fb5f6ff9b\", element=\"be78bd21-18f0-48ca-be3d-0ee29df79f9e\")>]"
      ]
     },
     "execution_count": 55,
     "metadata": {},
     "output_type": "execute_result"
    }
   ],
   "source": [
    "mini_sal=driver.find_elements_by_xpath(\"//span[@class='d-block d-lg-none m-0 css-1b6bxoo']\")\n",
    "mini_sal[0:10]"
   ]
  },
  {
   "cell_type": "code",
   "execution_count": 56,
   "metadata": {},
   "outputs": [
    {
     "data": {
      "text/plain": [
       "['Range: ₹4L - ₹13L',\n",
       " 'Range: ₹6L - ₹26L',\n",
       " 'Range: ₹6L - ₹23L',\n",
       " 'Range: ₹4L - ₹17L',\n",
       " 'Range: ₹8L - ₹16L',\n",
       " 'Range: ₹5L - ₹1Cr',\n",
       " 'Range: ₹6L - ₹20L',\n",
       " 'Range: ₹8L - ₹21L',\n",
       " 'Range: ₹2L - ₹22L',\n",
       " 'Range: ₹11L - ₹18L',\n",
       " 'Range: ₹6L - ₹21L',\n",
       " 'Range: ₹5L - ₹15L',\n",
       " 'Range: ₹4L - ₹13L',\n",
       " 'Range: ₹10L - ₹46L',\n",
       " 'Range: ₹4L - ₹21L',\n",
       " 'Range: ₹6L - ₹18L',\n",
       " 'Range: ₹25T - ₹1L',\n",
       " 'Range: ₹10L - ₹21L',\n",
       " 'Range: ₹4L - ₹15L',\n",
       " 'Range: ₹2L - ₹23L']"
      ]
     },
     "execution_count": 56,
     "metadata": {},
     "output_type": "execute_result"
    }
   ],
   "source": [
    "for i in mini_sal:\n",
    "    no_of_salary.append(i.text)\n",
    "no_of_salary    \n",
    "    "
   ]
  },
  {
   "cell_type": "code",
   "execution_count": 57,
   "metadata": {},
   "outputs": [
    {
     "data": {
      "text/plain": [
       "[<selenium.webdriver.remote.webelement.WebElement (session=\"27f6cd2211da0339ec436c7fb5f6ff9b\", element=\"53940df3-c2b6-45b9-9756-26604893cd23\")>,\n",
       " <selenium.webdriver.remote.webelement.WebElement (session=\"27f6cd2211da0339ec436c7fb5f6ff9b\", element=\"ac78df3a-b7ff-4a9e-8930-2cbcfbb0c21e\")>,\n",
       " <selenium.webdriver.remote.webelement.WebElement (session=\"27f6cd2211da0339ec436c7fb5f6ff9b\", element=\"b252853d-0c93-42f7-a18e-ddf2a4d88099\")>,\n",
       " <selenium.webdriver.remote.webelement.WebElement (session=\"27f6cd2211da0339ec436c7fb5f6ff9b\", element=\"09a827d3-943c-42b5-b12d-f1eda624ec1e\")>,\n",
       " <selenium.webdriver.remote.webelement.WebElement (session=\"27f6cd2211da0339ec436c7fb5f6ff9b\", element=\"9edb2fed-d977-45ab-b070-0e2140872b29\")>,\n",
       " <selenium.webdriver.remote.webelement.WebElement (session=\"27f6cd2211da0339ec436c7fb5f6ff9b\", element=\"ed0c069c-a687-4fab-9041-1dfad1db3299\")>,\n",
       " <selenium.webdriver.remote.webelement.WebElement (session=\"27f6cd2211da0339ec436c7fb5f6ff9b\", element=\"0bbe7bc8-0f97-4625-8eab-aeceabac6fdc\")>,\n",
       " <selenium.webdriver.remote.webelement.WebElement (session=\"27f6cd2211da0339ec436c7fb5f6ff9b\", element=\"e52c8bba-94b9-4881-8435-01a3ba4a3692\")>,\n",
       " <selenium.webdriver.remote.webelement.WebElement (session=\"27f6cd2211da0339ec436c7fb5f6ff9b\", element=\"66f691f7-604a-4178-905b-a2f2b029559d\")>,\n",
       " <selenium.webdriver.remote.webelement.WebElement (session=\"27f6cd2211da0339ec436c7fb5f6ff9b\", element=\"873bee06-1ea2-4910-9f8c-18b2fdcb2b3c\")>]"
      ]
     },
     "execution_count": 57,
     "metadata": {},
     "output_type": "execute_result"
    }
   ],
   "source": [
    "avg_sal=driver.find_elements_by_xpath(\"//h3[@class='m-0 css-g261rn']\")\n",
    "avg_sal[0:10]"
   ]
  },
  {
   "cell_type": "code",
   "execution_count": 58,
   "metadata": {},
   "outputs": [
    {
     "data": {
      "text/plain": [
       "['Big Data',\n",
       " 'Data Analyst',\n",
       " 'Quantitative Analyst',\n",
       " 'Senior Data Scientist',\n",
       " 'Tata Consultancy Services',\n",
       " '₹6,36,785',\n",
       " 'IBM',\n",
       " '₹9,24,624',\n",
       " 'Accenture',\n",
       " '₹12,24,104']"
      ]
     },
     "execution_count": 58,
     "metadata": {},
     "output_type": "execute_result"
    }
   ],
   "source": [
    "for i in avg_sal:\n",
    "    noi_average_salary.append(i.text)\n",
    "noi_average_salary[0:10]    "
   ]
  },
  {
   "cell_type": "code",
   "execution_count": 59,
   "metadata": {},
   "outputs": [
    {
     "data": {
      "text/plain": [
       "[<selenium.webdriver.remote.webelement.WebElement (session=\"27f6cd2211da0339ec436c7fb5f6ff9b\", element=\"4eb5aea7-8650-4756-a93a-2302dc61e833\")>,\n",
       " <selenium.webdriver.remote.webelement.WebElement (session=\"27f6cd2211da0339ec436c7fb5f6ff9b\", element=\"181042c3-5b09-4789-8dd9-57107b8b38a2\")>,\n",
       " <selenium.webdriver.remote.webelement.WebElement (session=\"27f6cd2211da0339ec436c7fb5f6ff9b\", element=\"642de9a8-8ba2-455f-83fd-3db8ff6e65c2\")>,\n",
       " <selenium.webdriver.remote.webelement.WebElement (session=\"27f6cd2211da0339ec436c7fb5f6ff9b\", element=\"93105b50-deda-415f-9950-e100e54027e2\")>,\n",
       " <selenium.webdriver.remote.webelement.WebElement (session=\"27f6cd2211da0339ec436c7fb5f6ff9b\", element=\"2085b7fa-5752-48cd-a1af-490d32cbd47f\")>,\n",
       " <selenium.webdriver.remote.webelement.WebElement (session=\"27f6cd2211da0339ec436c7fb5f6ff9b\", element=\"e79aa8be-85f1-4b01-8466-f9e97c2ca887\")>,\n",
       " <selenium.webdriver.remote.webelement.WebElement (session=\"27f6cd2211da0339ec436c7fb5f6ff9b\", element=\"7a761e23-e602-486b-aa88-2f8680dbc489\")>,\n",
       " <selenium.webdriver.remote.webelement.WebElement (session=\"27f6cd2211da0339ec436c7fb5f6ff9b\", element=\"be33ddab-a1b4-4428-9b99-748be67215db\")>,\n",
       " <selenium.webdriver.remote.webelement.WebElement (session=\"27f6cd2211da0339ec436c7fb5f6ff9b\", element=\"8390dfec-eadb-4683-bd40-0bba4d602a38\")>,\n",
       " <selenium.webdriver.remote.webelement.WebElement (session=\"27f6cd2211da0339ec436c7fb5f6ff9b\", element=\"a51190c0-8344-47f4-8ff8-bac8045a957b\")>]"
      ]
     },
     "execution_count": 59,
     "metadata": {},
     "output_type": "execute_result"
    }
   ],
   "source": [
    "cpmpany_name_noi=driver.find_elements_by_xpath(\"//span[@class='m-0 css-18stkbk']\")\n",
    "cpmpany_name_noi[0:10]"
   ]
  },
  {
   "cell_type": "code",
   "execution_count": 60,
   "metadata": {},
   "outputs": [
    {
     "data": {
      "text/plain": [
       "[' /yr',\n",
       " 'Average Base Pay',\n",
       " 'Data Scientist',\n",
       " 'Data Scientist',\n",
       " ' /yr',\n",
       " 'Data Scientist',\n",
       " ' /yr',\n",
       " 'Data Scientist',\n",
       " ' /yr',\n",
       " 'Data Scientist']"
      ]
     },
     "execution_count": 60,
     "metadata": {},
     "output_type": "execute_result"
    }
   ],
   "source": [
    "for i in cpmpany_name_noi :\n",
    "    company_noi.append(i.text)\n",
    "company_noi[0:10]"
   ]
  },
  {
   "cell_type": "code",
   "execution_count": 61,
   "metadata": {},
   "outputs": [
    {
     "data": {
      "text/plain": [
       "[<selenium.webdriver.remote.webelement.WebElement (session=\"27f6cd2211da0339ec436c7fb5f6ff9b\", element=\"b9690860-7bf4-4690-b4fb-ed0324331eb5\")>,\n",
       " <selenium.webdriver.remote.webelement.WebElement (session=\"27f6cd2211da0339ec436c7fb5f6ff9b\", element=\"3b498829-c103-4113-96a6-09ece6e36a5c\")>,\n",
       " <selenium.webdriver.remote.webelement.WebElement (session=\"27f6cd2211da0339ec436c7fb5f6ff9b\", element=\"0f76c3ff-8fbd-4018-a628-9c4e7f93ec66\")>,\n",
       " <selenium.webdriver.remote.webelement.WebElement (session=\"27f6cd2211da0339ec436c7fb5f6ff9b\", element=\"f0814605-9706-4312-bff1-e386e2e569b6\")>,\n",
       " <selenium.webdriver.remote.webelement.WebElement (session=\"27f6cd2211da0339ec436c7fb5f6ff9b\", element=\"d1d8f5b4-3ac2-45ae-a185-ca00c53a413e\")>,\n",
       " <selenium.webdriver.remote.webelement.WebElement (session=\"27f6cd2211da0339ec436c7fb5f6ff9b\", element=\"e8887585-256b-4e96-a906-352c670da599\")>,\n",
       " <selenium.webdriver.remote.webelement.WebElement (session=\"27f6cd2211da0339ec436c7fb5f6ff9b\", element=\"f14a0cb2-0610-466f-91dd-e7f4742bf341\")>,\n",
       " <selenium.webdriver.remote.webelement.WebElement (session=\"27f6cd2211da0339ec436c7fb5f6ff9b\", element=\"04ca658e-1263-4957-9354-4d94a502d93f\")>,\n",
       " <selenium.webdriver.remote.webelement.WebElement (session=\"27f6cd2211da0339ec436c7fb5f6ff9b\", element=\"b61edc19-bd5e-4e63-a090-9e981a3e7db6\")>,\n",
       " <selenium.webdriver.remote.webelement.WebElement (session=\"27f6cd2211da0339ec436c7fb5f6ff9b\", element=\"1176cac2-1cac-4c3d-80b4-757437001492\")>]"
      ]
     },
     "execution_count": 61,
     "metadata": {},
     "output_type": "execute_result"
    }
   ],
   "source": [
    "no_of_salarie=driver.find_elements_by_xpath(\"//span[@class='m-0 css-1b6bxoo']\")\n",
    "no_of_salarie[0:10]"
   ]
  },
  {
   "cell_type": "code",
   "execution_count": 62,
   "metadata": {},
   "outputs": [
    {
     "data": {
      "text/plain": [
       "['Average',\n",
       " '₹50,000 - ₹3,55,370',\n",
       " '25 salaries',\n",
       " '21 salaries',\n",
       " '16 salaries',\n",
       " '15 salaries',\n",
       " '15 salaries',\n",
       " '15 salaries',\n",
       " '11 salaries',\n",
       " '11 salaries']"
      ]
     },
     "execution_count": 62,
     "metadata": {},
     "output_type": "execute_result"
    }
   ],
   "source": [
    "for i in no_of_salarie:\n",
    "    no_of_salaries.append(i.text)\n",
    "no_of_salaries[0:10]    \n",
    "    "
   ]
  },
  {
   "cell_type": "code",
   "execution_count": null,
   "metadata": {},
   "outputs": [],
   "source": []
  },
  {
   "cell_type": "code",
   "execution_count": null,
   "metadata": {},
   "outputs": [],
   "source": []
  },
  {
   "cell_type": "code",
   "execution_count": null,
   "metadata": {},
   "outputs": [],
   "source": [
    "noi_jb_titls=[]\n",
    "no_of_salary=[]\n",
    "noi_average_salary=[]\n",
    "company_noi=[]\n",
    "no_of_salaries=[]"
   ]
  },
  {
   "cell_type": "code",
   "execution_count": null,
   "metadata": {},
   "outputs": [],
   "source": [
    " Company name, Number of salaries, Average salary, Min\n",
    "salary, Max Salary"
   ]
  },
  {
   "cell_type": "code",
   "execution_count": 64,
   "metadata": {},
   "outputs": [
    {
     "data": {
      "text/html": [
       "<div>\n",
       "<style scoped>\n",
       "    .dataframe tbody tr th:only-of-type {\n",
       "        vertical-align: middle;\n",
       "    }\n",
       "\n",
       "    .dataframe tbody tr th {\n",
       "        vertical-align: top;\n",
       "    }\n",
       "\n",
       "    .dataframe thead th {\n",
       "        text-align: right;\n",
       "    }\n",
       "</style>\n",
       "<table border=\"1\" class=\"dataframe\">\n",
       "  <thead>\n",
       "    <tr style=\"text-align: right;\">\n",
       "      <th></th>\n",
       "      <th>Company name</th>\n",
       "      <th>no of salaries</th>\n",
       "      <th>average salary</th>\n",
       "      <th>job</th>\n",
       "    </tr>\n",
       "  </thead>\n",
       "  <tbody>\n",
       "    <tr>\n",
       "      <th>0</th>\n",
       "      <td>Tata Consultancy Services</td>\n",
       "      <td>Average</td>\n",
       "      <td>Range: ₹4L - ₹13L</td>\n",
       "      <td>/yr</td>\n",
       "    </tr>\n",
       "    <tr>\n",
       "      <th>1</th>\n",
       "      <td>IBM</td>\n",
       "      <td>₹50,000 - ₹3,55,370</td>\n",
       "      <td>Range: ₹6L - ₹26L</td>\n",
       "      <td>Average Base Pay</td>\n",
       "    </tr>\n",
       "    <tr>\n",
       "      <th>2</th>\n",
       "      <td>Accenture</td>\n",
       "      <td>25 salaries</td>\n",
       "      <td>Range: ₹6L - ₹23L</td>\n",
       "      <td>Data Scientist</td>\n",
       "    </tr>\n",
       "    <tr>\n",
       "      <th>3</th>\n",
       "      <td>Ericsson-Worldwide</td>\n",
       "      <td>21 salaries</td>\n",
       "      <td>Range: ₹4L - ₹17L</td>\n",
       "      <td>Data Scientist</td>\n",
       "    </tr>\n",
       "    <tr>\n",
       "      <th>4</th>\n",
       "      <td>UnitedHealth Group</td>\n",
       "      <td>16 salaries</td>\n",
       "      <td>Range: ₹8L - ₹16L</td>\n",
       "      <td>/yr</td>\n",
       "    </tr>\n",
       "    <tr>\n",
       "      <th>5</th>\n",
       "      <td>Delhivery</td>\n",
       "      <td>15 salaries</td>\n",
       "      <td>Range: ₹5L - ₹1Cr</td>\n",
       "      <td>Data Scientist</td>\n",
       "    </tr>\n",
       "    <tr>\n",
       "      <th>6</th>\n",
       "      <td>EXL Service</td>\n",
       "      <td>15 salaries</td>\n",
       "      <td>Range: ₹6L - ₹20L</td>\n",
       "      <td>/yr</td>\n",
       "    </tr>\n",
       "    <tr>\n",
       "      <th>7</th>\n",
       "      <td>Optum</td>\n",
       "      <td>15 salaries</td>\n",
       "      <td>Range: ₹8L - ₹21L</td>\n",
       "      <td>Data Scientist</td>\n",
       "    </tr>\n",
       "    <tr>\n",
       "      <th>8</th>\n",
       "      <td>ZS Associates</td>\n",
       "      <td>11 salaries</td>\n",
       "      <td>Range: ₹2L - ₹22L</td>\n",
       "      <td>/yr</td>\n",
       "    </tr>\n",
       "    <tr>\n",
       "      <th>9</th>\n",
       "      <td>Optum Global Solutions</td>\n",
       "      <td>11 salaries</td>\n",
       "      <td>Range: ₹11L - ₹18L</td>\n",
       "      <td>Data Scientist</td>\n",
       "    </tr>\n",
       "  </tbody>\n",
       "</table>\n",
       "</div>"
      ],
      "text/plain": [
       "                Company name       no of salaries      average salary  \\\n",
       "0  Tata Consultancy Services              Average   Range: ₹4L - ₹13L   \n",
       "1                        IBM  ₹50,000 - ₹3,55,370   Range: ₹6L - ₹26L   \n",
       "2                  Accenture          25 salaries   Range: ₹6L - ₹23L   \n",
       "3         Ericsson-Worldwide          21 salaries   Range: ₹4L - ₹17L   \n",
       "4         UnitedHealth Group          16 salaries   Range: ₹8L - ₹16L   \n",
       "5                  Delhivery          15 salaries   Range: ₹5L - ₹1Cr   \n",
       "6                EXL Service          15 salaries   Range: ₹6L - ₹20L   \n",
       "7                      Optum          15 salaries   Range: ₹8L - ₹21L   \n",
       "8              ZS Associates          11 salaries   Range: ₹2L - ₹22L   \n",
       "9     Optum Global Solutions          11 salaries  Range: ₹11L - ₹18L   \n",
       "\n",
       "                job  \n",
       "0               /yr  \n",
       "1  Average Base Pay  \n",
       "2    Data Scientist  \n",
       "3    Data Scientist  \n",
       "4               /yr  \n",
       "5    Data Scientist  \n",
       "6               /yr  \n",
       "7    Data Scientist  \n",
       "8               /yr  \n",
       "9    Data Scientist  "
      ]
     },
     "execution_count": 64,
     "metadata": {},
     "output_type": "execute_result"
    }
   ],
   "source": [
    "noi_job=pd.DataFrame({})\n",
    "noi_job['Company name']=noi_jb_titls[0:10]\n",
    "noi_job['no of salaries']=no_of_salaries[0:10]\n",
    "noi_job['average salary']=noi_average_salary[0:10]\n",
    "noi_job['job']=company_noi[0:10]\n",
    "noi_job['average salary']=no_of_salary[0:10]\n",
    "noi_job"
   ]
  },
  {
   "cell_type": "markdown",
   "metadata": {},
   "source": [
    "Q6 : Scrape data of first 100 sunglasses listings on flipkart.com. You have to \n",
    "scrape four attributes:\n",
    "1. Brand\n",
    "2. Product Description\n",
    "3. Price\n",
    "4. Discount %\n",
    "The attributes which you have to scrape is ticked marked in the below image.\n",
    "To scrape the data you have to go through following steps:\n",
    "1. Go to flipkart webpage by url https://www.flipkart.com/\n",
    "2. Enter “sunglasses” in the search field where “search for products, brands and \n",
    "more” is written and click the search icon\n",
    "3. after that you will reach to a webpage having a lot of sunglasses. From this page \n",
    "you can scrap the required data as usual.\n",
    "4. after scraping data from the first page, go to the “Next” Button at the bottom of \n",
    "the page , then click on itWEB SCRAPING ASSIGNMENT-2\n",
    ".\n",
    "5. Now scrape data from this page as usual\n",
    "6. repeat this until you get data for 100 sunglasses.\n",
    "Note that all of the above steps have to be done by coding only and not manually."
   ]
  },
  {
   "cell_type": "code",
   "execution_count": 65,
   "metadata": {},
   "outputs": [],
   "source": [
    "driver =webdriver.Chrome(r'C:\\Users\\Om Prakash\\Downloads\\chromedriver_win32/chromedriver.exe')"
   ]
  },
  {
   "cell_type": "code",
   "execution_count": 66,
   "metadata": {},
   "outputs": [],
   "source": [
    "driver=webdriver.Chrome('chromedriver.exe')"
   ]
  },
  {
   "cell_type": "code",
   "execution_count": 67,
   "metadata": {},
   "outputs": [],
   "source": [
    "driver.get('https://www.flipkart.com/')"
   ]
  },
  {
   "cell_type": "code",
   "execution_count": 70,
   "metadata": {},
   "outputs": [],
   "source": [
    "search_glasses=driver.find_element_by_xpath(\"//input[@class='_3704LK']\")\n",
    "search_glasses.send_keys(\"sunglasses\")"
   ]
  },
  {
   "cell_type": "code",
   "execution_count": 72,
   "metadata": {},
   "outputs": [],
   "source": [
    "search_glasses=driver.find_element_by_xpath(\"//button[@class='L0Z3Pu']\")\n",
    "search_glasses.click()"
   ]
  },
  {
   "cell_type": "code",
   "execution_count": 73,
   "metadata": {},
   "outputs": [],
   "source": [
    "urlsss=('https://www.flipkart.com/search?q=sunglasses&otracker=search&otracker1=search&marketplace=FLIPKART&as-show=on&as=off')"
   ]
  },
  {
   "cell_type": "code",
   "execution_count": 74,
   "metadata": {},
   "outputs": [],
   "source": [
    "driver.get(urlsss)"
   ]
  },
  {
   "cell_type": "code",
   "execution_count": 79,
   "metadata": {},
   "outputs": [],
   "source": [
    "brand_tag=[]\n",
    "product_Description_tag=[]\n",
    "price_tag=[]\n",
    "discount_tag=[]"
   ]
  },
  {
   "cell_type": "code",
   "execution_count": 80,
   "metadata": {},
   "outputs": [
    {
     "data": {
      "text/plain": [
       "[<selenium.webdriver.remote.webelement.WebElement (session=\"f35bb0e3b7099f05c54d69c965a04780\", element=\"2fd92518-95bf-4f99-b4a7-bb9dee6c05c4\")>,\n",
       " <selenium.webdriver.remote.webelement.WebElement (session=\"f35bb0e3b7099f05c54d69c965a04780\", element=\"b250a4f2-aa2e-4464-a3ba-a93c36bc9678\")>,\n",
       " <selenium.webdriver.remote.webelement.WebElement (session=\"f35bb0e3b7099f05c54d69c965a04780\", element=\"cea41824-045a-4b49-a0a2-129a3994ccef\")>,\n",
       " <selenium.webdriver.remote.webelement.WebElement (session=\"f35bb0e3b7099f05c54d69c965a04780\", element=\"2b319cd8-1be2-4c03-8a1d-5b829d6dd40e\")>,\n",
       " <selenium.webdriver.remote.webelement.WebElement (session=\"f35bb0e3b7099f05c54d69c965a04780\", element=\"8f451962-bb62-4ec2-ab64-229a69cbdf51\")>,\n",
       " <selenium.webdriver.remote.webelement.WebElement (session=\"f35bb0e3b7099f05c54d69c965a04780\", element=\"33fd70f9-86b7-4632-87b5-a5dc59794530\")>,\n",
       " <selenium.webdriver.remote.webelement.WebElement (session=\"f35bb0e3b7099f05c54d69c965a04780\", element=\"9e92b334-d841-4858-9173-beaf9dff888e\")>,\n",
       " <selenium.webdriver.remote.webelement.WebElement (session=\"f35bb0e3b7099f05c54d69c965a04780\", element=\"92d4469c-d9d4-43fc-bcf9-98efa7318f20\")>,\n",
       " <selenium.webdriver.remote.webelement.WebElement (session=\"f35bb0e3b7099f05c54d69c965a04780\", element=\"f5409895-3469-44b7-be97-dcde995bd487\")>,\n",
       " <selenium.webdriver.remote.webelement.WebElement (session=\"f35bb0e3b7099f05c54d69c965a04780\", element=\"c94eb1b4-289e-4698-97dd-d1c45d1ff9aa\")>,\n",
       " <selenium.webdriver.remote.webelement.WebElement (session=\"f35bb0e3b7099f05c54d69c965a04780\", element=\"b09028e2-cefa-4f77-9b8f-ec81ca42909d\")>,\n",
       " <selenium.webdriver.remote.webelement.WebElement (session=\"f35bb0e3b7099f05c54d69c965a04780\", element=\"fb03de33-ec01-4eb3-9ec1-5201e956c25c\")>,\n",
       " <selenium.webdriver.remote.webelement.WebElement (session=\"f35bb0e3b7099f05c54d69c965a04780\", element=\"c92f8432-0969-49c7-8217-cd0ca5e9afef\")>,\n",
       " <selenium.webdriver.remote.webelement.WebElement (session=\"f35bb0e3b7099f05c54d69c965a04780\", element=\"9ca141a5-2d48-4d23-947a-4f0ed9de36b0\")>,\n",
       " <selenium.webdriver.remote.webelement.WebElement (session=\"f35bb0e3b7099f05c54d69c965a04780\", element=\"52053ba5-6b2a-4fec-8c77-0ad5b1e0bd5c\")>,\n",
       " <selenium.webdriver.remote.webelement.WebElement (session=\"f35bb0e3b7099f05c54d69c965a04780\", element=\"a507bf07-a4b8-4c4f-98de-348678a2e7ff\")>,\n",
       " <selenium.webdriver.remote.webelement.WebElement (session=\"f35bb0e3b7099f05c54d69c965a04780\", element=\"5a37edfc-fc35-4817-b686-dc56430998ad\")>,\n",
       " <selenium.webdriver.remote.webelement.WebElement (session=\"f35bb0e3b7099f05c54d69c965a04780\", element=\"a411b1c9-3cd7-47b8-bbe6-684a8c4d7732\")>,\n",
       " <selenium.webdriver.remote.webelement.WebElement (session=\"f35bb0e3b7099f05c54d69c965a04780\", element=\"d1ea106a-dacf-42fc-a059-ac11a68f66b9\")>,\n",
       " <selenium.webdriver.remote.webelement.WebElement (session=\"f35bb0e3b7099f05c54d69c965a04780\", element=\"a0215195-15f4-42f1-b2e7-a3cee9dcdeaa\")>,\n",
       " <selenium.webdriver.remote.webelement.WebElement (session=\"f35bb0e3b7099f05c54d69c965a04780\", element=\"0375be86-5f6d-4fad-af9a-05d252c3986c\")>,\n",
       " <selenium.webdriver.remote.webelement.WebElement (session=\"f35bb0e3b7099f05c54d69c965a04780\", element=\"14fbd200-a579-4a02-a964-d0c39b2ac301\")>,\n",
       " <selenium.webdriver.remote.webelement.WebElement (session=\"f35bb0e3b7099f05c54d69c965a04780\", element=\"13cab463-6e4d-41ca-8584-202e76cb1322\")>,\n",
       " <selenium.webdriver.remote.webelement.WebElement (session=\"f35bb0e3b7099f05c54d69c965a04780\", element=\"7555df8b-2d9f-4182-9eb7-a43e4c809924\")>,\n",
       " <selenium.webdriver.remote.webelement.WebElement (session=\"f35bb0e3b7099f05c54d69c965a04780\", element=\"b7d0e4aa-3f5e-4edc-a77a-8f2ff2909f08\")>,\n",
       " <selenium.webdriver.remote.webelement.WebElement (session=\"f35bb0e3b7099f05c54d69c965a04780\", element=\"9e554626-493f-42ed-b8e0-3ce0007e1bdc\")>,\n",
       " <selenium.webdriver.remote.webelement.WebElement (session=\"f35bb0e3b7099f05c54d69c965a04780\", element=\"b7ac03db-3179-4a4a-acc4-e8d5ae0574a4\")>,\n",
       " <selenium.webdriver.remote.webelement.WebElement (session=\"f35bb0e3b7099f05c54d69c965a04780\", element=\"0af63646-e796-4560-83e2-81232b1c679f\")>,\n",
       " <selenium.webdriver.remote.webelement.WebElement (session=\"f35bb0e3b7099f05c54d69c965a04780\", element=\"d475f770-52a1-4626-a334-f2285529831e\")>,\n",
       " <selenium.webdriver.remote.webelement.WebElement (session=\"f35bb0e3b7099f05c54d69c965a04780\", element=\"61069cb7-d7e9-4274-a5e1-752210cc784b\")>]"
      ]
     },
     "execution_count": 80,
     "metadata": {},
     "output_type": "execute_result"
    }
   ],
   "source": [
    "brand_tags=driver.find_elements_by_xpath(\"//div[@class='_2WkVRV']\")\n",
    "brand_tags[0:30]"
   ]
  },
  {
   "cell_type": "code",
   "execution_count": 82,
   "metadata": {},
   "outputs": [
    {
     "data": {
      "text/plain": [
       "['ROYAL SON',\n",
       " 'ROZZETTA CRAFT',\n",
       " 'Fastrack',\n",
       " 'PIRASO',\n",
       " 'Elligator',\n",
       " 'SHAAH COLLECTIONS',\n",
       " 'Silver Kartz',\n",
       " 'VINCENT CHASE',\n",
       " 'ROZZETTA CRAFT',\n",
       " 'New Specs',\n",
       " 'Singco India',\n",
       " 'ROZZETTA CRAFT',\n",
       " 'kingsunglasses',\n",
       " 'Rich Club',\n",
       " 'IDEE',\n",
       " 'ROYAL SON',\n",
       " 'NuVew',\n",
       " 'GANSTA',\n",
       " 'PHENOMENAL',\n",
       " 'ROYAL SON',\n",
       " 'United Colors of Benetton',\n",
       " 'AISLIN',\n",
       " 'ROYAL SON',\n",
       " 'ROYAL SON',\n",
       " 'SUNBEE',\n",
       " 'WROGN',\n",
       " 'Ray-Ban',\n",
       " 'ROYAL SON',\n",
       " 'Mi',\n",
       " 'Pierre Cardin',\n",
       " 'povty',\n",
       " 'VINCENT CHASE',\n",
       " 'hipe',\n",
       " 'elegante',\n",
       " 'VINCENT CHASE',\n",
       " 'ROYAL SON',\n",
       " 'PIRASO',\n",
       " 'Fastrack',\n",
       " 'IDEE',\n",
       " 'ROYAL SON']"
      ]
     },
     "execution_count": 82,
     "metadata": {},
     "output_type": "execute_result"
    }
   ],
   "source": [
    "for i in brand_tags:\n",
    "    brand_tag.append(i.text)\n",
    "brand_tag    "
   ]
  },
  {
   "cell_type": "code",
   "execution_count": 83,
   "metadata": {},
   "outputs": [
    {
     "data": {
      "text/plain": [
       "[<selenium.webdriver.remote.webelement.WebElement (session=\"f35bb0e3b7099f05c54d69c965a04780\", element=\"33c82e0d-636c-4ccf-bd12-ceac7ddc97eb\")>,\n",
       " <selenium.webdriver.remote.webelement.WebElement (session=\"f35bb0e3b7099f05c54d69c965a04780\", element=\"b5cb4eb4-a8a7-4fe8-aa73-8fa1ac84f52e\")>,\n",
       " <selenium.webdriver.remote.webelement.WebElement (session=\"f35bb0e3b7099f05c54d69c965a04780\", element=\"c960c22c-b807-4987-8409-3d4dd68a10ac\")>,\n",
       " <selenium.webdriver.remote.webelement.WebElement (session=\"f35bb0e3b7099f05c54d69c965a04780\", element=\"53b1ee83-df89-454e-acf3-c0abd14f72d5\")>,\n",
       " <selenium.webdriver.remote.webelement.WebElement (session=\"f35bb0e3b7099f05c54d69c965a04780\", element=\"0180da64-69d7-4c44-a8b6-08ed60efc1a1\")>,\n",
       " <selenium.webdriver.remote.webelement.WebElement (session=\"f35bb0e3b7099f05c54d69c965a04780\", element=\"60cd68ee-316a-4657-b843-3bb94b1a6f9e\")>,\n",
       " <selenium.webdriver.remote.webelement.WebElement (session=\"f35bb0e3b7099f05c54d69c965a04780\", element=\"0b942824-65e2-40f4-932c-98a5f5f10d66\")>,\n",
       " <selenium.webdriver.remote.webelement.WebElement (session=\"f35bb0e3b7099f05c54d69c965a04780\", element=\"02954d29-eedc-4019-a1b7-1659982f4fec\")>,\n",
       " <selenium.webdriver.remote.webelement.WebElement (session=\"f35bb0e3b7099f05c54d69c965a04780\", element=\"4263d69e-45f1-4606-827f-6219fcedc018\")>,\n",
       " <selenium.webdriver.remote.webelement.WebElement (session=\"f35bb0e3b7099f05c54d69c965a04780\", element=\"a23dcff2-39e2-41fe-982d-841e9d9526b7\")>,\n",
       " <selenium.webdriver.remote.webelement.WebElement (session=\"f35bb0e3b7099f05c54d69c965a04780\", element=\"80b9a681-f6cc-4e16-876d-67a91743dddb\")>,\n",
       " <selenium.webdriver.remote.webelement.WebElement (session=\"f35bb0e3b7099f05c54d69c965a04780\", element=\"28e22d1e-ee88-4c5f-a63a-08b9b66937c2\")>,\n",
       " <selenium.webdriver.remote.webelement.WebElement (session=\"f35bb0e3b7099f05c54d69c965a04780\", element=\"c02e8300-a23d-41f9-b4ad-d59ede9b7ce7\")>,\n",
       " <selenium.webdriver.remote.webelement.WebElement (session=\"f35bb0e3b7099f05c54d69c965a04780\", element=\"4b6f962e-5710-4739-83bf-dae679a2d4e3\")>,\n",
       " <selenium.webdriver.remote.webelement.WebElement (session=\"f35bb0e3b7099f05c54d69c965a04780\", element=\"d59062f6-979f-486f-b9ab-6f4812324736\")>,\n",
       " <selenium.webdriver.remote.webelement.WebElement (session=\"f35bb0e3b7099f05c54d69c965a04780\", element=\"357e7315-74ea-4d4d-a894-7d2bed466b46\")>,\n",
       " <selenium.webdriver.remote.webelement.WebElement (session=\"f35bb0e3b7099f05c54d69c965a04780\", element=\"eb05fde0-d34b-48ec-aaaf-ab595cb5f726\")>,\n",
       " <selenium.webdriver.remote.webelement.WebElement (session=\"f35bb0e3b7099f05c54d69c965a04780\", element=\"913f41d6-c377-454b-a908-73ea1e2d98c1\")>,\n",
       " <selenium.webdriver.remote.webelement.WebElement (session=\"f35bb0e3b7099f05c54d69c965a04780\", element=\"a0f79cae-eb81-4ae5-9596-f3e70cf87818\")>,\n",
       " <selenium.webdriver.remote.webelement.WebElement (session=\"f35bb0e3b7099f05c54d69c965a04780\", element=\"d68bdf49-be99-4483-b1de-a0273fd2998e\")>,\n",
       " <selenium.webdriver.remote.webelement.WebElement (session=\"f35bb0e3b7099f05c54d69c965a04780\", element=\"61f4ec83-634d-4017-bd5d-53f7d80fa41f\")>,\n",
       " <selenium.webdriver.remote.webelement.WebElement (session=\"f35bb0e3b7099f05c54d69c965a04780\", element=\"28e60c72-2416-4f8c-b0ef-629b4cca4089\")>,\n",
       " <selenium.webdriver.remote.webelement.WebElement (session=\"f35bb0e3b7099f05c54d69c965a04780\", element=\"90e969db-7515-467f-87c7-141a75528a6b\")>,\n",
       " <selenium.webdriver.remote.webelement.WebElement (session=\"f35bb0e3b7099f05c54d69c965a04780\", element=\"99f96305-16d4-468a-9f70-da1747837d0e\")>,\n",
       " <selenium.webdriver.remote.webelement.WebElement (session=\"f35bb0e3b7099f05c54d69c965a04780\", element=\"b92d2f04-6564-43a9-a816-b6f5cfc0af04\")>,\n",
       " <selenium.webdriver.remote.webelement.WebElement (session=\"f35bb0e3b7099f05c54d69c965a04780\", element=\"2eb28cdb-ed07-4523-98c1-846fae83b573\")>,\n",
       " <selenium.webdriver.remote.webelement.WebElement (session=\"f35bb0e3b7099f05c54d69c965a04780\", element=\"2c00e4ed-10d9-4e52-9a66-0a322c869180\")>,\n",
       " <selenium.webdriver.remote.webelement.WebElement (session=\"f35bb0e3b7099f05c54d69c965a04780\", element=\"5672ef12-8084-466c-8b39-9d3b63479df1\")>,\n",
       " <selenium.webdriver.remote.webelement.WebElement (session=\"f35bb0e3b7099f05c54d69c965a04780\", element=\"3d60f96b-c88a-47e4-90cb-bd954821bbb9\")>,\n",
       " <selenium.webdriver.remote.webelement.WebElement (session=\"f35bb0e3b7099f05c54d69c965a04780\", element=\"7bcc40e0-02ea-4ca3-a6b0-68ef6aa15716\")>]"
      ]
     },
     "execution_count": 83,
     "metadata": {},
     "output_type": "execute_result"
    }
   ],
   "source": [
    "description_tags=driver.find_elements_by_xpath(\"//a[@class='IRpwTa']\")\n",
    "description_tags[0:30]"
   ]
  },
  {
   "cell_type": "code",
   "execution_count": 84,
   "metadata": {},
   "outputs": [
    {
     "data": {
      "text/plain": [
       "['Polarized, UV Protection Rectangular Sunglasses (59)',\n",
       " 'UV Protection, Gradient Round Sunglasses (Free Size)',\n",
       " 'UV Protection Wayfarer Sunglasses (Free Size)',\n",
       " 'UV Protection Aviator Sunglasses (54)',\n",
       " 'UV Protection Round Sunglasses (54)',\n",
       " 'UV Protection, Polarized, Mirrored Rectangular Sunglass...',\n",
       " 'UV Protection Wayfarer Sunglasses (Free Size)',\n",
       " 'Polarized, UV Protection Wayfarer Sunglasses (53)',\n",
       " 'UV Protection Retro Square Sunglasses (Free Size)',\n",
       " 'Mirrored, UV Protection, Riding Glasses, Others Round S...',\n",
       " 'UV Protection, Riding Glasses, Others Aviator, Wayfarer...',\n",
       " 'UV Protection, Gradient Rectangular Sunglasses (Free Si...',\n",
       " 'Mirrored, UV Protection Wayfarer Sunglasses (Free Size)',\n",
       " 'Polarized Round Sunglasses (48)',\n",
       " 'Mirrored, UV Protection Aviator Sunglasses (18)',\n",
       " 'UV Protection Wayfarer Sunglasses (55)',\n",
       " 'UV Protection, Night Vision, Riding Glasses Sports Sung...',\n",
       " 'UV Protection Aviator Sunglasses (57)',\n",
       " 'UV Protection Retro Square Sunglasses (Free Size)',\n",
       " 'Polarized, UV Protection Aviator Sunglasses (58)',\n",
       " 'Mirrored Rectangular Sunglasses (53)',\n",
       " 'UV Protection, Gradient Butterfly, Retro Square Sunglas...',\n",
       " 'Polarized, UV Protection Aviator Sunglasses (58)',\n",
       " 'UV Protection, Gradient Butterfly Sunglasses (60)',\n",
       " 'UV Protection, Polarized, Mirrored Wayfarer Sunglasses ...',\n",
       " 'Polarized Oval Sunglasses (55)',\n",
       " 'Mirrored Aviator Sunglasses (55)',\n",
       " 'UV Protection Retro Square Sunglasses (88)',\n",
       " 'Polarized Wayfarer Sunglasses (Free Size)',\n",
       " 'Mirrored Aviator Sunglasses (59)',\n",
       " 'UV Protection Wayfarer Sunglasses (Free Size)',\n",
       " 'Polarized, UV Protection Wayfarer Sunglasses (57)',\n",
       " 'Mirrored, UV Protection, Gradient Round Sunglasses (55)',\n",
       " 'UV Protection Round Sunglasses (Free Size)',\n",
       " 'Polarized, UV Protection Wayfarer Sunglasses (53)',\n",
       " 'UV Protection Retro Square Sunglasses (88)',\n",
       " 'UV Protection Aviator Sunglasses (54)',\n",
       " 'Gradient, UV Protection Wayfarer Sunglasses (Free Size)',\n",
       " 'UV Protection Wayfarer Sunglasses (55)',\n",
       " 'Polarized, UV Protection Round Sunglasses (53)']"
      ]
     },
     "execution_count": 84,
     "metadata": {},
     "output_type": "execute_result"
    }
   ],
   "source": [
    "for i in description_tags:\n",
    "    product_Description_tag.append(i.text)\n",
    "product_Description_tag    "
   ]
  },
  {
   "cell_type": "code",
   "execution_count": 85,
   "metadata": {},
   "outputs": [
    {
     "data": {
      "text/plain": [
       "[<selenium.webdriver.remote.webelement.WebElement (session=\"f35bb0e3b7099f05c54d69c965a04780\", element=\"37bb6786-c9c6-4f26-93a9-a5749af79d5c\")>,\n",
       " <selenium.webdriver.remote.webelement.WebElement (session=\"f35bb0e3b7099f05c54d69c965a04780\", element=\"2e20d667-1e75-41e8-96a9-16804680a4a9\")>,\n",
       " <selenium.webdriver.remote.webelement.WebElement (session=\"f35bb0e3b7099f05c54d69c965a04780\", element=\"d7462fc0-408b-4acf-b5ae-1b12a407701e\")>,\n",
       " <selenium.webdriver.remote.webelement.WebElement (session=\"f35bb0e3b7099f05c54d69c965a04780\", element=\"010c2094-d129-49c4-8a59-58e7b566b1af\")>,\n",
       " <selenium.webdriver.remote.webelement.WebElement (session=\"f35bb0e3b7099f05c54d69c965a04780\", element=\"90536470-164d-4720-be01-45e160dcc334\")>,\n",
       " <selenium.webdriver.remote.webelement.WebElement (session=\"f35bb0e3b7099f05c54d69c965a04780\", element=\"ac1bdf90-c1ea-4f81-8a66-a3cf38b81ee2\")>,\n",
       " <selenium.webdriver.remote.webelement.WebElement (session=\"f35bb0e3b7099f05c54d69c965a04780\", element=\"315f2f97-1ff5-40d4-9b20-2750c40699e5\")>,\n",
       " <selenium.webdriver.remote.webelement.WebElement (session=\"f35bb0e3b7099f05c54d69c965a04780\", element=\"c3b5f984-7314-492e-bedf-a543bc225fd4\")>,\n",
       " <selenium.webdriver.remote.webelement.WebElement (session=\"f35bb0e3b7099f05c54d69c965a04780\", element=\"37378910-9afc-4004-a7ba-8e127dbdd543\")>,\n",
       " <selenium.webdriver.remote.webelement.WebElement (session=\"f35bb0e3b7099f05c54d69c965a04780\", element=\"c428ea99-8572-4119-8681-ec4adfc72cc3\")>,\n",
       " <selenium.webdriver.remote.webelement.WebElement (session=\"f35bb0e3b7099f05c54d69c965a04780\", element=\"077abf74-2580-4215-8b84-38e760958c75\")>,\n",
       " <selenium.webdriver.remote.webelement.WebElement (session=\"f35bb0e3b7099f05c54d69c965a04780\", element=\"7f24a62c-b976-45b9-b98d-9de86ecc8cbb\")>,\n",
       " <selenium.webdriver.remote.webelement.WebElement (session=\"f35bb0e3b7099f05c54d69c965a04780\", element=\"a54d10e7-a0b0-4c1e-9ab3-0dc3c21065d3\")>,\n",
       " <selenium.webdriver.remote.webelement.WebElement (session=\"f35bb0e3b7099f05c54d69c965a04780\", element=\"0c43d595-ddbc-4e4e-b24c-a3f368cffe46\")>,\n",
       " <selenium.webdriver.remote.webelement.WebElement (session=\"f35bb0e3b7099f05c54d69c965a04780\", element=\"d13a3c3c-37aa-4c4a-9c6d-2d521a7d75da\")>,\n",
       " <selenium.webdriver.remote.webelement.WebElement (session=\"f35bb0e3b7099f05c54d69c965a04780\", element=\"127bc9c3-0650-4315-a763-02d417ed3e66\")>,\n",
       " <selenium.webdriver.remote.webelement.WebElement (session=\"f35bb0e3b7099f05c54d69c965a04780\", element=\"9b2fd30b-72fa-4881-8e16-a7d3d41f6625\")>,\n",
       " <selenium.webdriver.remote.webelement.WebElement (session=\"f35bb0e3b7099f05c54d69c965a04780\", element=\"183f7ef3-e600-44d3-9ab0-da9df61c1573\")>,\n",
       " <selenium.webdriver.remote.webelement.WebElement (session=\"f35bb0e3b7099f05c54d69c965a04780\", element=\"8e488f7f-7ffe-43e5-b61a-bb0c7bfb4b7a\")>,\n",
       " <selenium.webdriver.remote.webelement.WebElement (session=\"f35bb0e3b7099f05c54d69c965a04780\", element=\"a04e291b-4f71-42fe-bf2f-d205d6a85927\")>,\n",
       " <selenium.webdriver.remote.webelement.WebElement (session=\"f35bb0e3b7099f05c54d69c965a04780\", element=\"0efee9da-81c4-4b85-8692-0930bdac6f69\")>,\n",
       " <selenium.webdriver.remote.webelement.WebElement (session=\"f35bb0e3b7099f05c54d69c965a04780\", element=\"4055c558-7f29-4023-ba21-bc892ac80986\")>,\n",
       " <selenium.webdriver.remote.webelement.WebElement (session=\"f35bb0e3b7099f05c54d69c965a04780\", element=\"39c3300d-f7ac-4309-839e-0ab453341c9f\")>,\n",
       " <selenium.webdriver.remote.webelement.WebElement (session=\"f35bb0e3b7099f05c54d69c965a04780\", element=\"d3bc924c-a285-4f20-9365-4c251abefc2a\")>,\n",
       " <selenium.webdriver.remote.webelement.WebElement (session=\"f35bb0e3b7099f05c54d69c965a04780\", element=\"4c5f36a7-6f0b-4fd7-a54d-900ffd0bb635\")>,\n",
       " <selenium.webdriver.remote.webelement.WebElement (session=\"f35bb0e3b7099f05c54d69c965a04780\", element=\"1dddaade-ebc1-40f0-9f8e-f943ca4c3c90\")>,\n",
       " <selenium.webdriver.remote.webelement.WebElement (session=\"f35bb0e3b7099f05c54d69c965a04780\", element=\"8209dc51-2d5f-49fd-8295-63495937c88b\")>,\n",
       " <selenium.webdriver.remote.webelement.WebElement (session=\"f35bb0e3b7099f05c54d69c965a04780\", element=\"90b50336-70ea-415e-a3c4-76a065efbfc8\")>,\n",
       " <selenium.webdriver.remote.webelement.WebElement (session=\"f35bb0e3b7099f05c54d69c965a04780\", element=\"678f2f2c-3a45-43c3-9035-285096b24f91\")>,\n",
       " <selenium.webdriver.remote.webelement.WebElement (session=\"f35bb0e3b7099f05c54d69c965a04780\", element=\"d93ed94f-c4c8-49b8-8f02-51b6021f1d6d\")>]"
      ]
     },
     "execution_count": 85,
     "metadata": {},
     "output_type": "execute_result"
    }
   ],
   "source": [
    "prices=driver.find_elements_by_xpath(\"//div[@class='_30jeq3']\")\n",
    "prices[0:30]"
   ]
  },
  {
   "cell_type": "code",
   "execution_count": 86,
   "metadata": {},
   "outputs": [
    {
     "data": {
      "text/plain": [
       "['₹559',\n",
       " '₹359',\n",
       " '₹758',\n",
       " '₹200',\n",
       " '₹295',\n",
       " '₹198',\n",
       " '₹194',\n",
       " '₹799',\n",
       " '₹474',\n",
       " '₹299',\n",
       " '₹229',\n",
       " '₹383',\n",
       " '₹284',\n",
       " '₹199',\n",
       " '₹2,450',\n",
       " '₹223',\n",
       " '₹267',\n",
       " '₹239',\n",
       " '₹399',\n",
       " '₹639',\n",
       " '₹1,754',\n",
       " '₹545',\n",
       " '₹599',\n",
       " '₹524',\n",
       " '₹265',\n",
       " '₹1,040',\n",
       " '₹6,472',\n",
       " '₹479',\n",
       " '₹999',\n",
       " '₹2,137',\n",
       " '₹349',\n",
       " '₹799',\n",
       " '₹210',\n",
       " '₹404',\n",
       " '₹639',\n",
       " '₹479',\n",
       " '₹200',\n",
       " '₹509',\n",
       " '₹2,450',\n",
       " '₹559']"
      ]
     },
     "execution_count": 86,
     "metadata": {},
     "output_type": "execute_result"
    }
   ],
   "source": [
    "for i in prices:\n",
    "    price_tag.append(i.text)\n",
    "price_tag        "
   ]
  },
  {
   "cell_type": "code",
   "execution_count": 87,
   "metadata": {},
   "outputs": [
    {
     "data": {
      "text/plain": [
       "[<selenium.webdriver.remote.webelement.WebElement (session=\"f35bb0e3b7099f05c54d69c965a04780\", element=\"d86dc879-1a17-47e3-9abc-a90ee7b8c610\")>,\n",
       " <selenium.webdriver.remote.webelement.WebElement (session=\"f35bb0e3b7099f05c54d69c965a04780\", element=\"897377cb-dcaf-4fac-a90f-ce7a9c4ce93a\")>,\n",
       " <selenium.webdriver.remote.webelement.WebElement (session=\"f35bb0e3b7099f05c54d69c965a04780\", element=\"2ffbe03e-fe34-4b4a-b5cb-d65b08f3ea6a\")>,\n",
       " <selenium.webdriver.remote.webelement.WebElement (session=\"f35bb0e3b7099f05c54d69c965a04780\", element=\"43ae72f5-8675-4884-ac9c-ce8ee46cac75\")>,\n",
       " <selenium.webdriver.remote.webelement.WebElement (session=\"f35bb0e3b7099f05c54d69c965a04780\", element=\"8f705e6f-526d-426e-b37e-803a4171d2b3\")>,\n",
       " <selenium.webdriver.remote.webelement.WebElement (session=\"f35bb0e3b7099f05c54d69c965a04780\", element=\"7b7b36d2-bf9b-471d-adc9-d6c55f0dd2bd\")>,\n",
       " <selenium.webdriver.remote.webelement.WebElement (session=\"f35bb0e3b7099f05c54d69c965a04780\", element=\"c12f30bb-478e-4751-97c0-2453c9a5d0d7\")>,\n",
       " <selenium.webdriver.remote.webelement.WebElement (session=\"f35bb0e3b7099f05c54d69c965a04780\", element=\"702147cc-4b46-4259-94fd-c865ff76c9db\")>,\n",
       " <selenium.webdriver.remote.webelement.WebElement (session=\"f35bb0e3b7099f05c54d69c965a04780\", element=\"5de3bef9-6e3f-46d6-9747-bd39ee3c80e0\")>,\n",
       " <selenium.webdriver.remote.webelement.WebElement (session=\"f35bb0e3b7099f05c54d69c965a04780\", element=\"e2860d17-e5fb-48d5-ac39-ce5301b385e1\")>,\n",
       " <selenium.webdriver.remote.webelement.WebElement (session=\"f35bb0e3b7099f05c54d69c965a04780\", element=\"febde98b-3db0-4851-b2b7-50a2c11827b3\")>,\n",
       " <selenium.webdriver.remote.webelement.WebElement (session=\"f35bb0e3b7099f05c54d69c965a04780\", element=\"09877ce7-2f1c-408e-8d49-40ed7777bc66\")>,\n",
       " <selenium.webdriver.remote.webelement.WebElement (session=\"f35bb0e3b7099f05c54d69c965a04780\", element=\"26022b0c-5f2b-4b01-a999-21c92993482e\")>,\n",
       " <selenium.webdriver.remote.webelement.WebElement (session=\"f35bb0e3b7099f05c54d69c965a04780\", element=\"5254ffa7-c40e-42a3-b750-b8faaaa4e852\")>,\n",
       " <selenium.webdriver.remote.webelement.WebElement (session=\"f35bb0e3b7099f05c54d69c965a04780\", element=\"22b96f4b-8ef1-402c-a440-3c149d2e9c91\")>,\n",
       " <selenium.webdriver.remote.webelement.WebElement (session=\"f35bb0e3b7099f05c54d69c965a04780\", element=\"aca8b90f-8a28-4da0-b86c-7f0262af4b19\")>,\n",
       " <selenium.webdriver.remote.webelement.WebElement (session=\"f35bb0e3b7099f05c54d69c965a04780\", element=\"c22bf88a-c62c-4d98-b620-86ea4dcd3bfb\")>,\n",
       " <selenium.webdriver.remote.webelement.WebElement (session=\"f35bb0e3b7099f05c54d69c965a04780\", element=\"9d2ce189-9894-4859-b7e1-0e3c1d9c986b\")>,\n",
       " <selenium.webdriver.remote.webelement.WebElement (session=\"f35bb0e3b7099f05c54d69c965a04780\", element=\"6368a1c7-2320-4113-b6d3-9626249de18c\")>,\n",
       " <selenium.webdriver.remote.webelement.WebElement (session=\"f35bb0e3b7099f05c54d69c965a04780\", element=\"cb5a1474-4f16-4e9c-a75f-2094a8af6f06\")>,\n",
       " <selenium.webdriver.remote.webelement.WebElement (session=\"f35bb0e3b7099f05c54d69c965a04780\", element=\"e970cf05-2459-4294-9c3e-a81275826105\")>,\n",
       " <selenium.webdriver.remote.webelement.WebElement (session=\"f35bb0e3b7099f05c54d69c965a04780\", element=\"c4e33d39-4fbf-4a67-b736-5eb8d9f0ae43\")>,\n",
       " <selenium.webdriver.remote.webelement.WebElement (session=\"f35bb0e3b7099f05c54d69c965a04780\", element=\"32ba9f49-65a5-4821-b277-dad63f9055b6\")>,\n",
       " <selenium.webdriver.remote.webelement.WebElement (session=\"f35bb0e3b7099f05c54d69c965a04780\", element=\"c7d7f92e-8a20-4e90-8415-fc2b7e6e62b4\")>,\n",
       " <selenium.webdriver.remote.webelement.WebElement (session=\"f35bb0e3b7099f05c54d69c965a04780\", element=\"a9c30cf5-c55d-455e-9d62-51b97fef5b0a\")>,\n",
       " <selenium.webdriver.remote.webelement.WebElement (session=\"f35bb0e3b7099f05c54d69c965a04780\", element=\"298b8508-7f06-41f4-bc8d-e5a3e429f0f2\")>,\n",
       " <selenium.webdriver.remote.webelement.WebElement (session=\"f35bb0e3b7099f05c54d69c965a04780\", element=\"9ae57d47-1463-493d-89c4-596f884866e2\")>,\n",
       " <selenium.webdriver.remote.webelement.WebElement (session=\"f35bb0e3b7099f05c54d69c965a04780\", element=\"2fec0fb1-fb43-4e87-93c7-b5247d32341a\")>,\n",
       " <selenium.webdriver.remote.webelement.WebElement (session=\"f35bb0e3b7099f05c54d69c965a04780\", element=\"fe2572a0-840d-465c-ba76-043391a6810c\")>,\n",
       " <selenium.webdriver.remote.webelement.WebElement (session=\"f35bb0e3b7099f05c54d69c965a04780\", element=\"1c27d885-ed95-4053-aa6c-8112818c1c1a\")>]"
      ]
     },
     "execution_count": 87,
     "metadata": {},
     "output_type": "execute_result"
    }
   ],
   "source": [
    "discount=driver.find_elements_by_xpath(\"//div[@class='_3Ay6Sb']\")\n",
    "discount[0:30]"
   ]
  },
  {
   "cell_type": "code",
   "execution_count": 88,
   "metadata": {},
   "outputs": [
    {
     "data": {
      "text/plain": [
       "['62% off',\n",
       " '82% off',\n",
       " '15% off',\n",
       " '87% off',\n",
       " '88% off',\n",
       " '88% off',\n",
       " '87% off',\n",
       " '60% off',\n",
       " '78% off',\n",
       " '81% off',\n",
       " '67% off',\n",
       " '80% off',\n",
       " '89% off',\n",
       " '60% off',\n",
       " '82% off',\n",
       " '65% off',\n",
       " '88% off',\n",
       " '80% off',\n",
       " '68% off',\n",
       " '62% off',\n",
       " '64% off',\n",
       " '70% off',\n",
       " '73% off',\n",
       " '73% off',\n",
       " '67% off',\n",
       " '20% off',\n",
       " '76% off',\n",
       " '58% off',\n",
       " '65% off',\n",
       " '60% off',\n",
       " '85% off',\n",
       " '73% off',\n",
       " '68% off',\n",
       " '76% off',\n",
       " '87% off',\n",
       " '36% off',\n",
       " '72% off']"
      ]
     },
     "execution_count": 88,
     "metadata": {},
     "output_type": "execute_result"
    }
   ],
   "source": [
    "for i in discount:\n",
    "    discount_tag.append(i.text)\n",
    "discount_tag    "
   ]
  },
  {
   "cell_type": "code",
   "execution_count": 89,
   "metadata": {},
   "outputs": [
    {
     "data": {
      "text/html": [
       "<div>\n",
       "<style scoped>\n",
       "    .dataframe tbody tr th:only-of-type {\n",
       "        vertical-align: middle;\n",
       "    }\n",
       "\n",
       "    .dataframe tbody tr th {\n",
       "        vertical-align: top;\n",
       "    }\n",
       "\n",
       "    .dataframe thead th {\n",
       "        text-align: right;\n",
       "    }\n",
       "</style>\n",
       "<table border=\"1\" class=\"dataframe\">\n",
       "  <thead>\n",
       "    <tr style=\"text-align: right;\">\n",
       "      <th></th>\n",
       "      <th>brand</th>\n",
       "      <th>product description</th>\n",
       "      <th>price</th>\n",
       "      <th>discount</th>\n",
       "    </tr>\n",
       "  </thead>\n",
       "  <tbody>\n",
       "    <tr>\n",
       "      <th>0</th>\n",
       "      <td>ROYAL SON</td>\n",
       "      <td>Polarized, UV Protection Rectangular Sunglasse...</td>\n",
       "      <td>₹559</td>\n",
       "      <td>62% off</td>\n",
       "    </tr>\n",
       "    <tr>\n",
       "      <th>1</th>\n",
       "      <td>ROZZETTA CRAFT</td>\n",
       "      <td>UV Protection, Gradient Round Sunglasses (Free...</td>\n",
       "      <td>₹359</td>\n",
       "      <td>82% off</td>\n",
       "    </tr>\n",
       "    <tr>\n",
       "      <th>2</th>\n",
       "      <td>Fastrack</td>\n",
       "      <td>UV Protection Wayfarer Sunglasses (Free Size)</td>\n",
       "      <td>₹758</td>\n",
       "      <td>15% off</td>\n",
       "    </tr>\n",
       "    <tr>\n",
       "      <th>3</th>\n",
       "      <td>PIRASO</td>\n",
       "      <td>UV Protection Aviator Sunglasses (54)</td>\n",
       "      <td>₹200</td>\n",
       "      <td>87% off</td>\n",
       "    </tr>\n",
       "    <tr>\n",
       "      <th>4</th>\n",
       "      <td>Elligator</td>\n",
       "      <td>UV Protection Round Sunglasses (54)</td>\n",
       "      <td>₹295</td>\n",
       "      <td>88% off</td>\n",
       "    </tr>\n",
       "    <tr>\n",
       "      <th>5</th>\n",
       "      <td>SHAAH COLLECTIONS</td>\n",
       "      <td>UV Protection, Polarized, Mirrored Rectangular...</td>\n",
       "      <td>₹198</td>\n",
       "      <td>88% off</td>\n",
       "    </tr>\n",
       "    <tr>\n",
       "      <th>6</th>\n",
       "      <td>Silver Kartz</td>\n",
       "      <td>UV Protection Wayfarer Sunglasses (Free Size)</td>\n",
       "      <td>₹194</td>\n",
       "      <td>87% off</td>\n",
       "    </tr>\n",
       "    <tr>\n",
       "      <th>7</th>\n",
       "      <td>VINCENT CHASE</td>\n",
       "      <td>Polarized, UV Protection Wayfarer Sunglasses (53)</td>\n",
       "      <td>₹799</td>\n",
       "      <td>60% off</td>\n",
       "    </tr>\n",
       "    <tr>\n",
       "      <th>8</th>\n",
       "      <td>ROZZETTA CRAFT</td>\n",
       "      <td>UV Protection Retro Square Sunglasses (Free Size)</td>\n",
       "      <td>₹474</td>\n",
       "      <td>78% off</td>\n",
       "    </tr>\n",
       "    <tr>\n",
       "      <th>9</th>\n",
       "      <td>New Specs</td>\n",
       "      <td>Mirrored, UV Protection, Riding Glasses, Other...</td>\n",
       "      <td>₹299</td>\n",
       "      <td>81% off</td>\n",
       "    </tr>\n",
       "    <tr>\n",
       "      <th>10</th>\n",
       "      <td>Singco India</td>\n",
       "      <td>UV Protection, Riding Glasses, Others Aviator,...</td>\n",
       "      <td>₹229</td>\n",
       "      <td>67% off</td>\n",
       "    </tr>\n",
       "    <tr>\n",
       "      <th>11</th>\n",
       "      <td>ROZZETTA CRAFT</td>\n",
       "      <td>UV Protection, Gradient Rectangular Sunglasses...</td>\n",
       "      <td>₹383</td>\n",
       "      <td>80% off</td>\n",
       "    </tr>\n",
       "    <tr>\n",
       "      <th>12</th>\n",
       "      <td>kingsunglasses</td>\n",
       "      <td>Mirrored, UV Protection Wayfarer Sunglasses (F...</td>\n",
       "      <td>₹284</td>\n",
       "      <td>89% off</td>\n",
       "    </tr>\n",
       "    <tr>\n",
       "      <th>13</th>\n",
       "      <td>Rich Club</td>\n",
       "      <td>Polarized Round Sunglasses (48)</td>\n",
       "      <td>₹199</td>\n",
       "      <td>60% off</td>\n",
       "    </tr>\n",
       "    <tr>\n",
       "      <th>14</th>\n",
       "      <td>IDEE</td>\n",
       "      <td>Mirrored, UV Protection Aviator Sunglasses (18)</td>\n",
       "      <td>₹2,450</td>\n",
       "      <td>82% off</td>\n",
       "    </tr>\n",
       "    <tr>\n",
       "      <th>15</th>\n",
       "      <td>ROYAL SON</td>\n",
       "      <td>UV Protection Wayfarer Sunglasses (55)</td>\n",
       "      <td>₹223</td>\n",
       "      <td>65% off</td>\n",
       "    </tr>\n",
       "    <tr>\n",
       "      <th>16</th>\n",
       "      <td>NuVew</td>\n",
       "      <td>UV Protection, Night Vision, Riding Glasses Sp...</td>\n",
       "      <td>₹267</td>\n",
       "      <td>88% off</td>\n",
       "    </tr>\n",
       "    <tr>\n",
       "      <th>17</th>\n",
       "      <td>GANSTA</td>\n",
       "      <td>UV Protection Aviator Sunglasses (57)</td>\n",
       "      <td>₹239</td>\n",
       "      <td>80% off</td>\n",
       "    </tr>\n",
       "    <tr>\n",
       "      <th>18</th>\n",
       "      <td>PHENOMENAL</td>\n",
       "      <td>UV Protection Retro Square Sunglasses (Free Size)</td>\n",
       "      <td>₹399</td>\n",
       "      <td>68% off</td>\n",
       "    </tr>\n",
       "    <tr>\n",
       "      <th>19</th>\n",
       "      <td>ROYAL SON</td>\n",
       "      <td>Polarized, UV Protection Aviator Sunglasses (58)</td>\n",
       "      <td>₹639</td>\n",
       "      <td>62% off</td>\n",
       "    </tr>\n",
       "    <tr>\n",
       "      <th>20</th>\n",
       "      <td>United Colors of Benetton</td>\n",
       "      <td>Mirrored Rectangular Sunglasses (53)</td>\n",
       "      <td>₹1,754</td>\n",
       "      <td>64% off</td>\n",
       "    </tr>\n",
       "    <tr>\n",
       "      <th>21</th>\n",
       "      <td>AISLIN</td>\n",
       "      <td>UV Protection, Gradient Butterfly, Retro Squar...</td>\n",
       "      <td>₹545</td>\n",
       "      <td>70% off</td>\n",
       "    </tr>\n",
       "    <tr>\n",
       "      <th>22</th>\n",
       "      <td>ROYAL SON</td>\n",
       "      <td>Polarized, UV Protection Aviator Sunglasses (58)</td>\n",
       "      <td>₹599</td>\n",
       "      <td>73% off</td>\n",
       "    </tr>\n",
       "    <tr>\n",
       "      <th>23</th>\n",
       "      <td>ROYAL SON</td>\n",
       "      <td>UV Protection, Gradient Butterfly Sunglasses (60)</td>\n",
       "      <td>₹524</td>\n",
       "      <td>73% off</td>\n",
       "    </tr>\n",
       "    <tr>\n",
       "      <th>24</th>\n",
       "      <td>SUNBEE</td>\n",
       "      <td>UV Protection, Polarized, Mirrored Wayfarer Su...</td>\n",
       "      <td>₹265</td>\n",
       "      <td>67% off</td>\n",
       "    </tr>\n",
       "    <tr>\n",
       "      <th>25</th>\n",
       "      <td>WROGN</td>\n",
       "      <td>Polarized Oval Sunglasses (55)</td>\n",
       "      <td>₹1,040</td>\n",
       "      <td>20% off</td>\n",
       "    </tr>\n",
       "    <tr>\n",
       "      <th>26</th>\n",
       "      <td>Ray-Ban</td>\n",
       "      <td>Mirrored Aviator Sunglasses (55)</td>\n",
       "      <td>₹6,472</td>\n",
       "      <td>76% off</td>\n",
       "    </tr>\n",
       "    <tr>\n",
       "      <th>27</th>\n",
       "      <td>ROYAL SON</td>\n",
       "      <td>UV Protection Retro Square Sunglasses (88)</td>\n",
       "      <td>₹479</td>\n",
       "      <td>58% off</td>\n",
       "    </tr>\n",
       "    <tr>\n",
       "      <th>28</th>\n",
       "      <td>Mi</td>\n",
       "      <td>Polarized Wayfarer Sunglasses (Free Size)</td>\n",
       "      <td>₹999</td>\n",
       "      <td>65% off</td>\n",
       "    </tr>\n",
       "    <tr>\n",
       "      <th>29</th>\n",
       "      <td>Pierre Cardin</td>\n",
       "      <td>Mirrored Aviator Sunglasses (59)</td>\n",
       "      <td>₹2,137</td>\n",
       "      <td>60% off</td>\n",
       "    </tr>\n",
       "  </tbody>\n",
       "</table>\n",
       "</div>"
      ],
      "text/plain": [
       "                        brand  \\\n",
       "0                   ROYAL SON   \n",
       "1              ROZZETTA CRAFT   \n",
       "2                    Fastrack   \n",
       "3                      PIRASO   \n",
       "4                   Elligator   \n",
       "5           SHAAH COLLECTIONS   \n",
       "6                Silver Kartz   \n",
       "7               VINCENT CHASE   \n",
       "8              ROZZETTA CRAFT   \n",
       "9                   New Specs   \n",
       "10               Singco India   \n",
       "11             ROZZETTA CRAFT   \n",
       "12             kingsunglasses   \n",
       "13                  Rich Club   \n",
       "14                       IDEE   \n",
       "15                  ROYAL SON   \n",
       "16                      NuVew   \n",
       "17                     GANSTA   \n",
       "18                 PHENOMENAL   \n",
       "19                  ROYAL SON   \n",
       "20  United Colors of Benetton   \n",
       "21                     AISLIN   \n",
       "22                  ROYAL SON   \n",
       "23                  ROYAL SON   \n",
       "24                     SUNBEE   \n",
       "25                      WROGN   \n",
       "26                    Ray-Ban   \n",
       "27                  ROYAL SON   \n",
       "28                         Mi   \n",
       "29              Pierre Cardin   \n",
       "\n",
       "                                  product description   price discount  \n",
       "0   Polarized, UV Protection Rectangular Sunglasse...    ₹559  62% off  \n",
       "1   UV Protection, Gradient Round Sunglasses (Free...    ₹359  82% off  \n",
       "2       UV Protection Wayfarer Sunglasses (Free Size)    ₹758  15% off  \n",
       "3               UV Protection Aviator Sunglasses (54)    ₹200  87% off  \n",
       "4                 UV Protection Round Sunglasses (54)    ₹295  88% off  \n",
       "5   UV Protection, Polarized, Mirrored Rectangular...    ₹198  88% off  \n",
       "6       UV Protection Wayfarer Sunglasses (Free Size)    ₹194  87% off  \n",
       "7   Polarized, UV Protection Wayfarer Sunglasses (53)    ₹799  60% off  \n",
       "8   UV Protection Retro Square Sunglasses (Free Size)    ₹474  78% off  \n",
       "9   Mirrored, UV Protection, Riding Glasses, Other...    ₹299  81% off  \n",
       "10  UV Protection, Riding Glasses, Others Aviator,...    ₹229  67% off  \n",
       "11  UV Protection, Gradient Rectangular Sunglasses...    ₹383  80% off  \n",
       "12  Mirrored, UV Protection Wayfarer Sunglasses (F...    ₹284  89% off  \n",
       "13                    Polarized Round Sunglasses (48)    ₹199  60% off  \n",
       "14    Mirrored, UV Protection Aviator Sunglasses (18)  ₹2,450  82% off  \n",
       "15             UV Protection Wayfarer Sunglasses (55)    ₹223  65% off  \n",
       "16  UV Protection, Night Vision, Riding Glasses Sp...    ₹267  88% off  \n",
       "17              UV Protection Aviator Sunglasses (57)    ₹239  80% off  \n",
       "18  UV Protection Retro Square Sunglasses (Free Size)    ₹399  68% off  \n",
       "19   Polarized, UV Protection Aviator Sunglasses (58)    ₹639  62% off  \n",
       "20               Mirrored Rectangular Sunglasses (53)  ₹1,754  64% off  \n",
       "21  UV Protection, Gradient Butterfly, Retro Squar...    ₹545  70% off  \n",
       "22   Polarized, UV Protection Aviator Sunglasses (58)    ₹599  73% off  \n",
       "23  UV Protection, Gradient Butterfly Sunglasses (60)    ₹524  73% off  \n",
       "24  UV Protection, Polarized, Mirrored Wayfarer Su...    ₹265  67% off  \n",
       "25                     Polarized Oval Sunglasses (55)  ₹1,040  20% off  \n",
       "26                   Mirrored Aviator Sunglasses (55)  ₹6,472  76% off  \n",
       "27         UV Protection Retro Square Sunglasses (88)    ₹479  58% off  \n",
       "28          Polarized Wayfarer Sunglasses (Free Size)    ₹999  65% off  \n",
       "29                   Mirrored Aviator Sunglasses (59)  ₹2,137  60% off  "
      ]
     },
     "execution_count": 89,
     "metadata": {},
     "output_type": "execute_result"
    }
   ],
   "source": [
    "glasses=pd.DataFrame({})\n",
    "glasses['brand']=brand_tag[0:30]\n",
    "glasses['product description']=product_Description_tag[0:30]\n",
    "glasses['price']=price_tag[0:30]\n",
    "glasses['discount']=discount_tag[0:30]\n",
    "glasses"
   ]
  },
  {
   "cell_type": "markdown",
   "metadata": {},
   "source": [
    "Q7: Scrape 100 reviews data from flipkart.com for iphone11 phone. You have to \n",
    "go the link: https://www.flipkart.com/apple-iphone-11-black-64-gb-includes\u0002earpods-power\u0002adapter/p/itm0f37c2240b217?pid=MOBFKCTSVZAXUHGR&lid=LSTMOBFKC\n",
    "TSVZAXUHGREPBFGI&marketplace.\n",
    "When you will open the above link you will reach to the below shown webpage.\n",
    "As shown in the above page you have to scrape the tick marked attributes.\n",
    "These are \n",
    "1. Rating \n",
    "2. Review_summary \n",
    "3. Full review\n",
    "You have to scrape this data for first 100 reviews"
   ]
  },
  {
   "cell_type": "code",
   "execution_count": 11,
   "metadata": {},
   "outputs": [],
   "source": [
    "driver =webdriver.Chrome(r'C:\\Users\\Om Prakash\\Downloads\\chromedriver_win32/chromedriver.exe')"
   ]
  },
  {
   "cell_type": "code",
   "execution_count": 12,
   "metadata": {},
   "outputs": [],
   "source": [
    "driver=webdriver.Chrome('chromedriver.exe')"
   ]
  },
  {
   "cell_type": "code",
   "execution_count": 13,
   "metadata": {},
   "outputs": [],
   "source": [
    "driver.get('https://www.flipkart.com/apple-iphone-11-black-64-gb-includes%02earpods-power%02adapter/p/itm0f37c2240b217?pid=MOBFKCTSVZAXUHGR&lid=LSTMOBFKC')"
   ]
  },
  {
   "cell_type": "code",
   "execution_count": 15,
   "metadata": {},
   "outputs": [],
   "source": [
    "Rating=[] \n",
    "Review_summary=[] \n",
    "Full_review=[]"
   ]
  },
  {
   "cell_type": "code",
   "execution_count": 25,
   "metadata": {},
   "outputs": [],
   "source": [
    "urlssss=('https://www.flipkart.com/apple-iphone-11-black-64-gb-includes-earpods-power-adapter/product-reviews/itm0f37c2240b217?pid=MOBFKCTSVZAXUHGR&lid=LSTMOBFKCTSVZAXUHGREPBFGI&marketplace=FLIPKART')"
   ]
  },
  {
   "cell_type": "code",
   "execution_count": 26,
   "metadata": {},
   "outputs": [],
   "source": [
    "driver.get(urlssss)"
   ]
  },
  {
   "cell_type": "code",
   "execution_count": 35,
   "metadata": {},
   "outputs": [
    {
     "data": {
      "text/plain": [
       "[<selenium.webdriver.remote.webelement.WebElement (session=\"27d1f60689833384be04ec7173ba6209\", element=\"d331d569-b6ba-4af2-8849-f0838e7f4eb7\")>,\n",
       " <selenium.webdriver.remote.webelement.WebElement (session=\"27d1f60689833384be04ec7173ba6209\", element=\"153481db-ecf9-4f02-a3e5-7f000b6b1230\")>,\n",
       " <selenium.webdriver.remote.webelement.WebElement (session=\"27d1f60689833384be04ec7173ba6209\", element=\"8e2d9e79-ed2c-43df-afdf-2b3838f68534\")>,\n",
       " <selenium.webdriver.remote.webelement.WebElement (session=\"27d1f60689833384be04ec7173ba6209\", element=\"c33c19f0-dc79-4dbb-9352-42e12bdccb1d\")>,\n",
       " <selenium.webdriver.remote.webelement.WebElement (session=\"27d1f60689833384be04ec7173ba6209\", element=\"56888868-3a08-4cd4-a517-9f2be820fa3f\")>,\n",
       " <selenium.webdriver.remote.webelement.WebElement (session=\"27d1f60689833384be04ec7173ba6209\", element=\"e775fb9c-f468-45d6-bb1f-ac340a4d55d7\")>,\n",
       " <selenium.webdriver.remote.webelement.WebElement (session=\"27d1f60689833384be04ec7173ba6209\", element=\"6fa12772-ac54-4992-8591-d17fd51bf64a\")>,\n",
       " <selenium.webdriver.remote.webelement.WebElement (session=\"27d1f60689833384be04ec7173ba6209\", element=\"56eb1b5c-4da8-4b21-ab6a-8968b9ae7af5\")>,\n",
       " <selenium.webdriver.remote.webelement.WebElement (session=\"27d1f60689833384be04ec7173ba6209\", element=\"a18da1b7-1cb5-4f99-baae-cb19e59de013\")>,\n",
       " <selenium.webdriver.remote.webelement.WebElement (session=\"27d1f60689833384be04ec7173ba6209\", element=\"314eb97e-c4b2-447e-acbe-9caeafc83869\")>]"
      ]
     },
     "execution_count": 35,
     "metadata": {},
     "output_type": "execute_result"
    }
   ],
   "source": [
    "rating_tag=driver.find_elements_by_xpath(\"//div[@class='_3LWZlK _1BLPMq']\")\n",
    "rating_tag[0:100]"
   ]
  },
  {
   "cell_type": "code",
   "execution_count": 36,
   "metadata": {},
   "outputs": [
    {
     "data": {
      "text/plain": [
       "['5', '5', '5', '5', '5', '5', '5', '5', '5', '5']"
      ]
     },
     "execution_count": 36,
     "metadata": {},
     "output_type": "execute_result"
    }
   ],
   "source": [
    "for i in rating_tag:\n",
    "    Rating.append(i.text)\n",
    "Rating    "
   ]
  },
  {
   "cell_type": "code",
   "execution_count": 37,
   "metadata": {},
   "outputs": [
    {
     "data": {
      "text/plain": [
       "[<selenium.webdriver.remote.webelement.WebElement (session=\"27d1f60689833384be04ec7173ba6209\", element=\"66cc79d9-315c-4477-88fd-bc3f88976d92\")>,\n",
       " <selenium.webdriver.remote.webelement.WebElement (session=\"27d1f60689833384be04ec7173ba6209\", element=\"09dd2eff-5b36-4a2b-94a9-c432e728a8ad\")>,\n",
       " <selenium.webdriver.remote.webelement.WebElement (session=\"27d1f60689833384be04ec7173ba6209\", element=\"9bd408d8-7e4e-42b9-88ba-db9605fa1660\")>,\n",
       " <selenium.webdriver.remote.webelement.WebElement (session=\"27d1f60689833384be04ec7173ba6209\", element=\"482277e8-7f3d-4f42-8afc-5d6608e4f672\")>,\n",
       " <selenium.webdriver.remote.webelement.WebElement (session=\"27d1f60689833384be04ec7173ba6209\", element=\"d02b9803-9e26-491b-8541-f9326916fd23\")>,\n",
       " <selenium.webdriver.remote.webelement.WebElement (session=\"27d1f60689833384be04ec7173ba6209\", element=\"a5aaa2ef-00b3-452a-8924-0a7213d10063\")>,\n",
       " <selenium.webdriver.remote.webelement.WebElement (session=\"27d1f60689833384be04ec7173ba6209\", element=\"d3cec232-0f8f-46dc-bc53-7d81a6d41055\")>,\n",
       " <selenium.webdriver.remote.webelement.WebElement (session=\"27d1f60689833384be04ec7173ba6209\", element=\"e296347b-68df-496d-ada5-e3a687cf174f\")>,\n",
       " <selenium.webdriver.remote.webelement.WebElement (session=\"27d1f60689833384be04ec7173ba6209\", element=\"506d462d-5ad6-436c-9cb6-89ff432806cb\")>,\n",
       " <selenium.webdriver.remote.webelement.WebElement (session=\"27d1f60689833384be04ec7173ba6209\", element=\"a430b535-f170-4948-975c-b3aba5c9ffd1\")>]"
      ]
     },
     "execution_count": 37,
     "metadata": {},
     "output_type": "execute_result"
    }
   ],
   "source": [
    "Review_summary_tag=driver.find_elements_by_xpath(\"//p[@class='_2-N8zT']\")\n",
    "Review_summary_tag"
   ]
  },
  {
   "cell_type": "code",
   "execution_count": 38,
   "metadata": {},
   "outputs": [
    {
     "data": {
      "text/plain": [
       "['Brilliant',\n",
       " 'Simply awesome',\n",
       " 'Perfect product!',\n",
       " 'Fabulous!',\n",
       " 'Best in the market!',\n",
       " 'Worth every penny',\n",
       " 'Great product',\n",
       " 'Good choice',\n",
       " 'Highly recommended',\n",
       " 'Worth every penny']"
      ]
     },
     "execution_count": 38,
     "metadata": {},
     "output_type": "execute_result"
    }
   ],
   "source": [
    "for i in Review_summary_tag:\n",
    "    Review_summary.append(i.text)\n",
    "Review_summary    "
   ]
  },
  {
   "cell_type": "code",
   "execution_count": 39,
   "metadata": {},
   "outputs": [
    {
     "data": {
      "text/plain": [
       "[<selenium.webdriver.remote.webelement.WebElement (session=\"27d1f60689833384be04ec7173ba6209\", element=\"137ff827-606e-470a-8265-7834cae1df00\")>,\n",
       " <selenium.webdriver.remote.webelement.WebElement (session=\"27d1f60689833384be04ec7173ba6209\", element=\"d29802a3-c9a5-483b-8edf-b39b9c613c39\")>,\n",
       " <selenium.webdriver.remote.webelement.WebElement (session=\"27d1f60689833384be04ec7173ba6209\", element=\"cbc297c1-4d11-4996-8967-c79895c53b73\")>,\n",
       " <selenium.webdriver.remote.webelement.WebElement (session=\"27d1f60689833384be04ec7173ba6209\", element=\"72be7843-eef5-4c13-9bf5-bcc4f2a719a5\")>,\n",
       " <selenium.webdriver.remote.webelement.WebElement (session=\"27d1f60689833384be04ec7173ba6209\", element=\"057968d9-c8c4-47b8-9b3c-f1eb6f4d96fb\")>,\n",
       " <selenium.webdriver.remote.webelement.WebElement (session=\"27d1f60689833384be04ec7173ba6209\", element=\"b168634a-3a91-4689-b3c0-253aa71865ce\")>,\n",
       " <selenium.webdriver.remote.webelement.WebElement (session=\"27d1f60689833384be04ec7173ba6209\", element=\"d359299c-e566-4121-ad40-d4597cc0b5f5\")>,\n",
       " <selenium.webdriver.remote.webelement.WebElement (session=\"27d1f60689833384be04ec7173ba6209\", element=\"88e16bc4-700b-48f9-87fa-a85cd7bb31d2\")>,\n",
       " <selenium.webdriver.remote.webelement.WebElement (session=\"27d1f60689833384be04ec7173ba6209\", element=\"2079bd4c-2ca6-4751-a93e-51c539ff0f06\")>,\n",
       " <selenium.webdriver.remote.webelement.WebElement (session=\"27d1f60689833384be04ec7173ba6209\", element=\"58705246-294e-42d7-afe0-852ff8859c29\")>]"
      ]
     },
     "execution_count": 39,
     "metadata": {},
     "output_type": "execute_result"
    }
   ],
   "source": [
    "Full_review_tag=driver.find_elements_by_xpath(\"//div[@class='t-ZTKy']\")\n",
    "Full_review_tag"
   ]
  },
  {
   "cell_type": "code",
   "execution_count": 40,
   "metadata": {},
   "outputs": [
    {
     "data": {
      "text/plain": [
       "['The Best Phone for the Money\\n\\nThe iPhone 11 offers superb cameras, a more durable design and excellent battery life for an affordable price.\\n\\nCompelling ultra-wide camera\\nNew Night mode is excellent\\nLong battery life',\n",
       " 'Really satisfied with the Product I received... It’s totally genuine and the packaging was also really good so if ur planning to buy just go for it.',\n",
       " 'Amazing phone with great cameras and better battery which gives you the best performance. I just love the camera .',\n",
       " 'This is my first iOS phone. I am very happy with this product. Very much satisfied with this. I love this phone.',\n",
       " 'Great iPhone very snappy experience as apple kind. Upgraded from iPhone 7.\\nPros\\n-Camera top class\\n- Battery top performed\\n-Chipset no need to say as apple kind\\n-Security as you expect from apple\\n- Display super bright industry leading colour\\naccuracy and super responsive\\n-Build quality as expect from apple sturdy\\npremium durable beautiful stylish.\\n-Os most stable os in smartphone industry\\n\\nCons\\n-No 5G\\n-Display is not based on OLED technology\\n-Charger headphones and 1 apple stic...\\nREAD MORE',\n",
       " 'Previously I was using one plus 3t it was a great phone\\nAnd then I decided to upgrade I am stuck between Samsung s10 plus or iPhone 11\\nI have seen the specs and everything were good except the display it’s somewhere between 720-1080 and it’s not even an amoled it’s an LCD display\\nBut I decided to go with iPhone because I have never used an IOS device I have Been an android user from the past 9 years I ordered IPhone 11 (128gb) product red\\nMy experience after using 3 weeks\\n1. The delivery ...\\nREAD MORE',\n",
       " 'Amazing Powerful and Durable Gadget.\\n\\nI’m am very happy with the camera picture quality, Amazing face id unlocked in dark room, Strong battery with perfect screen size as you can carry easily in pocket. This is my third iPhone.\\n\\nI shifted from android Samsung Note series to iPhone because of the strong build quality and peace of mind for next 3-4 years.\\n\\nDon’t think to much just go for it and I suggest you to go for minimum 128gb variant or more 256gb.\\n\\nI’ve attached my puppy pics and no fi...\\nREAD MORE',\n",
       " 'So far it’s been an AMAZING experience coming back to iOS after nearly a decade but it’s not as versatile as android though phone is sturdy dropped it accidentally a couple of times and nothing happened fortunately camera is awesome',\n",
       " 'What a camera .....just awesome ..you can feel this iPhone just awesome . Good for gaming also ...try pubg in hd it’s just wow',\n",
       " 'i11 is worthy to buy, too much happy with the product. Thank u flipkart I received the item on time..loved it..']"
      ]
     },
     "execution_count": 40,
     "metadata": {},
     "output_type": "execute_result"
    }
   ],
   "source": [
    "for i in Full_review_tag:\n",
    "    Full_review.append(i.text)\n",
    "Full_review    \n",
    "    "
   ]
  },
  {
   "cell_type": "code",
   "execution_count": 41,
   "metadata": {},
   "outputs": [
    {
     "data": {
      "text/html": [
       "<div>\n",
       "<style scoped>\n",
       "    .dataframe tbody tr th:only-of-type {\n",
       "        vertical-align: middle;\n",
       "    }\n",
       "\n",
       "    .dataframe tbody tr th {\n",
       "        vertical-align: top;\n",
       "    }\n",
       "\n",
       "    .dataframe thead th {\n",
       "        text-align: right;\n",
       "    }\n",
       "</style>\n",
       "<table border=\"1\" class=\"dataframe\">\n",
       "  <thead>\n",
       "    <tr style=\"text-align: right;\">\n",
       "      <th></th>\n",
       "      <th>rating</th>\n",
       "      <th>Review_summary</th>\n",
       "      <th>Full_review</th>\n",
       "    </tr>\n",
       "  </thead>\n",
       "  <tbody>\n",
       "    <tr>\n",
       "      <th>0</th>\n",
       "      <td>5</td>\n",
       "      <td>Brilliant</td>\n",
       "      <td>The Best Phone for the Money\\n\\nThe iPhone 11 ...</td>\n",
       "    </tr>\n",
       "    <tr>\n",
       "      <th>1</th>\n",
       "      <td>5</td>\n",
       "      <td>Simply awesome</td>\n",
       "      <td>Really satisfied with the Product I received.....</td>\n",
       "    </tr>\n",
       "    <tr>\n",
       "      <th>2</th>\n",
       "      <td>5</td>\n",
       "      <td>Perfect product!</td>\n",
       "      <td>Amazing phone with great cameras and better ba...</td>\n",
       "    </tr>\n",
       "    <tr>\n",
       "      <th>3</th>\n",
       "      <td>5</td>\n",
       "      <td>Fabulous!</td>\n",
       "      <td>This is my first iOS phone. I am very happy wi...</td>\n",
       "    </tr>\n",
       "    <tr>\n",
       "      <th>4</th>\n",
       "      <td>5</td>\n",
       "      <td>Best in the market!</td>\n",
       "      <td>Great iPhone very snappy experience as apple k...</td>\n",
       "    </tr>\n",
       "    <tr>\n",
       "      <th>5</th>\n",
       "      <td>5</td>\n",
       "      <td>Worth every penny</td>\n",
       "      <td>Previously I was using one plus 3t it was a gr...</td>\n",
       "    </tr>\n",
       "    <tr>\n",
       "      <th>6</th>\n",
       "      <td>5</td>\n",
       "      <td>Great product</td>\n",
       "      <td>Amazing Powerful and Durable Gadget.\\n\\nI’m am...</td>\n",
       "    </tr>\n",
       "    <tr>\n",
       "      <th>7</th>\n",
       "      <td>5</td>\n",
       "      <td>Good choice</td>\n",
       "      <td>So far it’s been an AMAZING experience coming ...</td>\n",
       "    </tr>\n",
       "    <tr>\n",
       "      <th>8</th>\n",
       "      <td>5</td>\n",
       "      <td>Highly recommended</td>\n",
       "      <td>What a camera .....just awesome ..you can feel...</td>\n",
       "    </tr>\n",
       "    <tr>\n",
       "      <th>9</th>\n",
       "      <td>5</td>\n",
       "      <td>Worth every penny</td>\n",
       "      <td>i11 is worthy to buy, too much happy with the ...</td>\n",
       "    </tr>\n",
       "  </tbody>\n",
       "</table>\n",
       "</div>"
      ],
      "text/plain": [
       "  rating       Review_summary  \\\n",
       "0      5            Brilliant   \n",
       "1      5       Simply awesome   \n",
       "2      5     Perfect product!   \n",
       "3      5            Fabulous!   \n",
       "4      5  Best in the market!   \n",
       "5      5    Worth every penny   \n",
       "6      5        Great product   \n",
       "7      5          Good choice   \n",
       "8      5   Highly recommended   \n",
       "9      5    Worth every penny   \n",
       "\n",
       "                                         Full_review  \n",
       "0  The Best Phone for the Money\\n\\nThe iPhone 11 ...  \n",
       "1  Really satisfied with the Product I received.....  \n",
       "2  Amazing phone with great cameras and better ba...  \n",
       "3  This is my first iOS phone. I am very happy wi...  \n",
       "4  Great iPhone very snappy experience as apple k...  \n",
       "5  Previously I was using one plus 3t it was a gr...  \n",
       "6  Amazing Powerful and Durable Gadget.\\n\\nI’m am...  \n",
       "7  So far it’s been an AMAZING experience coming ...  \n",
       "8  What a camera .....just awesome ..you can feel...  \n",
       "9  i11 is worthy to buy, too much happy with the ...  "
      ]
     },
     "execution_count": 41,
     "metadata": {},
     "output_type": "execute_result"
    }
   ],
   "source": [
    "mobile=pd.DataFrame({})\n",
    "mobile['rating']=Rating \n",
    "mobile['Review_summary']=Review_summary \n",
    "mobile['Full_review']=Full_review\n",
    "mobile"
   ]
  },
  {
   "cell_type": "markdown",
   "metadata": {},
   "source": [
    "Q8: Scrape data for first 100 sneakers you find when you visit flipkart.com and \n",
    "search for “sneakers” in the search field.\n",
    "You have to scrape 4 attributes of each sneaker :\n",
    "1. Brand\n",
    "2. Product Description\n",
    "3. Price\n",
    "4. discount %\n",
    "As shown in the below image, you have to scrape the tick marked attributes.\n",
    " \n",
    "Also note that all the steps required during scraping should be done through code"
   ]
  },
  {
   "cell_type": "code",
   "execution_count": 42,
   "metadata": {},
   "outputs": [],
   "source": [
    "driver =webdriver.Chrome(r'C:\\Users\\Om Prakash\\Downloads\\chromedriver_win32/chromedriver.exe')"
   ]
  },
  {
   "cell_type": "code",
   "execution_count": 43,
   "metadata": {},
   "outputs": [],
   "source": [
    "driver=webdriver.Chrome('chromedriver.exe')"
   ]
  },
  {
   "cell_type": "code",
   "execution_count": 45,
   "metadata": {},
   "outputs": [],
   "source": [
    "driver.get('https://www.flipkart.com/')"
   ]
  },
  {
   "cell_type": "code",
   "execution_count": 59,
   "metadata": {},
   "outputs": [],
   "source": [
    "search_sneakers=driver.find_element_by_xpath(\"//input[@class='_3704LK']\")\n",
    "search_sneakers.send_keys(\"sneakers\")"
   ]
  },
  {
   "cell_type": "code",
   "execution_count": 60,
   "metadata": {},
   "outputs": [],
   "source": [
    "search_sn=driver.find_element_by_xpath(\"//button[@class='L0Z3Pu']\")\n",
    "search_sn.click()"
   ]
  },
  {
   "cell_type": "code",
   "execution_count": 61,
   "metadata": {},
   "outputs": [],
   "source": [
    "urlsssss=('https://www.flipkart.com/search?q=sneakers&otracker=search&otracker1=search&marketplace=FLIPKART&as-show=on&as=off')"
   ]
  },
  {
   "cell_type": "code",
   "execution_count": 62,
   "metadata": {},
   "outputs": [],
   "source": [
    "driver.get(urlsssss)"
   ]
  },
  {
   "cell_type": "code",
   "execution_count": 63,
   "metadata": {},
   "outputs": [],
   "source": [
    "sneaker_brand=[]\n",
    "sneaker_product_description=[]\n",
    "sneaker_price=[]\n",
    "sneaker_discount=[]"
   ]
  },
  {
   "cell_type": "code",
   "execution_count": 65,
   "metadata": {},
   "outputs": [
    {
     "data": {
      "text/plain": [
       "[<selenium.webdriver.remote.webelement.WebElement (session=\"a26f3acebf6f300cde85e6957d4e2bc3\", element=\"9e3f3e10-d604-45d2-ae9a-889e8a84460c\")>,\n",
       " <selenium.webdriver.remote.webelement.WebElement (session=\"a26f3acebf6f300cde85e6957d4e2bc3\", element=\"0e479786-ffba-4874-ab98-735cc4c81e94\")>,\n",
       " <selenium.webdriver.remote.webelement.WebElement (session=\"a26f3acebf6f300cde85e6957d4e2bc3\", element=\"3e13812e-0601-4182-a358-cb7b6198099b\")>,\n",
       " <selenium.webdriver.remote.webelement.WebElement (session=\"a26f3acebf6f300cde85e6957d4e2bc3\", element=\"2a4339f0-7bde-4213-9369-97c50788b6b3\")>,\n",
       " <selenium.webdriver.remote.webelement.WebElement (session=\"a26f3acebf6f300cde85e6957d4e2bc3\", element=\"f1be5c4f-36dd-4a42-bd1b-748b02051e40\")>,\n",
       " <selenium.webdriver.remote.webelement.WebElement (session=\"a26f3acebf6f300cde85e6957d4e2bc3\", element=\"56536faa-395b-4250-86e4-c44f075b2e47\")>,\n",
       " <selenium.webdriver.remote.webelement.WebElement (session=\"a26f3acebf6f300cde85e6957d4e2bc3\", element=\"d7170465-dd3a-4029-bb78-692368e401a7\")>,\n",
       " <selenium.webdriver.remote.webelement.WebElement (session=\"a26f3acebf6f300cde85e6957d4e2bc3\", element=\"f07e90c0-84fc-4d75-943a-897c367919f4\")>,\n",
       " <selenium.webdriver.remote.webelement.WebElement (session=\"a26f3acebf6f300cde85e6957d4e2bc3\", element=\"4b601103-3693-4f30-adc2-7fb727be820f\")>,\n",
       " <selenium.webdriver.remote.webelement.WebElement (session=\"a26f3acebf6f300cde85e6957d4e2bc3\", element=\"fc7f05e6-ea03-41a5-ad0e-f09390c35be2\")>,\n",
       " <selenium.webdriver.remote.webelement.WebElement (session=\"a26f3acebf6f300cde85e6957d4e2bc3\", element=\"dead33e5-ea1a-4aa2-974d-569c85ea8476\")>,\n",
       " <selenium.webdriver.remote.webelement.WebElement (session=\"a26f3acebf6f300cde85e6957d4e2bc3\", element=\"b15e3854-40d7-4a02-a396-49a1ff28fc0e\")>,\n",
       " <selenium.webdriver.remote.webelement.WebElement (session=\"a26f3acebf6f300cde85e6957d4e2bc3\", element=\"5f0f1ac1-3e6c-4fc9-a475-2169284491ef\")>,\n",
       " <selenium.webdriver.remote.webelement.WebElement (session=\"a26f3acebf6f300cde85e6957d4e2bc3\", element=\"a8bed82f-c0bf-4b5a-8a95-6b44ae943518\")>,\n",
       " <selenium.webdriver.remote.webelement.WebElement (session=\"a26f3acebf6f300cde85e6957d4e2bc3\", element=\"4a562eef-aa8c-480f-9b33-ab6099b5090d\")>,\n",
       " <selenium.webdriver.remote.webelement.WebElement (session=\"a26f3acebf6f300cde85e6957d4e2bc3\", element=\"7e967a27-4069-4a50-849d-573d7ce5edaf\")>,\n",
       " <selenium.webdriver.remote.webelement.WebElement (session=\"a26f3acebf6f300cde85e6957d4e2bc3\", element=\"2b81bed1-aece-4d04-9537-541d57f4ee64\")>,\n",
       " <selenium.webdriver.remote.webelement.WebElement (session=\"a26f3acebf6f300cde85e6957d4e2bc3\", element=\"4900f021-dc55-4565-b883-49976b90b3a0\")>,\n",
       " <selenium.webdriver.remote.webelement.WebElement (session=\"a26f3acebf6f300cde85e6957d4e2bc3\", element=\"f696abb7-294d-4fd6-89f0-bd65e0df6e38\")>,\n",
       " <selenium.webdriver.remote.webelement.WebElement (session=\"a26f3acebf6f300cde85e6957d4e2bc3\", element=\"557a556a-e54c-4584-85c7-db0887e3eadb\")>,\n",
       " <selenium.webdriver.remote.webelement.WebElement (session=\"a26f3acebf6f300cde85e6957d4e2bc3\", element=\"4c443e0f-8af4-4afd-b038-971babdd1f0a\")>,\n",
       " <selenium.webdriver.remote.webelement.WebElement (session=\"a26f3acebf6f300cde85e6957d4e2bc3\", element=\"5f6228b6-4702-482d-8813-729d387121e7\")>,\n",
       " <selenium.webdriver.remote.webelement.WebElement (session=\"a26f3acebf6f300cde85e6957d4e2bc3\", element=\"8bccb592-8053-4243-8659-cd13b4cfc5e3\")>,\n",
       " <selenium.webdriver.remote.webelement.WebElement (session=\"a26f3acebf6f300cde85e6957d4e2bc3\", element=\"792873b3-be6f-4d0a-b745-533ce7a3638b\")>,\n",
       " <selenium.webdriver.remote.webelement.WebElement (session=\"a26f3acebf6f300cde85e6957d4e2bc3\", element=\"e955cf58-98dd-4862-9f9f-e3d132a13ec2\")>,\n",
       " <selenium.webdriver.remote.webelement.WebElement (session=\"a26f3acebf6f300cde85e6957d4e2bc3\", element=\"fecd3b82-f521-4470-a129-bbccf0f8f552\")>,\n",
       " <selenium.webdriver.remote.webelement.WebElement (session=\"a26f3acebf6f300cde85e6957d4e2bc3\", element=\"98deecb9-95a3-44ec-973e-0d86204ce779\")>,\n",
       " <selenium.webdriver.remote.webelement.WebElement (session=\"a26f3acebf6f300cde85e6957d4e2bc3\", element=\"96db72db-bce3-48bb-baa3-5bdc3960e783\")>,\n",
       " <selenium.webdriver.remote.webelement.WebElement (session=\"a26f3acebf6f300cde85e6957d4e2bc3\", element=\"2659ca8c-9f18-45c8-96e7-6a4b9b9e9f92\")>,\n",
       " <selenium.webdriver.remote.webelement.WebElement (session=\"a26f3acebf6f300cde85e6957d4e2bc3\", element=\"7a813a27-9ba7-4f1f-9802-a828fb9249c0\")>,\n",
       " <selenium.webdriver.remote.webelement.WebElement (session=\"a26f3acebf6f300cde85e6957d4e2bc3\", element=\"45f575ba-dba9-49ee-b635-e463a7dcf8fc\")>,\n",
       " <selenium.webdriver.remote.webelement.WebElement (session=\"a26f3acebf6f300cde85e6957d4e2bc3\", element=\"840ed029-f2a9-4fe2-a72d-a16f3f5cf323\")>,\n",
       " <selenium.webdriver.remote.webelement.WebElement (session=\"a26f3acebf6f300cde85e6957d4e2bc3\", element=\"cf369436-2fbe-4c23-9d52-4854107a66ad\")>,\n",
       " <selenium.webdriver.remote.webelement.WebElement (session=\"a26f3acebf6f300cde85e6957d4e2bc3\", element=\"c3736420-3448-4398-9a03-30afda3d9496\")>,\n",
       " <selenium.webdriver.remote.webelement.WebElement (session=\"a26f3acebf6f300cde85e6957d4e2bc3\", element=\"b2a71b23-d526-4109-9be5-e9cb285bc8f0\")>,\n",
       " <selenium.webdriver.remote.webelement.WebElement (session=\"a26f3acebf6f300cde85e6957d4e2bc3\", element=\"7135fc67-2780-4924-80b6-80f581955f3f\")>,\n",
       " <selenium.webdriver.remote.webelement.WebElement (session=\"a26f3acebf6f300cde85e6957d4e2bc3\", element=\"9170c5e4-7930-4579-ac7a-be463bf78dc5\")>,\n",
       " <selenium.webdriver.remote.webelement.WebElement (session=\"a26f3acebf6f300cde85e6957d4e2bc3\", element=\"2eae8430-be5f-4e0f-97b0-a7a39fcf4dca\")>,\n",
       " <selenium.webdriver.remote.webelement.WebElement (session=\"a26f3acebf6f300cde85e6957d4e2bc3\", element=\"9aed02e8-2924-4dbe-8675-5f5d691633f0\")>,\n",
       " <selenium.webdriver.remote.webelement.WebElement (session=\"a26f3acebf6f300cde85e6957d4e2bc3\", element=\"eb80a7ce-081d-4ac9-a63c-a6e3f541616a\")>]"
      ]
     },
     "execution_count": 65,
     "metadata": {},
     "output_type": "execute_result"
    }
   ],
   "source": [
    "sneaker_brand_tag=driver.find_elements_by_xpath(\"//div[@class='_2WkVRV']\")\n",
    "sneaker_brand_tag"
   ]
  },
  {
   "cell_type": "code",
   "execution_count": 66,
   "metadata": {},
   "outputs": [
    {
     "data": {
      "text/plain": [
       "['RapidBox',\n",
       " 'Echor',\n",
       " 'D-SNEAKERZ',\n",
       " 'Numenzo',\n",
       " 'Magnolia',\n",
       " 'luxury fashion',\n",
       " 'BIRDE',\n",
       " 'Numenzo',\n",
       " 'HOTSTYLE',\n",
       " 'BRUTON',\n",
       " 'bluemaker',\n",
       " 'Echor',\n",
       " 'BRUTON',\n",
       " 'Robbie jones',\n",
       " 'ASTEROID',\n",
       " 'sixXplus',\n",
       " 'Edoeviv',\n",
       " 'believe',\n",
       " 'Numenzo',\n",
       " 'ADIDAS',\n",
       " 'Robbie jones',\n",
       " 'BIRDE',\n",
       " 'KNIGHT WALKERS',\n",
       " 'NIKE',\n",
       " 'bluemaker',\n",
       " 'Kraasa',\n",
       " 'ASTEROID',\n",
       " 'PUMA',\n",
       " 'Chevit',\n",
       " 'bluemaker',\n",
       " 'Arohi',\n",
       " 'Paragon',\n",
       " 'BRUTON',\n",
       " 'HOTSTYLE',\n",
       " 'Robbie jones',\n",
       " 'ASIAN',\n",
       " 'ESSENCE',\n",
       " 'HOC',\n",
       " 'BRUTON',\n",
       " 'ASIAN']"
      ]
     },
     "execution_count": 66,
     "metadata": {},
     "output_type": "execute_result"
    }
   ],
   "source": [
    "for i in sneaker_brand_tag:\n",
    "    sneaker_brand.append(i.text)\n",
    "sneaker_brand    "
   ]
  },
  {
   "cell_type": "code",
   "execution_count": 88,
   "metadata": {},
   "outputs": [
    {
     "data": {
      "text/plain": [
       "[<selenium.webdriver.remote.webelement.WebElement (session=\"a26f3acebf6f300cde85e6957d4e2bc3\", element=\"fbbc0121-42cd-4219-8a69-57fd56a5a406\")>,\n",
       " <selenium.webdriver.remote.webelement.WebElement (session=\"a26f3acebf6f300cde85e6957d4e2bc3\", element=\"9e3515d1-fcb1-42ed-b944-625216133c55\")>,\n",
       " <selenium.webdriver.remote.webelement.WebElement (session=\"a26f3acebf6f300cde85e6957d4e2bc3\", element=\"55a49a4c-7b0c-4daf-86f4-214be87bf1fb\")>,\n",
       " <selenium.webdriver.remote.webelement.WebElement (session=\"a26f3acebf6f300cde85e6957d4e2bc3\", element=\"12a56397-e8bf-4b7a-beb2-d1e3fb15ff12\")>,\n",
       " <selenium.webdriver.remote.webelement.WebElement (session=\"a26f3acebf6f300cde85e6957d4e2bc3\", element=\"32ffde3c-cd7f-4ed3-bffe-20121f6e51e6\")>,\n",
       " <selenium.webdriver.remote.webelement.WebElement (session=\"a26f3acebf6f300cde85e6957d4e2bc3\", element=\"fcff11fd-878c-4408-b3d7-56a26453a66d\")>,\n",
       " <selenium.webdriver.remote.webelement.WebElement (session=\"a26f3acebf6f300cde85e6957d4e2bc3\", element=\"528d0512-15cc-4a78-9890-819bfe55ca51\")>,\n",
       " <selenium.webdriver.remote.webelement.WebElement (session=\"a26f3acebf6f300cde85e6957d4e2bc3\", element=\"bfb2342a-4f3b-4c8a-be9e-8955a3cce451\")>,\n",
       " <selenium.webdriver.remote.webelement.WebElement (session=\"a26f3acebf6f300cde85e6957d4e2bc3\", element=\"7a43ea61-2550-477e-9f4a-d331035b625b\")>,\n",
       " <selenium.webdriver.remote.webelement.WebElement (session=\"a26f3acebf6f300cde85e6957d4e2bc3\", element=\"ce9e8997-d57a-48c1-8bb2-6bef56c48338\")>,\n",
       " <selenium.webdriver.remote.webelement.WebElement (session=\"a26f3acebf6f300cde85e6957d4e2bc3\", element=\"17b54f3f-4119-428f-b821-29e2e4a07ee1\")>,\n",
       " <selenium.webdriver.remote.webelement.WebElement (session=\"a26f3acebf6f300cde85e6957d4e2bc3\", element=\"17386af9-d6ba-4fd8-a76f-0908a7f71ff2\")>,\n",
       " <selenium.webdriver.remote.webelement.WebElement (session=\"a26f3acebf6f300cde85e6957d4e2bc3\", element=\"f8aae98b-6328-4fcf-b7d2-3240230c7cc1\")>,\n",
       " <selenium.webdriver.remote.webelement.WebElement (session=\"a26f3acebf6f300cde85e6957d4e2bc3\", element=\"69916ed0-3387-4e41-ad4e-c279f63a0c66\")>,\n",
       " <selenium.webdriver.remote.webelement.WebElement (session=\"a26f3acebf6f300cde85e6957d4e2bc3\", element=\"d82dcd2e-f785-475e-bed8-6e835c79e3d7\")>,\n",
       " <selenium.webdriver.remote.webelement.WebElement (session=\"a26f3acebf6f300cde85e6957d4e2bc3\", element=\"57c27d47-6401-41a3-8e0d-2e3f53f30897\")>,\n",
       " <selenium.webdriver.remote.webelement.WebElement (session=\"a26f3acebf6f300cde85e6957d4e2bc3\", element=\"e0978fd9-7564-4c30-b710-0c7f00f9692f\")>,\n",
       " <selenium.webdriver.remote.webelement.WebElement (session=\"a26f3acebf6f300cde85e6957d4e2bc3\", element=\"e835f452-429a-489d-857e-ef6b9ce80f03\")>,\n",
       " <selenium.webdriver.remote.webelement.WebElement (session=\"a26f3acebf6f300cde85e6957d4e2bc3\", element=\"11326425-7090-4bad-8157-48dd9900e6d1\")>,\n",
       " <selenium.webdriver.remote.webelement.WebElement (session=\"a26f3acebf6f300cde85e6957d4e2bc3\", element=\"94183ee2-7f56-4580-8bf5-7eb69645bde6\")>,\n",
       " <selenium.webdriver.remote.webelement.WebElement (session=\"a26f3acebf6f300cde85e6957d4e2bc3\", element=\"19b8e9ad-b80c-4667-abb9-a12346f429c0\")>,\n",
       " <selenium.webdriver.remote.webelement.WebElement (session=\"a26f3acebf6f300cde85e6957d4e2bc3\", element=\"e6a835f0-a673-42fd-ae7e-12838fc61be7\")>,\n",
       " <selenium.webdriver.remote.webelement.WebElement (session=\"a26f3acebf6f300cde85e6957d4e2bc3\", element=\"0166c663-98df-4b41-aa90-4fe3f6a2807d\")>,\n",
       " <selenium.webdriver.remote.webelement.WebElement (session=\"a26f3acebf6f300cde85e6957d4e2bc3\", element=\"fff5eab4-8835-41e6-8a5e-e5afe01c1e45\")>,\n",
       " <selenium.webdriver.remote.webelement.WebElement (session=\"a26f3acebf6f300cde85e6957d4e2bc3\", element=\"4fef337d-adfc-473a-8a8e-404a016ec3cf\")>,\n",
       " <selenium.webdriver.remote.webelement.WebElement (session=\"a26f3acebf6f300cde85e6957d4e2bc3\", element=\"395d712a-0dbc-4e5e-9aac-5c6597321abc\")>,\n",
       " <selenium.webdriver.remote.webelement.WebElement (session=\"a26f3acebf6f300cde85e6957d4e2bc3\", element=\"dddcc2b3-a61d-46b6-9245-5c5d95458a1e\")>,\n",
       " <selenium.webdriver.remote.webelement.WebElement (session=\"a26f3acebf6f300cde85e6957d4e2bc3\", element=\"bba14f19-866e-4084-91db-8b90cd8c6685\")>,\n",
       " <selenium.webdriver.remote.webelement.WebElement (session=\"a26f3acebf6f300cde85e6957d4e2bc3\", element=\"96d00fd7-77f2-46da-85aa-8fd05df551d5\")>,\n",
       " <selenium.webdriver.remote.webelement.WebElement (session=\"a26f3acebf6f300cde85e6957d4e2bc3\", element=\"b1dd2856-3b14-4fc2-8fee-7ba920a76756\")>,\n",
       " <selenium.webdriver.remote.webelement.WebElement (session=\"a26f3acebf6f300cde85e6957d4e2bc3\", element=\"5bf44eba-5896-4d8e-8f2a-c277c430ec81\")>,\n",
       " <selenium.webdriver.remote.webelement.WebElement (session=\"a26f3acebf6f300cde85e6957d4e2bc3\", element=\"fdae2e6a-785d-4e0d-b3e0-f58748482d03\")>,\n",
       " <selenium.webdriver.remote.webelement.WebElement (session=\"a26f3acebf6f300cde85e6957d4e2bc3\", element=\"094df80d-46f8-4388-8914-a97a9c76c8fd\")>,\n",
       " <selenium.webdriver.remote.webelement.WebElement (session=\"a26f3acebf6f300cde85e6957d4e2bc3\", element=\"11e4c840-8d2e-41d6-9830-847fde297be5\")>,\n",
       " <selenium.webdriver.remote.webelement.WebElement (session=\"a26f3acebf6f300cde85e6957d4e2bc3\", element=\"08899606-d5ea-4cbe-a339-68f2a7c938fc\")>,\n",
       " <selenium.webdriver.remote.webelement.WebElement (session=\"a26f3acebf6f300cde85e6957d4e2bc3\", element=\"2819ddd2-f492-4836-a302-c8126287fe82\")>,\n",
       " <selenium.webdriver.remote.webelement.WebElement (session=\"a26f3acebf6f300cde85e6957d4e2bc3\", element=\"8965045c-681e-44dd-aa54-fafb41122b9e\")>]"
      ]
     },
     "execution_count": 88,
     "metadata": {},
     "output_type": "execute_result"
    }
   ],
   "source": [
    "sneaker_product_description_tag=driver.find_elements_by_xpath(\"//a[@class='IRpwTa']\")\n",
    "sneaker_product_description_tag"
   ]
  },
  {
   "cell_type": "code",
   "execution_count": 106,
   "metadata": {},
   "outputs": [
    {
     "ename": "WebDriverException",
     "evalue": "Message: chrome not reachable\n  (Session info: chrome=94.0.4606.81)\n",
     "output_type": "error",
     "traceback": [
      "\u001b[1;31m---------------------------------------------------------------------------\u001b[0m",
      "\u001b[1;31mWebDriverException\u001b[0m                        Traceback (most recent call last)",
      "\u001b[1;32m<ipython-input-106-c482b4c4662d>\u001b[0m in \u001b[0;36m<module>\u001b[1;34m\u001b[0m\n\u001b[0;32m      1\u001b[0m \u001b[1;32mfor\u001b[0m \u001b[0mi\u001b[0m \u001b[1;32min\u001b[0m \u001b[0msneaker_product_description_tag\u001b[0m\u001b[1;33m:\u001b[0m\u001b[1;33m\u001b[0m\u001b[1;33m\u001b[0m\u001b[0m\n\u001b[1;32m----> 2\u001b[1;33m     \u001b[0msneaker_product_description\u001b[0m\u001b[1;33m.\u001b[0m\u001b[0mappend\u001b[0m\u001b[1;33m(\u001b[0m\u001b[0mi\u001b[0m\u001b[1;33m.\u001b[0m\u001b[0mtext\u001b[0m\u001b[1;33m)\u001b[0m\u001b[1;33m\u001b[0m\u001b[1;33m\u001b[0m\u001b[0m\n\u001b[0m\u001b[0;32m      3\u001b[0m \u001b[0msneaker_product_description\u001b[0m\u001b[1;33m\u001b[0m\u001b[1;33m\u001b[0m\u001b[0m\n",
      "\u001b[1;32m~\\anaconda3\\lib\\site-packages\\selenium\\webdriver\\remote\\webelement.py\u001b[0m in \u001b[0;36mtext\u001b[1;34m(self)\u001b[0m\n\u001b[0;32m     74\u001b[0m     \u001b[1;32mdef\u001b[0m \u001b[0mtext\u001b[0m\u001b[1;33m(\u001b[0m\u001b[0mself\u001b[0m\u001b[1;33m)\u001b[0m\u001b[1;33m:\u001b[0m\u001b[1;33m\u001b[0m\u001b[1;33m\u001b[0m\u001b[0m\n\u001b[0;32m     75\u001b[0m         \u001b[1;34m\"\"\"The text of the element.\"\"\"\u001b[0m\u001b[1;33m\u001b[0m\u001b[1;33m\u001b[0m\u001b[0m\n\u001b[1;32m---> 76\u001b[1;33m         \u001b[1;32mreturn\u001b[0m \u001b[0mself\u001b[0m\u001b[1;33m.\u001b[0m\u001b[0m_execute\u001b[0m\u001b[1;33m(\u001b[0m\u001b[0mCommand\u001b[0m\u001b[1;33m.\u001b[0m\u001b[0mGET_ELEMENT_TEXT\u001b[0m\u001b[1;33m)\u001b[0m\u001b[1;33m[\u001b[0m\u001b[1;34m'value'\u001b[0m\u001b[1;33m]\u001b[0m\u001b[1;33m\u001b[0m\u001b[1;33m\u001b[0m\u001b[0m\n\u001b[0m\u001b[0;32m     77\u001b[0m \u001b[1;33m\u001b[0m\u001b[0m\n\u001b[0;32m     78\u001b[0m     \u001b[1;32mdef\u001b[0m \u001b[0mclick\u001b[0m\u001b[1;33m(\u001b[0m\u001b[0mself\u001b[0m\u001b[1;33m)\u001b[0m\u001b[1;33m:\u001b[0m\u001b[1;33m\u001b[0m\u001b[1;33m\u001b[0m\u001b[0m\n",
      "\u001b[1;32m~\\anaconda3\\lib\\site-packages\\selenium\\webdriver\\remote\\webelement.py\u001b[0m in \u001b[0;36m_execute\u001b[1;34m(self, command, params)\u001b[0m\n\u001b[0;32m    631\u001b[0m             \u001b[0mparams\u001b[0m \u001b[1;33m=\u001b[0m \u001b[1;33m{\u001b[0m\u001b[1;33m}\u001b[0m\u001b[1;33m\u001b[0m\u001b[1;33m\u001b[0m\u001b[0m\n\u001b[0;32m    632\u001b[0m         \u001b[0mparams\u001b[0m\u001b[1;33m[\u001b[0m\u001b[1;34m'id'\u001b[0m\u001b[1;33m]\u001b[0m \u001b[1;33m=\u001b[0m \u001b[0mself\u001b[0m\u001b[1;33m.\u001b[0m\u001b[0m_id\u001b[0m\u001b[1;33m\u001b[0m\u001b[1;33m\u001b[0m\u001b[0m\n\u001b[1;32m--> 633\u001b[1;33m         \u001b[1;32mreturn\u001b[0m \u001b[0mself\u001b[0m\u001b[1;33m.\u001b[0m\u001b[0m_parent\u001b[0m\u001b[1;33m.\u001b[0m\u001b[0mexecute\u001b[0m\u001b[1;33m(\u001b[0m\u001b[0mcommand\u001b[0m\u001b[1;33m,\u001b[0m \u001b[0mparams\u001b[0m\u001b[1;33m)\u001b[0m\u001b[1;33m\u001b[0m\u001b[1;33m\u001b[0m\u001b[0m\n\u001b[0m\u001b[0;32m    634\u001b[0m \u001b[1;33m\u001b[0m\u001b[0m\n\u001b[0;32m    635\u001b[0m     \u001b[1;32mdef\u001b[0m \u001b[0mfind_element\u001b[0m\u001b[1;33m(\u001b[0m\u001b[0mself\u001b[0m\u001b[1;33m,\u001b[0m \u001b[0mby\u001b[0m\u001b[1;33m=\u001b[0m\u001b[0mBy\u001b[0m\u001b[1;33m.\u001b[0m\u001b[0mID\u001b[0m\u001b[1;33m,\u001b[0m \u001b[0mvalue\u001b[0m\u001b[1;33m=\u001b[0m\u001b[1;32mNone\u001b[0m\u001b[1;33m)\u001b[0m\u001b[1;33m:\u001b[0m\u001b[1;33m\u001b[0m\u001b[1;33m\u001b[0m\u001b[0m\n",
      "\u001b[1;32m~\\anaconda3\\lib\\site-packages\\selenium\\webdriver\\remote\\webdriver.py\u001b[0m in \u001b[0;36mexecute\u001b[1;34m(self, driver_command, params)\u001b[0m\n\u001b[0;32m    319\u001b[0m         \u001b[0mresponse\u001b[0m \u001b[1;33m=\u001b[0m \u001b[0mself\u001b[0m\u001b[1;33m.\u001b[0m\u001b[0mcommand_executor\u001b[0m\u001b[1;33m.\u001b[0m\u001b[0mexecute\u001b[0m\u001b[1;33m(\u001b[0m\u001b[0mdriver_command\u001b[0m\u001b[1;33m,\u001b[0m \u001b[0mparams\u001b[0m\u001b[1;33m)\u001b[0m\u001b[1;33m\u001b[0m\u001b[1;33m\u001b[0m\u001b[0m\n\u001b[0;32m    320\u001b[0m         \u001b[1;32mif\u001b[0m \u001b[0mresponse\u001b[0m\u001b[1;33m:\u001b[0m\u001b[1;33m\u001b[0m\u001b[1;33m\u001b[0m\u001b[0m\n\u001b[1;32m--> 321\u001b[1;33m             \u001b[0mself\u001b[0m\u001b[1;33m.\u001b[0m\u001b[0merror_handler\u001b[0m\u001b[1;33m.\u001b[0m\u001b[0mcheck_response\u001b[0m\u001b[1;33m(\u001b[0m\u001b[0mresponse\u001b[0m\u001b[1;33m)\u001b[0m\u001b[1;33m\u001b[0m\u001b[1;33m\u001b[0m\u001b[0m\n\u001b[0m\u001b[0;32m    322\u001b[0m             response['value'] = self._unwrap_value(\n\u001b[0;32m    323\u001b[0m                 response.get('value', None))\n",
      "\u001b[1;32m~\\anaconda3\\lib\\site-packages\\selenium\\webdriver\\remote\\errorhandler.py\u001b[0m in \u001b[0;36mcheck_response\u001b[1;34m(self, response)\u001b[0m\n\u001b[0;32m    240\u001b[0m                 \u001b[0malert_text\u001b[0m \u001b[1;33m=\u001b[0m \u001b[0mvalue\u001b[0m\u001b[1;33m[\u001b[0m\u001b[1;34m'alert'\u001b[0m\u001b[1;33m]\u001b[0m\u001b[1;33m.\u001b[0m\u001b[0mget\u001b[0m\u001b[1;33m(\u001b[0m\u001b[1;34m'text'\u001b[0m\u001b[1;33m)\u001b[0m\u001b[1;33m\u001b[0m\u001b[1;33m\u001b[0m\u001b[0m\n\u001b[0;32m    241\u001b[0m             \u001b[1;32mraise\u001b[0m \u001b[0mexception_class\u001b[0m\u001b[1;33m(\u001b[0m\u001b[0mmessage\u001b[0m\u001b[1;33m,\u001b[0m \u001b[0mscreen\u001b[0m\u001b[1;33m,\u001b[0m \u001b[0mstacktrace\u001b[0m\u001b[1;33m,\u001b[0m \u001b[0malert_text\u001b[0m\u001b[1;33m)\u001b[0m\u001b[1;33m\u001b[0m\u001b[1;33m\u001b[0m\u001b[0m\n\u001b[1;32m--> 242\u001b[1;33m         \u001b[1;32mraise\u001b[0m \u001b[0mexception_class\u001b[0m\u001b[1;33m(\u001b[0m\u001b[0mmessage\u001b[0m\u001b[1;33m,\u001b[0m \u001b[0mscreen\u001b[0m\u001b[1;33m,\u001b[0m \u001b[0mstacktrace\u001b[0m\u001b[1;33m)\u001b[0m\u001b[1;33m\u001b[0m\u001b[1;33m\u001b[0m\u001b[0m\n\u001b[0m\u001b[0;32m    243\u001b[0m \u001b[1;33m\u001b[0m\u001b[0m\n\u001b[0;32m    244\u001b[0m     \u001b[1;32mdef\u001b[0m \u001b[0m_value_or_default\u001b[0m\u001b[1;33m(\u001b[0m\u001b[0mself\u001b[0m\u001b[1;33m,\u001b[0m \u001b[0mobj\u001b[0m\u001b[1;33m,\u001b[0m \u001b[0mkey\u001b[0m\u001b[1;33m,\u001b[0m \u001b[0mdefault\u001b[0m\u001b[1;33m)\u001b[0m\u001b[1;33m:\u001b[0m\u001b[1;33m\u001b[0m\u001b[1;33m\u001b[0m\u001b[0m\n",
      "\u001b[1;31mWebDriverException\u001b[0m: Message: chrome not reachable\n  (Session info: chrome=94.0.4606.81)\n"
     ]
    }
   ],
   "source": [
    "for i in sneaker_product_description_tag:\n",
    "    sneaker_product_description.append(i.text)\n",
    "sneaker_product_description"
   ]
  },
  {
   "cell_type": "code",
   "execution_count": 90,
   "metadata": {},
   "outputs": [
    {
     "data": {
      "text/plain": [
       "[<selenium.webdriver.remote.webelement.WebElement (session=\"a26f3acebf6f300cde85e6957d4e2bc3\", element=\"08fb04d4-2fa5-413f-b4a0-d8dcbdc2a56c\")>,\n",
       " <selenium.webdriver.remote.webelement.WebElement (session=\"a26f3acebf6f300cde85e6957d4e2bc3\", element=\"f1dcfadf-cdd4-488e-91b3-beb8b1fde8a3\")>,\n",
       " <selenium.webdriver.remote.webelement.WebElement (session=\"a26f3acebf6f300cde85e6957d4e2bc3\", element=\"0434fb84-c7b4-4ead-b628-d3f5510799ba\")>,\n",
       " <selenium.webdriver.remote.webelement.WebElement (session=\"a26f3acebf6f300cde85e6957d4e2bc3\", element=\"da19c2e4-b868-44fd-aadd-9140dbf90c6c\")>,\n",
       " <selenium.webdriver.remote.webelement.WebElement (session=\"a26f3acebf6f300cde85e6957d4e2bc3\", element=\"0e052ea9-7c0f-4f58-b12c-88151f342e83\")>,\n",
       " <selenium.webdriver.remote.webelement.WebElement (session=\"a26f3acebf6f300cde85e6957d4e2bc3\", element=\"1ad97711-68ce-439d-a848-dfc75cee2fc1\")>,\n",
       " <selenium.webdriver.remote.webelement.WebElement (session=\"a26f3acebf6f300cde85e6957d4e2bc3\", element=\"cbafb40e-840c-417c-9886-af5c08eae996\")>,\n",
       " <selenium.webdriver.remote.webelement.WebElement (session=\"a26f3acebf6f300cde85e6957d4e2bc3\", element=\"63ef1396-df9c-4594-9f2e-7d5e60c3540a\")>,\n",
       " <selenium.webdriver.remote.webelement.WebElement (session=\"a26f3acebf6f300cde85e6957d4e2bc3\", element=\"b5165d8f-1fac-416b-a6b4-b74102d69121\")>,\n",
       " <selenium.webdriver.remote.webelement.WebElement (session=\"a26f3acebf6f300cde85e6957d4e2bc3\", element=\"f2c355aa-0845-45c9-b3ea-f328dd449ade\")>,\n",
       " <selenium.webdriver.remote.webelement.WebElement (session=\"a26f3acebf6f300cde85e6957d4e2bc3\", element=\"a798819a-b315-4e88-a54a-afa54d9c31e7\")>,\n",
       " <selenium.webdriver.remote.webelement.WebElement (session=\"a26f3acebf6f300cde85e6957d4e2bc3\", element=\"2d934a80-dece-4655-83a4-02249dc05706\")>,\n",
       " <selenium.webdriver.remote.webelement.WebElement (session=\"a26f3acebf6f300cde85e6957d4e2bc3\", element=\"a302c316-12f1-486e-94da-653bc5013e00\")>,\n",
       " <selenium.webdriver.remote.webelement.WebElement (session=\"a26f3acebf6f300cde85e6957d4e2bc3\", element=\"fd0d0a5c-cadc-4408-bcb3-babc5925ea9b\")>,\n",
       " <selenium.webdriver.remote.webelement.WebElement (session=\"a26f3acebf6f300cde85e6957d4e2bc3\", element=\"d2ee4416-c906-4135-914f-542db4b41694\")>,\n",
       " <selenium.webdriver.remote.webelement.WebElement (session=\"a26f3acebf6f300cde85e6957d4e2bc3\", element=\"351feeca-5db6-4d6c-a2ff-2389decc270a\")>,\n",
       " <selenium.webdriver.remote.webelement.WebElement (session=\"a26f3acebf6f300cde85e6957d4e2bc3\", element=\"d0f5c027-ee1c-453c-9e99-ee0687808d6d\")>,\n",
       " <selenium.webdriver.remote.webelement.WebElement (session=\"a26f3acebf6f300cde85e6957d4e2bc3\", element=\"301be65f-7680-4018-891d-4a607f473a20\")>,\n",
       " <selenium.webdriver.remote.webelement.WebElement (session=\"a26f3acebf6f300cde85e6957d4e2bc3\", element=\"6beb20d1-565b-47f0-a2cb-a36d1bc98fbd\")>,\n",
       " <selenium.webdriver.remote.webelement.WebElement (session=\"a26f3acebf6f300cde85e6957d4e2bc3\", element=\"aa42986b-15ee-4662-a3a8-e88d17af2731\")>,\n",
       " <selenium.webdriver.remote.webelement.WebElement (session=\"a26f3acebf6f300cde85e6957d4e2bc3\", element=\"f6899315-f25a-41d6-b5d0-b6d229b4d204\")>,\n",
       " <selenium.webdriver.remote.webelement.WebElement (session=\"a26f3acebf6f300cde85e6957d4e2bc3\", element=\"eee4cfbc-a515-4c90-af47-0accf397aa85\")>,\n",
       " <selenium.webdriver.remote.webelement.WebElement (session=\"a26f3acebf6f300cde85e6957d4e2bc3\", element=\"256ab9d1-5865-4163-8b9e-880caa335a93\")>,\n",
       " <selenium.webdriver.remote.webelement.WebElement (session=\"a26f3acebf6f300cde85e6957d4e2bc3\", element=\"5d3547e8-b978-4f18-9d8c-02b48ba6b8b5\")>,\n",
       " <selenium.webdriver.remote.webelement.WebElement (session=\"a26f3acebf6f300cde85e6957d4e2bc3\", element=\"f826ea20-d7e8-40e3-87f9-f0ac046ada1b\")>,\n",
       " <selenium.webdriver.remote.webelement.WebElement (session=\"a26f3acebf6f300cde85e6957d4e2bc3\", element=\"5cc52f19-c6fe-494b-995a-342751450522\")>,\n",
       " <selenium.webdriver.remote.webelement.WebElement (session=\"a26f3acebf6f300cde85e6957d4e2bc3\", element=\"988dad00-8ae3-46b2-9fc3-c0b29e6cc6cb\")>,\n",
       " <selenium.webdriver.remote.webelement.WebElement (session=\"a26f3acebf6f300cde85e6957d4e2bc3\", element=\"4a927eeb-32b2-4fc0-9706-d7e390f2993c\")>,\n",
       " <selenium.webdriver.remote.webelement.WebElement (session=\"a26f3acebf6f300cde85e6957d4e2bc3\", element=\"b3700c61-c04d-4510-9d30-fb4ad63a0d2c\")>,\n",
       " <selenium.webdriver.remote.webelement.WebElement (session=\"a26f3acebf6f300cde85e6957d4e2bc3\", element=\"fb02c70a-60d2-45a2-be89-db709b5f36ad\")>,\n",
       " <selenium.webdriver.remote.webelement.WebElement (session=\"a26f3acebf6f300cde85e6957d4e2bc3\", element=\"5e413546-0f46-4b73-a4b6-96d4647936e2\")>,\n",
       " <selenium.webdriver.remote.webelement.WebElement (session=\"a26f3acebf6f300cde85e6957d4e2bc3\", element=\"00eb1d98-0001-4eda-8a6e-e16d75b69112\")>,\n",
       " <selenium.webdriver.remote.webelement.WebElement (session=\"a26f3acebf6f300cde85e6957d4e2bc3\", element=\"adafc2a5-1cde-43b1-acee-e4c04106e36f\")>,\n",
       " <selenium.webdriver.remote.webelement.WebElement (session=\"a26f3acebf6f300cde85e6957d4e2bc3\", element=\"b48c7591-9c3b-4b2f-95b2-2db2c096c6e8\")>,\n",
       " <selenium.webdriver.remote.webelement.WebElement (session=\"a26f3acebf6f300cde85e6957d4e2bc3\", element=\"cf09a583-daf0-4c9c-bc65-f39bfc97c1cc\")>,\n",
       " <selenium.webdriver.remote.webelement.WebElement (session=\"a26f3acebf6f300cde85e6957d4e2bc3\", element=\"d24a20b7-8d66-4b78-88a1-86e513c7c97f\")>,\n",
       " <selenium.webdriver.remote.webelement.WebElement (session=\"a26f3acebf6f300cde85e6957d4e2bc3\", element=\"14ce2c71-982f-4716-8a8b-11c4175f6f14\")>,\n",
       " <selenium.webdriver.remote.webelement.WebElement (session=\"a26f3acebf6f300cde85e6957d4e2bc3\", element=\"7b01f214-2718-47e0-b85b-6480b589cad8\")>,\n",
       " <selenium.webdriver.remote.webelement.WebElement (session=\"a26f3acebf6f300cde85e6957d4e2bc3\", element=\"4801896f-1c6b-42b1-aa74-05d2ff96c19d\")>,\n",
       " <selenium.webdriver.remote.webelement.WebElement (session=\"a26f3acebf6f300cde85e6957d4e2bc3\", element=\"ffa59c4d-bf8b-48e3-bd9b-c165201ab721\")>]"
      ]
     },
     "execution_count": 90,
     "metadata": {},
     "output_type": "execute_result"
    }
   ],
   "source": [
    "sneaker_price_tag=driver.find_elements_by_xpath(\"//div[@class='_30jeq3']\")\n",
    "sneaker_price_tag"
   ]
  },
  {
   "cell_type": "code",
   "execution_count": 91,
   "metadata": {},
   "outputs": [
    {
     "data": {
      "text/plain": [
       "['₹520',\n",
       " '₹539',\n",
       " '₹348',\n",
       " '₹499',\n",
       " '₹398',\n",
       " '₹399',\n",
       " '₹399',\n",
       " '₹499',\n",
       " '₹282',\n",
       " '₹499',\n",
       " '₹499',\n",
       " '₹539',\n",
       " '₹399',\n",
       " '₹379',\n",
       " '₹499',\n",
       " '₹449',\n",
       " '₹499',\n",
       " '₹449',\n",
       " '₹449',\n",
       " '₹2,399',\n",
       " '₹474',\n",
       " '₹399',\n",
       " '₹599',\n",
       " '₹4,995',\n",
       " '₹499',\n",
       " '₹416',\n",
       " '₹499',\n",
       " '₹3,149',\n",
       " '₹599',\n",
       " '₹499',\n",
       " '₹459',\n",
       " '₹584',\n",
       " '₹359',\n",
       " '₹198',\n",
       " '₹499',\n",
       " '₹629',\n",
       " '₹499',\n",
       " '₹419',\n",
       " '₹624',\n",
       " '₹629',\n",
       " '₹520',\n",
       " '₹539',\n",
       " '₹348',\n",
       " '₹499',\n",
       " '₹398',\n",
       " '₹399',\n",
       " '₹399',\n",
       " '₹499',\n",
       " '₹282',\n",
       " '₹499',\n",
       " '₹499',\n",
       " '₹539',\n",
       " '₹399',\n",
       " '₹379',\n",
       " '₹499',\n",
       " '₹449',\n",
       " '₹499',\n",
       " '₹449',\n",
       " '₹449',\n",
       " '₹2,399',\n",
       " '₹474',\n",
       " '₹399',\n",
       " '₹599',\n",
       " '₹4,995',\n",
       " '₹499',\n",
       " '₹416',\n",
       " '₹499',\n",
       " '₹3,149',\n",
       " '₹599',\n",
       " '₹499',\n",
       " '₹459',\n",
       " '₹584',\n",
       " '₹359',\n",
       " '₹198',\n",
       " '₹499',\n",
       " '₹629',\n",
       " '₹499',\n",
       " '₹419',\n",
       " '₹624',\n",
       " '₹629']"
      ]
     },
     "execution_count": 91,
     "metadata": {},
     "output_type": "execute_result"
    }
   ],
   "source": [
    "for i in sneaker_price_tag:\n",
    "    sneaker_price.append(i.text)\n",
    "sneaker_price    "
   ]
  },
  {
   "cell_type": "code",
   "execution_count": 92,
   "metadata": {},
   "outputs": [
    {
     "data": {
      "text/plain": [
       "[<selenium.webdriver.remote.webelement.WebElement (session=\"a26f3acebf6f300cde85e6957d4e2bc3\", element=\"16598cc2-3317-4a21-871d-421ed0e26ef8\")>,\n",
       " <selenium.webdriver.remote.webelement.WebElement (session=\"a26f3acebf6f300cde85e6957d4e2bc3\", element=\"a1bc2ea4-964e-42e6-b05d-eea095c0b840\")>,\n",
       " <selenium.webdriver.remote.webelement.WebElement (session=\"a26f3acebf6f300cde85e6957d4e2bc3\", element=\"24845180-345a-4c1e-9af3-3ba7f686d5de\")>,\n",
       " <selenium.webdriver.remote.webelement.WebElement (session=\"a26f3acebf6f300cde85e6957d4e2bc3\", element=\"ee3adeae-a7af-4fd5-9207-1bd7503202eb\")>,\n",
       " <selenium.webdriver.remote.webelement.WebElement (session=\"a26f3acebf6f300cde85e6957d4e2bc3\", element=\"c38cb574-0b9b-43ec-99de-60ec78382f96\")>,\n",
       " <selenium.webdriver.remote.webelement.WebElement (session=\"a26f3acebf6f300cde85e6957d4e2bc3\", element=\"53c45cec-06f1-4e87-8df5-281e9aeb2442\")>,\n",
       " <selenium.webdriver.remote.webelement.WebElement (session=\"a26f3acebf6f300cde85e6957d4e2bc3\", element=\"81e04300-04b5-40fa-b36b-cb9f2657272c\")>,\n",
       " <selenium.webdriver.remote.webelement.WebElement (session=\"a26f3acebf6f300cde85e6957d4e2bc3\", element=\"dcf3f432-00dc-4549-a07c-04ff7f1a402c\")>,\n",
       " <selenium.webdriver.remote.webelement.WebElement (session=\"a26f3acebf6f300cde85e6957d4e2bc3\", element=\"e800acc1-2c13-4db1-af71-15945ff0c7f8\")>,\n",
       " <selenium.webdriver.remote.webelement.WebElement (session=\"a26f3acebf6f300cde85e6957d4e2bc3\", element=\"fb0d2e1c-36d0-4fef-9b55-9599b65ed6be\")>,\n",
       " <selenium.webdriver.remote.webelement.WebElement (session=\"a26f3acebf6f300cde85e6957d4e2bc3\", element=\"00b2ada9-1459-4242-9517-30453f153777\")>,\n",
       " <selenium.webdriver.remote.webelement.WebElement (session=\"a26f3acebf6f300cde85e6957d4e2bc3\", element=\"f5a232e9-ecde-4754-a987-a050b84ede86\")>,\n",
       " <selenium.webdriver.remote.webelement.WebElement (session=\"a26f3acebf6f300cde85e6957d4e2bc3\", element=\"10915ed4-61c9-4e34-baae-d7daf35ecc94\")>,\n",
       " <selenium.webdriver.remote.webelement.WebElement (session=\"a26f3acebf6f300cde85e6957d4e2bc3\", element=\"7d57687b-e82d-4c37-824e-d5de7b03cf25\")>,\n",
       " <selenium.webdriver.remote.webelement.WebElement (session=\"a26f3acebf6f300cde85e6957d4e2bc3\", element=\"da3b2dbb-74e7-43ab-a283-9be4d5893a64\")>,\n",
       " <selenium.webdriver.remote.webelement.WebElement (session=\"a26f3acebf6f300cde85e6957d4e2bc3\", element=\"9c0f0300-1b17-4ca1-9345-ec351c8fca33\")>,\n",
       " <selenium.webdriver.remote.webelement.WebElement (session=\"a26f3acebf6f300cde85e6957d4e2bc3\", element=\"87ee6eae-bc69-4133-8b7e-151f549f6506\")>,\n",
       " <selenium.webdriver.remote.webelement.WebElement (session=\"a26f3acebf6f300cde85e6957d4e2bc3\", element=\"aa64df48-ed1a-4e90-b6c0-905ac9994c82\")>,\n",
       " <selenium.webdriver.remote.webelement.WebElement (session=\"a26f3acebf6f300cde85e6957d4e2bc3\", element=\"ac019935-f94e-4699-b9fa-93c30c39d888\")>,\n",
       " <selenium.webdriver.remote.webelement.WebElement (session=\"a26f3acebf6f300cde85e6957d4e2bc3\", element=\"60e970b9-e0ba-4eaa-8e15-377ddd02a131\")>,\n",
       " <selenium.webdriver.remote.webelement.WebElement (session=\"a26f3acebf6f300cde85e6957d4e2bc3\", element=\"e23580dc-45ee-48d4-9f21-bb8a9a82d262\")>,\n",
       " <selenium.webdriver.remote.webelement.WebElement (session=\"a26f3acebf6f300cde85e6957d4e2bc3\", element=\"eaf48ac4-783a-4bd8-9c11-bdcb48f695cc\")>,\n",
       " <selenium.webdriver.remote.webelement.WebElement (session=\"a26f3acebf6f300cde85e6957d4e2bc3\", element=\"c4ac650c-898b-4399-99b1-2da9e29b63c6\")>,\n",
       " <selenium.webdriver.remote.webelement.WebElement (session=\"a26f3acebf6f300cde85e6957d4e2bc3\", element=\"194f83cb-a460-45ee-937c-3edb472f26da\")>,\n",
       " <selenium.webdriver.remote.webelement.WebElement (session=\"a26f3acebf6f300cde85e6957d4e2bc3\", element=\"1d016a0f-85dc-4c10-8404-bae58d1394f5\")>,\n",
       " <selenium.webdriver.remote.webelement.WebElement (session=\"a26f3acebf6f300cde85e6957d4e2bc3\", element=\"a4cd8946-b876-4710-a036-997ac5ce24f4\")>,\n",
       " <selenium.webdriver.remote.webelement.WebElement (session=\"a26f3acebf6f300cde85e6957d4e2bc3\", element=\"e4ee04f9-1cf7-49c2-bdd4-4b1bf660cd0d\")>,\n",
       " <selenium.webdriver.remote.webelement.WebElement (session=\"a26f3acebf6f300cde85e6957d4e2bc3\", element=\"15aba346-0a17-4e7f-9c72-8425821f17cf\")>,\n",
       " <selenium.webdriver.remote.webelement.WebElement (session=\"a26f3acebf6f300cde85e6957d4e2bc3\", element=\"9ee63065-fe87-46dc-b462-22fdceddeb46\")>,\n",
       " <selenium.webdriver.remote.webelement.WebElement (session=\"a26f3acebf6f300cde85e6957d4e2bc3\", element=\"42efd22b-956a-40b2-8804-03a96d0570ee\")>,\n",
       " <selenium.webdriver.remote.webelement.WebElement (session=\"a26f3acebf6f300cde85e6957d4e2bc3\", element=\"7a753f64-6cf6-42ce-9d47-8ee09d074f30\")>,\n",
       " <selenium.webdriver.remote.webelement.WebElement (session=\"a26f3acebf6f300cde85e6957d4e2bc3\", element=\"71900d0f-33e7-4b9e-a287-d7ae9f866966\")>,\n",
       " <selenium.webdriver.remote.webelement.WebElement (session=\"a26f3acebf6f300cde85e6957d4e2bc3\", element=\"f90b2433-e11e-40c1-898a-b9f109a2053d\")>,\n",
       " <selenium.webdriver.remote.webelement.WebElement (session=\"a26f3acebf6f300cde85e6957d4e2bc3\", element=\"496a9ff8-803c-40b6-b328-c1a2b79c70f5\")>,\n",
       " <selenium.webdriver.remote.webelement.WebElement (session=\"a26f3acebf6f300cde85e6957d4e2bc3\", element=\"72780aad-8a10-4615-ba51-cc6ba230575f\")>,\n",
       " <selenium.webdriver.remote.webelement.WebElement (session=\"a26f3acebf6f300cde85e6957d4e2bc3\", element=\"b29c4747-5b34-4851-95b5-db74a54e0cf6\")>,\n",
       " <selenium.webdriver.remote.webelement.WebElement (session=\"a26f3acebf6f300cde85e6957d4e2bc3\", element=\"9b89d4f6-18da-46c7-a495-d0713f2a3fe8\")>,\n",
       " <selenium.webdriver.remote.webelement.WebElement (session=\"a26f3acebf6f300cde85e6957d4e2bc3\", element=\"7fbd6484-4238-4dbd-9337-f32230a7af41\")>,\n",
       " <selenium.webdriver.remote.webelement.WebElement (session=\"a26f3acebf6f300cde85e6957d4e2bc3\", element=\"73a0751a-f16b-4b36-b12e-9d826adf2234\")>]"
      ]
     },
     "execution_count": 92,
     "metadata": {},
     "output_type": "execute_result"
    }
   ],
   "source": [
    "sneaker_discount_tag=driver.find_elements_by_xpath(\"//div[@class='_3Ay6Sb']\")\n",
    "sneaker_discount_tag"
   ]
  },
  {
   "cell_type": "code",
   "execution_count": 93,
   "metadata": {},
   "outputs": [
    {
     "data": {
      "text/plain": [
       "['47% off',\n",
       " '46% off',\n",
       " '47% off',\n",
       " '75% off',\n",
       " '60% off',\n",
       " '69% off',\n",
       " '20% off',\n",
       " '75% off',\n",
       " '71% off',\n",
       " '85% off',\n",
       " '50% off',\n",
       " '46% off',\n",
       " '69% off',\n",
       " '62% off',\n",
       " '75% off',\n",
       " '55% off',\n",
       " '37% off',\n",
       " '55% off',\n",
       " '65% off',\n",
       " '40% off',\n",
       " '52% off',\n",
       " '20% off',\n",
       " '60% off',\n",
       " '50% off',\n",
       " '58% off',\n",
       " '50% off',\n",
       " '30% off',\n",
       " '66% off',\n",
       " '50% off',\n",
       " '54% off',\n",
       " '35% off',\n",
       " '72% off',\n",
       " '60% off',\n",
       " '50% off',\n",
       " '21% off',\n",
       " '50% off',\n",
       " '79% off',\n",
       " '75% off',\n",
       " '21% off',\n",
       " '47% off',\n",
       " '46% off',\n",
       " '47% off',\n",
       " '75% off',\n",
       " '60% off',\n",
       " '69% off',\n",
       " '20% off',\n",
       " '75% off',\n",
       " '71% off',\n",
       " '85% off',\n",
       " '50% off',\n",
       " '46% off',\n",
       " '69% off',\n",
       " '62% off',\n",
       " '75% off',\n",
       " '55% off',\n",
       " '37% off',\n",
       " '55% off',\n",
       " '65% off',\n",
       " '40% off',\n",
       " '52% off',\n",
       " '20% off',\n",
       " '60% off',\n",
       " '50% off',\n",
       " '58% off',\n",
       " '50% off',\n",
       " '30% off',\n",
       " '66% off',\n",
       " '50% off',\n",
       " '54% off',\n",
       " '35% off',\n",
       " '72% off',\n",
       " '60% off',\n",
       " '50% off',\n",
       " '21% off',\n",
       " '50% off',\n",
       " '79% off',\n",
       " '75% off',\n",
       " '21% off']"
      ]
     },
     "execution_count": 93,
     "metadata": {},
     "output_type": "execute_result"
    }
   ],
   "source": [
    "for i in sneaker_discount_tag:\n",
    "    sneaker_discount.append(i.text)\n",
    "sneaker_discount    "
   ]
  },
  {
   "cell_type": "code",
   "execution_count": 94,
   "metadata": {},
   "outputs": [
    {
     "data": {
      "text/html": [
       "<div>\n",
       "<style scoped>\n",
       "    .dataframe tbody tr th:only-of-type {\n",
       "        vertical-align: middle;\n",
       "    }\n",
       "\n",
       "    .dataframe tbody tr th {\n",
       "        vertical-align: top;\n",
       "    }\n",
       "\n",
       "    .dataframe thead th {\n",
       "        text-align: right;\n",
       "    }\n",
       "</style>\n",
       "<table border=\"1\" class=\"dataframe\">\n",
       "  <thead>\n",
       "    <tr style=\"text-align: right;\">\n",
       "      <th></th>\n",
       "      <th>brand</th>\n",
       "      <th>product_description</th>\n",
       "      <th>price</th>\n",
       "      <th>discount</th>\n",
       "    </tr>\n",
       "  </thead>\n",
       "  <tbody>\n",
       "    <tr>\n",
       "      <th>0</th>\n",
       "      <td>RapidBox</td>\n",
       "      <td>&lt;selenium.webdriver.remote.webelement.WebEleme...</td>\n",
       "      <td>₹520</td>\n",
       "      <td>47% off</td>\n",
       "    </tr>\n",
       "    <tr>\n",
       "      <th>1</th>\n",
       "      <td>Echor</td>\n",
       "      <td>&lt;selenium.webdriver.remote.webelement.WebEleme...</td>\n",
       "      <td>₹539</td>\n",
       "      <td>46% off</td>\n",
       "    </tr>\n",
       "    <tr>\n",
       "      <th>2</th>\n",
       "      <td>D-SNEAKERZ</td>\n",
       "      <td>&lt;selenium.webdriver.remote.webelement.WebEleme...</td>\n",
       "      <td>₹348</td>\n",
       "      <td>47% off</td>\n",
       "    </tr>\n",
       "    <tr>\n",
       "      <th>3</th>\n",
       "      <td>Numenzo</td>\n",
       "      <td>&lt;selenium.webdriver.remote.webelement.WebEleme...</td>\n",
       "      <td>₹499</td>\n",
       "      <td>75% off</td>\n",
       "    </tr>\n",
       "    <tr>\n",
       "      <th>4</th>\n",
       "      <td>Magnolia</td>\n",
       "      <td>&lt;selenium.webdriver.remote.webelement.WebEleme...</td>\n",
       "      <td>₹398</td>\n",
       "      <td>60% off</td>\n",
       "    </tr>\n",
       "    <tr>\n",
       "      <th>5</th>\n",
       "      <td>luxury fashion</td>\n",
       "      <td>&lt;selenium.webdriver.remote.webelement.WebEleme...</td>\n",
       "      <td>₹399</td>\n",
       "      <td>69% off</td>\n",
       "    </tr>\n",
       "    <tr>\n",
       "      <th>6</th>\n",
       "      <td>BIRDE</td>\n",
       "      <td>&lt;selenium.webdriver.remote.webelement.WebEleme...</td>\n",
       "      <td>₹399</td>\n",
       "      <td>20% off</td>\n",
       "    </tr>\n",
       "    <tr>\n",
       "      <th>7</th>\n",
       "      <td>Numenzo</td>\n",
       "      <td>&lt;selenium.webdriver.remote.webelement.WebEleme...</td>\n",
       "      <td>₹499</td>\n",
       "      <td>75% off</td>\n",
       "    </tr>\n",
       "    <tr>\n",
       "      <th>8</th>\n",
       "      <td>HOTSTYLE</td>\n",
       "      <td>&lt;selenium.webdriver.remote.webelement.WebEleme...</td>\n",
       "      <td>₹282</td>\n",
       "      <td>71% off</td>\n",
       "    </tr>\n",
       "    <tr>\n",
       "      <th>9</th>\n",
       "      <td>BRUTON</td>\n",
       "      <td>&lt;selenium.webdriver.remote.webelement.WebEleme...</td>\n",
       "      <td>₹499</td>\n",
       "      <td>85% off</td>\n",
       "    </tr>\n",
       "    <tr>\n",
       "      <th>10</th>\n",
       "      <td>bluemaker</td>\n",
       "      <td>&lt;selenium.webdriver.remote.webelement.WebEleme...</td>\n",
       "      <td>₹499</td>\n",
       "      <td>50% off</td>\n",
       "    </tr>\n",
       "    <tr>\n",
       "      <th>11</th>\n",
       "      <td>Echor</td>\n",
       "      <td>&lt;selenium.webdriver.remote.webelement.WebEleme...</td>\n",
       "      <td>₹539</td>\n",
       "      <td>46% off</td>\n",
       "    </tr>\n",
       "    <tr>\n",
       "      <th>12</th>\n",
       "      <td>BRUTON</td>\n",
       "      <td>&lt;selenium.webdriver.remote.webelement.WebEleme...</td>\n",
       "      <td>₹399</td>\n",
       "      <td>69% off</td>\n",
       "    </tr>\n",
       "    <tr>\n",
       "      <th>13</th>\n",
       "      <td>Robbie jones</td>\n",
       "      <td>&lt;selenium.webdriver.remote.webelement.WebEleme...</td>\n",
       "      <td>₹379</td>\n",
       "      <td>62% off</td>\n",
       "    </tr>\n",
       "    <tr>\n",
       "      <th>14</th>\n",
       "      <td>ASTEROID</td>\n",
       "      <td>&lt;selenium.webdriver.remote.webelement.WebEleme...</td>\n",
       "      <td>₹499</td>\n",
       "      <td>75% off</td>\n",
       "    </tr>\n",
       "    <tr>\n",
       "      <th>15</th>\n",
       "      <td>sixXplus</td>\n",
       "      <td>&lt;selenium.webdriver.remote.webelement.WebEleme...</td>\n",
       "      <td>₹449</td>\n",
       "      <td>55% off</td>\n",
       "    </tr>\n",
       "    <tr>\n",
       "      <th>16</th>\n",
       "      <td>Edoeviv</td>\n",
       "      <td>&lt;selenium.webdriver.remote.webelement.WebEleme...</td>\n",
       "      <td>₹499</td>\n",
       "      <td>37% off</td>\n",
       "    </tr>\n",
       "    <tr>\n",
       "      <th>17</th>\n",
       "      <td>believe</td>\n",
       "      <td>&lt;selenium.webdriver.remote.webelement.WebEleme...</td>\n",
       "      <td>₹449</td>\n",
       "      <td>55% off</td>\n",
       "    </tr>\n",
       "    <tr>\n",
       "      <th>18</th>\n",
       "      <td>Numenzo</td>\n",
       "      <td>&lt;selenium.webdriver.remote.webelement.WebEleme...</td>\n",
       "      <td>₹449</td>\n",
       "      <td>65% off</td>\n",
       "    </tr>\n",
       "    <tr>\n",
       "      <th>19</th>\n",
       "      <td>ADIDAS</td>\n",
       "      <td>&lt;selenium.webdriver.remote.webelement.WebEleme...</td>\n",
       "      <td>₹2,399</td>\n",
       "      <td>40% off</td>\n",
       "    </tr>\n",
       "    <tr>\n",
       "      <th>20</th>\n",
       "      <td>Robbie jones</td>\n",
       "      <td>&lt;selenium.webdriver.remote.webelement.WebEleme...</td>\n",
       "      <td>₹474</td>\n",
       "      <td>52% off</td>\n",
       "    </tr>\n",
       "    <tr>\n",
       "      <th>21</th>\n",
       "      <td>BIRDE</td>\n",
       "      <td>&lt;selenium.webdriver.remote.webelement.WebEleme...</td>\n",
       "      <td>₹399</td>\n",
       "      <td>20% off</td>\n",
       "    </tr>\n",
       "    <tr>\n",
       "      <th>22</th>\n",
       "      <td>KNIGHT WALKERS</td>\n",
       "      <td>&lt;selenium.webdriver.remote.webelement.WebEleme...</td>\n",
       "      <td>₹599</td>\n",
       "      <td>60% off</td>\n",
       "    </tr>\n",
       "    <tr>\n",
       "      <th>23</th>\n",
       "      <td>NIKE</td>\n",
       "      <td>&lt;selenium.webdriver.remote.webelement.WebEleme...</td>\n",
       "      <td>₹4,995</td>\n",
       "      <td>50% off</td>\n",
       "    </tr>\n",
       "    <tr>\n",
       "      <th>24</th>\n",
       "      <td>bluemaker</td>\n",
       "      <td>&lt;selenium.webdriver.remote.webelement.WebEleme...</td>\n",
       "      <td>₹499</td>\n",
       "      <td>58% off</td>\n",
       "    </tr>\n",
       "    <tr>\n",
       "      <th>25</th>\n",
       "      <td>Kraasa</td>\n",
       "      <td>&lt;selenium.webdriver.remote.webelement.WebEleme...</td>\n",
       "      <td>₹416</td>\n",
       "      <td>50% off</td>\n",
       "    </tr>\n",
       "    <tr>\n",
       "      <th>26</th>\n",
       "      <td>ASTEROID</td>\n",
       "      <td>&lt;selenium.webdriver.remote.webelement.WebEleme...</td>\n",
       "      <td>₹499</td>\n",
       "      <td>30% off</td>\n",
       "    </tr>\n",
       "    <tr>\n",
       "      <th>27</th>\n",
       "      <td>PUMA</td>\n",
       "      <td>&lt;selenium.webdriver.remote.webelement.WebEleme...</td>\n",
       "      <td>₹3,149</td>\n",
       "      <td>66% off</td>\n",
       "    </tr>\n",
       "    <tr>\n",
       "      <th>28</th>\n",
       "      <td>Chevit</td>\n",
       "      <td>&lt;selenium.webdriver.remote.webelement.WebEleme...</td>\n",
       "      <td>₹599</td>\n",
       "      <td>50% off</td>\n",
       "    </tr>\n",
       "    <tr>\n",
       "      <th>29</th>\n",
       "      <td>bluemaker</td>\n",
       "      <td>&lt;selenium.webdriver.remote.webelement.WebEleme...</td>\n",
       "      <td>₹499</td>\n",
       "      <td>54% off</td>\n",
       "    </tr>\n",
       "    <tr>\n",
       "      <th>30</th>\n",
       "      <td>Arohi</td>\n",
       "      <td>&lt;selenium.webdriver.remote.webelement.WebEleme...</td>\n",
       "      <td>₹459</td>\n",
       "      <td>35% off</td>\n",
       "    </tr>\n",
       "    <tr>\n",
       "      <th>31</th>\n",
       "      <td>Paragon</td>\n",
       "      <td>&lt;selenium.webdriver.remote.webelement.WebEleme...</td>\n",
       "      <td>₹584</td>\n",
       "      <td>72% off</td>\n",
       "    </tr>\n",
       "    <tr>\n",
       "      <th>32</th>\n",
       "      <td>BRUTON</td>\n",
       "      <td>&lt;selenium.webdriver.remote.webelement.WebEleme...</td>\n",
       "      <td>₹359</td>\n",
       "      <td>60% off</td>\n",
       "    </tr>\n",
       "    <tr>\n",
       "      <th>33</th>\n",
       "      <td>HOTSTYLE</td>\n",
       "      <td>&lt;selenium.webdriver.remote.webelement.WebEleme...</td>\n",
       "      <td>₹198</td>\n",
       "      <td>50% off</td>\n",
       "    </tr>\n",
       "    <tr>\n",
       "      <th>34</th>\n",
       "      <td>Robbie jones</td>\n",
       "      <td>&lt;selenium.webdriver.remote.webelement.WebEleme...</td>\n",
       "      <td>₹499</td>\n",
       "      <td>21% off</td>\n",
       "    </tr>\n",
       "    <tr>\n",
       "      <th>35</th>\n",
       "      <td>ASIAN</td>\n",
       "      <td>&lt;selenium.webdriver.remote.webelement.WebEleme...</td>\n",
       "      <td>₹629</td>\n",
       "      <td>50% off</td>\n",
       "    </tr>\n",
       "    <tr>\n",
       "      <th>36</th>\n",
       "      <td>ESSENCE</td>\n",
       "      <td>&lt;selenium.webdriver.remote.webelement.WebEleme...</td>\n",
       "      <td>₹499</td>\n",
       "      <td>79% off</td>\n",
       "    </tr>\n",
       "    <tr>\n",
       "      <th>37</th>\n",
       "      <td>HOC</td>\n",
       "      <td>Sneakers For Men</td>\n",
       "      <td>₹419</td>\n",
       "      <td>75% off</td>\n",
       "    </tr>\n",
       "    <tr>\n",
       "      <th>38</th>\n",
       "      <td>BRUTON</td>\n",
       "      <td>Casual , Partywear Sneakers Shoes For Men's An...</td>\n",
       "      <td>₹624</td>\n",
       "      <td>21% off</td>\n",
       "    </tr>\n",
       "  </tbody>\n",
       "</table>\n",
       "</div>"
      ],
      "text/plain": [
       "             brand                                product_description   price  \\\n",
       "0         RapidBox  <selenium.webdriver.remote.webelement.WebEleme...    ₹520   \n",
       "1            Echor  <selenium.webdriver.remote.webelement.WebEleme...    ₹539   \n",
       "2       D-SNEAKERZ  <selenium.webdriver.remote.webelement.WebEleme...    ₹348   \n",
       "3          Numenzo  <selenium.webdriver.remote.webelement.WebEleme...    ₹499   \n",
       "4         Magnolia  <selenium.webdriver.remote.webelement.WebEleme...    ₹398   \n",
       "5   luxury fashion  <selenium.webdriver.remote.webelement.WebEleme...    ₹399   \n",
       "6            BIRDE  <selenium.webdriver.remote.webelement.WebEleme...    ₹399   \n",
       "7          Numenzo  <selenium.webdriver.remote.webelement.WebEleme...    ₹499   \n",
       "8         HOTSTYLE  <selenium.webdriver.remote.webelement.WebEleme...    ₹282   \n",
       "9           BRUTON  <selenium.webdriver.remote.webelement.WebEleme...    ₹499   \n",
       "10       bluemaker  <selenium.webdriver.remote.webelement.WebEleme...    ₹499   \n",
       "11           Echor  <selenium.webdriver.remote.webelement.WebEleme...    ₹539   \n",
       "12          BRUTON  <selenium.webdriver.remote.webelement.WebEleme...    ₹399   \n",
       "13    Robbie jones  <selenium.webdriver.remote.webelement.WebEleme...    ₹379   \n",
       "14        ASTEROID  <selenium.webdriver.remote.webelement.WebEleme...    ₹499   \n",
       "15        sixXplus  <selenium.webdriver.remote.webelement.WebEleme...    ₹449   \n",
       "16         Edoeviv  <selenium.webdriver.remote.webelement.WebEleme...    ₹499   \n",
       "17         believe  <selenium.webdriver.remote.webelement.WebEleme...    ₹449   \n",
       "18         Numenzo  <selenium.webdriver.remote.webelement.WebEleme...    ₹449   \n",
       "19          ADIDAS  <selenium.webdriver.remote.webelement.WebEleme...  ₹2,399   \n",
       "20    Robbie jones  <selenium.webdriver.remote.webelement.WebEleme...    ₹474   \n",
       "21           BIRDE  <selenium.webdriver.remote.webelement.WebEleme...    ₹399   \n",
       "22  KNIGHT WALKERS  <selenium.webdriver.remote.webelement.WebEleme...    ₹599   \n",
       "23            NIKE  <selenium.webdriver.remote.webelement.WebEleme...  ₹4,995   \n",
       "24       bluemaker  <selenium.webdriver.remote.webelement.WebEleme...    ₹499   \n",
       "25          Kraasa  <selenium.webdriver.remote.webelement.WebEleme...    ₹416   \n",
       "26        ASTEROID  <selenium.webdriver.remote.webelement.WebEleme...    ₹499   \n",
       "27            PUMA  <selenium.webdriver.remote.webelement.WebEleme...  ₹3,149   \n",
       "28          Chevit  <selenium.webdriver.remote.webelement.WebEleme...    ₹599   \n",
       "29       bluemaker  <selenium.webdriver.remote.webelement.WebEleme...    ₹499   \n",
       "30           Arohi  <selenium.webdriver.remote.webelement.WebEleme...    ₹459   \n",
       "31         Paragon  <selenium.webdriver.remote.webelement.WebEleme...    ₹584   \n",
       "32          BRUTON  <selenium.webdriver.remote.webelement.WebEleme...    ₹359   \n",
       "33        HOTSTYLE  <selenium.webdriver.remote.webelement.WebEleme...    ₹198   \n",
       "34    Robbie jones  <selenium.webdriver.remote.webelement.WebEleme...    ₹499   \n",
       "35           ASIAN  <selenium.webdriver.remote.webelement.WebEleme...    ₹629   \n",
       "36         ESSENCE  <selenium.webdriver.remote.webelement.WebEleme...    ₹499   \n",
       "37             HOC                                   Sneakers For Men    ₹419   \n",
       "38          BRUTON  Casual , Partywear Sneakers Shoes For Men's An...    ₹624   \n",
       "\n",
       "   discount  \n",
       "0   47% off  \n",
       "1   46% off  \n",
       "2   47% off  \n",
       "3   75% off  \n",
       "4   60% off  \n",
       "5   69% off  \n",
       "6   20% off  \n",
       "7   75% off  \n",
       "8   71% off  \n",
       "9   85% off  \n",
       "10  50% off  \n",
       "11  46% off  \n",
       "12  69% off  \n",
       "13  62% off  \n",
       "14  75% off  \n",
       "15  55% off  \n",
       "16  37% off  \n",
       "17  55% off  \n",
       "18  65% off  \n",
       "19  40% off  \n",
       "20  52% off  \n",
       "21  20% off  \n",
       "22  60% off  \n",
       "23  50% off  \n",
       "24  58% off  \n",
       "25  50% off  \n",
       "26  30% off  \n",
       "27  66% off  \n",
       "28  50% off  \n",
       "29  54% off  \n",
       "30  35% off  \n",
       "31  72% off  \n",
       "32  60% off  \n",
       "33  50% off  \n",
       "34  21% off  \n",
       "35  50% off  \n",
       "36  79% off  \n",
       "37  75% off  \n",
       "38  21% off  "
      ]
     },
     "execution_count": 94,
     "metadata": {},
     "output_type": "execute_result"
    }
   ],
   "source": [
    "shoes=pd.DataFrame({})\n",
    "shoes['brand']=sneaker_brand[0:39]\n",
    "shoes['product_description']=sneaker_product_description[0:39]\n",
    "shoes['price']=sneaker_price[0:39]\n",
    "shoes['discount']=sneaker_discount[0:39]\n",
    "shoes"
   ]
  },
  {
   "cell_type": "markdown",
   "metadata": {},
   "source": [
    "Q9: Go to the link - https://www.myntra.com/shoes\n",
    "Set Price filter to “Rs. 6649 to Rs. 13099” , Color filter to “Black”, as shown in \n",
    "the below imageWEB SCRAPING ASSIGNMENT-2\n",
    ".\n",
    "And then scrape First 100 shoes data you get. The data should include “Brand” of \n",
    "the shoes , Short Shoe description, price of the shoe as shown in the below image.\n",
    "Please note that applying the filter and scraping the data , everything should be \n",
    "done through code only and there should not be any manual step"
   ]
  },
  {
   "cell_type": "code",
   "execution_count": 95,
   "metadata": {},
   "outputs": [],
   "source": [
    "driver =webdriver.Chrome(r'C:\\Users\\Om Prakash\\Downloads\\chromedriver_win32/chromedriver.exe')"
   ]
  },
  {
   "cell_type": "code",
   "execution_count": 96,
   "metadata": {},
   "outputs": [],
   "source": [
    "driver=webdriver.Chrome('chromedriver.exe')"
   ]
  },
  {
   "cell_type": "code",
   "execution_count": 97,
   "metadata": {},
   "outputs": [],
   "source": [
    "driver.get('https://www.myntra.com/shoes')"
   ]
  },
  {
   "cell_type": "code",
   "execution_count": 129,
   "metadata": {},
   "outputs": [],
   "source": [
    "shoe_brand=[]\n",
    "shoe_discount=[]\n",
    "price_shoe=[] "
   ]
  },
  {
   "cell_type": "code",
   "execution_count": 99,
   "metadata": {},
   "outputs": [],
   "source": [
    "uls=('https://www.myntra.com/shoes?f=Color%3ABlack_36454f&rf=Price%3A6927.0_13615.0_6927.0%20TO%2013615.0')"
   ]
  },
  {
   "cell_type": "code",
   "execution_count": 100,
   "metadata": {},
   "outputs": [],
   "source": [
    "driver.get(uls)"
   ]
  },
  {
   "cell_type": "code",
   "execution_count": 102,
   "metadata": {},
   "outputs": [
    {
     "data": {
      "text/plain": [
       "[<selenium.webdriver.remote.webelement.WebElement (session=\"2ed8fac955b442cead7a2dd73f1985ae\", element=\"624b5c94-0fc9-4463-903f-60f3e34a3249\")>,\n",
       " <selenium.webdriver.remote.webelement.WebElement (session=\"2ed8fac955b442cead7a2dd73f1985ae\", element=\"316a0ec4-7765-46d7-a8cd-bda137b9df42\")>,\n",
       " <selenium.webdriver.remote.webelement.WebElement (session=\"2ed8fac955b442cead7a2dd73f1985ae\", element=\"2420a385-b9ba-42b3-86b3-058ce7984ab8\")>,\n",
       " <selenium.webdriver.remote.webelement.WebElement (session=\"2ed8fac955b442cead7a2dd73f1985ae\", element=\"9b256f80-d098-4ed5-a5f6-17075b55b7fd\")>,\n",
       " <selenium.webdriver.remote.webelement.WebElement (session=\"2ed8fac955b442cead7a2dd73f1985ae\", element=\"03c67aba-663d-4fa1-ad7b-bdd045cc7aa7\")>,\n",
       " <selenium.webdriver.remote.webelement.WebElement (session=\"2ed8fac955b442cead7a2dd73f1985ae\", element=\"c19460b6-e247-4d72-bc22-bddb7eb6890f\")>,\n",
       " <selenium.webdriver.remote.webelement.WebElement (session=\"2ed8fac955b442cead7a2dd73f1985ae\", element=\"74762887-e17d-4235-b2d1-58696b6cb967\")>,\n",
       " <selenium.webdriver.remote.webelement.WebElement (session=\"2ed8fac955b442cead7a2dd73f1985ae\", element=\"253f82b0-a10f-4841-b353-4d2859cd09c5\")>,\n",
       " <selenium.webdriver.remote.webelement.WebElement (session=\"2ed8fac955b442cead7a2dd73f1985ae\", element=\"1f1bdce0-cb8a-46de-b2cd-c0f95662b6fe\")>,\n",
       " <selenium.webdriver.remote.webelement.WebElement (session=\"2ed8fac955b442cead7a2dd73f1985ae\", element=\"fae7f099-89e1-4290-967a-ec9b49cd50eb\")>,\n",
       " <selenium.webdriver.remote.webelement.WebElement (session=\"2ed8fac955b442cead7a2dd73f1985ae\", element=\"a800af44-d335-4afb-bbdd-8e77fc7f5fa9\")>,\n",
       " <selenium.webdriver.remote.webelement.WebElement (session=\"2ed8fac955b442cead7a2dd73f1985ae\", element=\"aff3bdbc-6712-4d74-86ee-f3aa4b2b42f4\")>,\n",
       " <selenium.webdriver.remote.webelement.WebElement (session=\"2ed8fac955b442cead7a2dd73f1985ae\", element=\"a00bb75b-12c2-40e7-a5dd-ed96e449c275\")>,\n",
       " <selenium.webdriver.remote.webelement.WebElement (session=\"2ed8fac955b442cead7a2dd73f1985ae\", element=\"26bcf884-a6d8-4ad5-86a2-c1fe9123e9ed\")>,\n",
       " <selenium.webdriver.remote.webelement.WebElement (session=\"2ed8fac955b442cead7a2dd73f1985ae\", element=\"8c6b9adb-87bd-44c4-97e3-21f4b91bae75\")>,\n",
       " <selenium.webdriver.remote.webelement.WebElement (session=\"2ed8fac955b442cead7a2dd73f1985ae\", element=\"13fdea5c-2a21-402b-b9bb-3eb1f51d65d3\")>,\n",
       " <selenium.webdriver.remote.webelement.WebElement (session=\"2ed8fac955b442cead7a2dd73f1985ae\", element=\"60a5c6f6-d6c0-4e84-8b80-61ff73303aae\")>,\n",
       " <selenium.webdriver.remote.webelement.WebElement (session=\"2ed8fac955b442cead7a2dd73f1985ae\", element=\"c8cc2009-d60f-4827-8082-3fde0f68564d\")>,\n",
       " <selenium.webdriver.remote.webelement.WebElement (session=\"2ed8fac955b442cead7a2dd73f1985ae\", element=\"045b988a-abe5-4836-8141-d93173cb314b\")>,\n",
       " <selenium.webdriver.remote.webelement.WebElement (session=\"2ed8fac955b442cead7a2dd73f1985ae\", element=\"8dd53da2-a5db-4288-87a3-6e2ddc2e5bde\")>,\n",
       " <selenium.webdriver.remote.webelement.WebElement (session=\"2ed8fac955b442cead7a2dd73f1985ae\", element=\"a6a97d9b-2ac5-427b-88dc-9b669246d70b\")>,\n",
       " <selenium.webdriver.remote.webelement.WebElement (session=\"2ed8fac955b442cead7a2dd73f1985ae\", element=\"a4861fff-57bc-4fb4-87b4-e4fe1c21dc3f\")>,\n",
       " <selenium.webdriver.remote.webelement.WebElement (session=\"2ed8fac955b442cead7a2dd73f1985ae\", element=\"b9ec48aa-1b1b-4e1b-92ec-de6a7d579518\")>,\n",
       " <selenium.webdriver.remote.webelement.WebElement (session=\"2ed8fac955b442cead7a2dd73f1985ae\", element=\"65d8d898-2957-4c0e-bd97-e0d980d1b5d4\")>,\n",
       " <selenium.webdriver.remote.webelement.WebElement (session=\"2ed8fac955b442cead7a2dd73f1985ae\", element=\"339ee927-6c08-402b-b98b-309954c4c7c4\")>,\n",
       " <selenium.webdriver.remote.webelement.WebElement (session=\"2ed8fac955b442cead7a2dd73f1985ae\", element=\"80adfe7a-6ea8-4c52-a5ce-ca1aa1bc0df2\")>,\n",
       " <selenium.webdriver.remote.webelement.WebElement (session=\"2ed8fac955b442cead7a2dd73f1985ae\", element=\"7bf2289e-86fb-4e4d-8308-c418b7bf535c\")>,\n",
       " <selenium.webdriver.remote.webelement.WebElement (session=\"2ed8fac955b442cead7a2dd73f1985ae\", element=\"4f0613a1-d349-4d64-bcbf-d0882e036b5a\")>,\n",
       " <selenium.webdriver.remote.webelement.WebElement (session=\"2ed8fac955b442cead7a2dd73f1985ae\", element=\"b75729c7-62f0-4123-bd0f-81a3f75e8882\")>,\n",
       " <selenium.webdriver.remote.webelement.WebElement (session=\"2ed8fac955b442cead7a2dd73f1985ae\", element=\"b0618ae0-5264-4343-906e-92ec13305114\")>,\n",
       " <selenium.webdriver.remote.webelement.WebElement (session=\"2ed8fac955b442cead7a2dd73f1985ae\", element=\"fac67be3-6b93-49a2-9d00-c5891efd6896\")>,\n",
       " <selenium.webdriver.remote.webelement.WebElement (session=\"2ed8fac955b442cead7a2dd73f1985ae\", element=\"6bd06ccf-70c2-406d-84dc-7585bce20229\")>,\n",
       " <selenium.webdriver.remote.webelement.WebElement (session=\"2ed8fac955b442cead7a2dd73f1985ae\", element=\"32eaf373-2dcd-4bbb-b99c-75619f87d199\")>,\n",
       " <selenium.webdriver.remote.webelement.WebElement (session=\"2ed8fac955b442cead7a2dd73f1985ae\", element=\"8b9ff84c-6898-48f1-8093-345d1850ed78\")>,\n",
       " <selenium.webdriver.remote.webelement.WebElement (session=\"2ed8fac955b442cead7a2dd73f1985ae\", element=\"6741ae36-c884-4f67-830e-afc71eb4d771\")>,\n",
       " <selenium.webdriver.remote.webelement.WebElement (session=\"2ed8fac955b442cead7a2dd73f1985ae\", element=\"12a479b3-6f6c-4e1b-87d3-88f60d515192\")>,\n",
       " <selenium.webdriver.remote.webelement.WebElement (session=\"2ed8fac955b442cead7a2dd73f1985ae\", element=\"876e30b4-0931-413e-960c-a1d6fb1b2fea\")>,\n",
       " <selenium.webdriver.remote.webelement.WebElement (session=\"2ed8fac955b442cead7a2dd73f1985ae\", element=\"4b880217-f44f-4eea-ab59-a71adeca0d92\")>,\n",
       " <selenium.webdriver.remote.webelement.WebElement (session=\"2ed8fac955b442cead7a2dd73f1985ae\", element=\"a5b6d194-6c96-4e0c-ad22-7dac217c5cc4\")>,\n",
       " <selenium.webdriver.remote.webelement.WebElement (session=\"2ed8fac955b442cead7a2dd73f1985ae\", element=\"18a32044-ee28-40c4-947d-621a2639199e\")>,\n",
       " <selenium.webdriver.remote.webelement.WebElement (session=\"2ed8fac955b442cead7a2dd73f1985ae\", element=\"370f8bc9-ba60-4dcd-a46d-439d094eb723\")>,\n",
       " <selenium.webdriver.remote.webelement.WebElement (session=\"2ed8fac955b442cead7a2dd73f1985ae\", element=\"99d484f2-0f95-4bc2-a54e-f35070da49b5\")>,\n",
       " <selenium.webdriver.remote.webelement.WebElement (session=\"2ed8fac955b442cead7a2dd73f1985ae\", element=\"ea7f34f0-9872-4433-89f7-a05831e7f402\")>,\n",
       " <selenium.webdriver.remote.webelement.WebElement (session=\"2ed8fac955b442cead7a2dd73f1985ae\", element=\"31f7363b-4f84-4339-83e8-a208e544feb9\")>,\n",
       " <selenium.webdriver.remote.webelement.WebElement (session=\"2ed8fac955b442cead7a2dd73f1985ae\", element=\"ad047d8e-80b8-4e1c-913a-e5a5f5bb1bc0\")>,\n",
       " <selenium.webdriver.remote.webelement.WebElement (session=\"2ed8fac955b442cead7a2dd73f1985ae\", element=\"80a4799b-6074-4a99-92e2-4ab531955601\")>,\n",
       " <selenium.webdriver.remote.webelement.WebElement (session=\"2ed8fac955b442cead7a2dd73f1985ae\", element=\"78dfab2b-a2dd-4617-83d3-b7d967b92c26\")>,\n",
       " <selenium.webdriver.remote.webelement.WebElement (session=\"2ed8fac955b442cead7a2dd73f1985ae\", element=\"e26aed95-9168-48d2-acb6-80899d98ca34\")>,\n",
       " <selenium.webdriver.remote.webelement.WebElement (session=\"2ed8fac955b442cead7a2dd73f1985ae\", element=\"657d7a72-27a3-41fd-bbe3-bde1433f802f\")>,\n",
       " <selenium.webdriver.remote.webelement.WebElement (session=\"2ed8fac955b442cead7a2dd73f1985ae\", element=\"d204782d-4a7d-4da2-90a4-34e0c2cdd2b7\")>]"
      ]
     },
     "execution_count": 102,
     "metadata": {},
     "output_type": "execute_result"
    }
   ],
   "source": [
    "shoe_brand_tags=driver.find_elements_by_xpath(\"//h3[@class='product-brand']\")\n",
    "shoe_brand_tags"
   ]
  },
  {
   "cell_type": "code",
   "execution_count": 135,
   "metadata": {},
   "outputs": [
    {
     "ename": "WebDriverException",
     "evalue": "Message: chrome not reachable\n  (Session info: chrome=94.0.4606.81)\n",
     "output_type": "error",
     "traceback": [
      "\u001b[1;31m---------------------------------------------------------------------------\u001b[0m",
      "\u001b[1;31mWebDriverException\u001b[0m                        Traceback (most recent call last)",
      "\u001b[1;32m<ipython-input-135-6bbcf163fb54>\u001b[0m in \u001b[0;36m<module>\u001b[1;34m\u001b[0m\n\u001b[0;32m      1\u001b[0m \u001b[1;32mfor\u001b[0m \u001b[0mi\u001b[0m \u001b[1;32min\u001b[0m \u001b[0mshoe_brand_tags\u001b[0m\u001b[1;33m:\u001b[0m\u001b[1;33m\u001b[0m\u001b[1;33m\u001b[0m\u001b[0m\n\u001b[1;32m----> 2\u001b[1;33m     \u001b[0mshoe_brand\u001b[0m\u001b[1;33m.\u001b[0m\u001b[0mappend\u001b[0m\u001b[1;33m(\u001b[0m\u001b[0mi\u001b[0m\u001b[1;33m.\u001b[0m\u001b[0mtext\u001b[0m\u001b[1;33m)\u001b[0m\u001b[1;33m\u001b[0m\u001b[1;33m\u001b[0m\u001b[0m\n\u001b[0m\u001b[0;32m      3\u001b[0m \u001b[0mshoe_brand\u001b[0m\u001b[1;33m\u001b[0m\u001b[1;33m\u001b[0m\u001b[0m\n",
      "\u001b[1;32m~\\anaconda3\\lib\\site-packages\\selenium\\webdriver\\remote\\webelement.py\u001b[0m in \u001b[0;36mtext\u001b[1;34m(self)\u001b[0m\n\u001b[0;32m     74\u001b[0m     \u001b[1;32mdef\u001b[0m \u001b[0mtext\u001b[0m\u001b[1;33m(\u001b[0m\u001b[0mself\u001b[0m\u001b[1;33m)\u001b[0m\u001b[1;33m:\u001b[0m\u001b[1;33m\u001b[0m\u001b[1;33m\u001b[0m\u001b[0m\n\u001b[0;32m     75\u001b[0m         \u001b[1;34m\"\"\"The text of the element.\"\"\"\u001b[0m\u001b[1;33m\u001b[0m\u001b[1;33m\u001b[0m\u001b[0m\n\u001b[1;32m---> 76\u001b[1;33m         \u001b[1;32mreturn\u001b[0m \u001b[0mself\u001b[0m\u001b[1;33m.\u001b[0m\u001b[0m_execute\u001b[0m\u001b[1;33m(\u001b[0m\u001b[0mCommand\u001b[0m\u001b[1;33m.\u001b[0m\u001b[0mGET_ELEMENT_TEXT\u001b[0m\u001b[1;33m)\u001b[0m\u001b[1;33m[\u001b[0m\u001b[1;34m'value'\u001b[0m\u001b[1;33m]\u001b[0m\u001b[1;33m\u001b[0m\u001b[1;33m\u001b[0m\u001b[0m\n\u001b[0m\u001b[0;32m     77\u001b[0m \u001b[1;33m\u001b[0m\u001b[0m\n\u001b[0;32m     78\u001b[0m     \u001b[1;32mdef\u001b[0m \u001b[0mclick\u001b[0m\u001b[1;33m(\u001b[0m\u001b[0mself\u001b[0m\u001b[1;33m)\u001b[0m\u001b[1;33m:\u001b[0m\u001b[1;33m\u001b[0m\u001b[1;33m\u001b[0m\u001b[0m\n",
      "\u001b[1;32m~\\anaconda3\\lib\\site-packages\\selenium\\webdriver\\remote\\webelement.py\u001b[0m in \u001b[0;36m_execute\u001b[1;34m(self, command, params)\u001b[0m\n\u001b[0;32m    631\u001b[0m             \u001b[0mparams\u001b[0m \u001b[1;33m=\u001b[0m \u001b[1;33m{\u001b[0m\u001b[1;33m}\u001b[0m\u001b[1;33m\u001b[0m\u001b[1;33m\u001b[0m\u001b[0m\n\u001b[0;32m    632\u001b[0m         \u001b[0mparams\u001b[0m\u001b[1;33m[\u001b[0m\u001b[1;34m'id'\u001b[0m\u001b[1;33m]\u001b[0m \u001b[1;33m=\u001b[0m \u001b[0mself\u001b[0m\u001b[1;33m.\u001b[0m\u001b[0m_id\u001b[0m\u001b[1;33m\u001b[0m\u001b[1;33m\u001b[0m\u001b[0m\n\u001b[1;32m--> 633\u001b[1;33m         \u001b[1;32mreturn\u001b[0m \u001b[0mself\u001b[0m\u001b[1;33m.\u001b[0m\u001b[0m_parent\u001b[0m\u001b[1;33m.\u001b[0m\u001b[0mexecute\u001b[0m\u001b[1;33m(\u001b[0m\u001b[0mcommand\u001b[0m\u001b[1;33m,\u001b[0m \u001b[0mparams\u001b[0m\u001b[1;33m)\u001b[0m\u001b[1;33m\u001b[0m\u001b[1;33m\u001b[0m\u001b[0m\n\u001b[0m\u001b[0;32m    634\u001b[0m \u001b[1;33m\u001b[0m\u001b[0m\n\u001b[0;32m    635\u001b[0m     \u001b[1;32mdef\u001b[0m \u001b[0mfind_element\u001b[0m\u001b[1;33m(\u001b[0m\u001b[0mself\u001b[0m\u001b[1;33m,\u001b[0m \u001b[0mby\u001b[0m\u001b[1;33m=\u001b[0m\u001b[0mBy\u001b[0m\u001b[1;33m.\u001b[0m\u001b[0mID\u001b[0m\u001b[1;33m,\u001b[0m \u001b[0mvalue\u001b[0m\u001b[1;33m=\u001b[0m\u001b[1;32mNone\u001b[0m\u001b[1;33m)\u001b[0m\u001b[1;33m:\u001b[0m\u001b[1;33m\u001b[0m\u001b[1;33m\u001b[0m\u001b[0m\n",
      "\u001b[1;32m~\\anaconda3\\lib\\site-packages\\selenium\\webdriver\\remote\\webdriver.py\u001b[0m in \u001b[0;36mexecute\u001b[1;34m(self, driver_command, params)\u001b[0m\n\u001b[0;32m    319\u001b[0m         \u001b[0mresponse\u001b[0m \u001b[1;33m=\u001b[0m \u001b[0mself\u001b[0m\u001b[1;33m.\u001b[0m\u001b[0mcommand_executor\u001b[0m\u001b[1;33m.\u001b[0m\u001b[0mexecute\u001b[0m\u001b[1;33m(\u001b[0m\u001b[0mdriver_command\u001b[0m\u001b[1;33m,\u001b[0m \u001b[0mparams\u001b[0m\u001b[1;33m)\u001b[0m\u001b[1;33m\u001b[0m\u001b[1;33m\u001b[0m\u001b[0m\n\u001b[0;32m    320\u001b[0m         \u001b[1;32mif\u001b[0m \u001b[0mresponse\u001b[0m\u001b[1;33m:\u001b[0m\u001b[1;33m\u001b[0m\u001b[1;33m\u001b[0m\u001b[0m\n\u001b[1;32m--> 321\u001b[1;33m             \u001b[0mself\u001b[0m\u001b[1;33m.\u001b[0m\u001b[0merror_handler\u001b[0m\u001b[1;33m.\u001b[0m\u001b[0mcheck_response\u001b[0m\u001b[1;33m(\u001b[0m\u001b[0mresponse\u001b[0m\u001b[1;33m)\u001b[0m\u001b[1;33m\u001b[0m\u001b[1;33m\u001b[0m\u001b[0m\n\u001b[0m\u001b[0;32m    322\u001b[0m             response['value'] = self._unwrap_value(\n\u001b[0;32m    323\u001b[0m                 response.get('value', None))\n",
      "\u001b[1;32m~\\anaconda3\\lib\\site-packages\\selenium\\webdriver\\remote\\errorhandler.py\u001b[0m in \u001b[0;36mcheck_response\u001b[1;34m(self, response)\u001b[0m\n\u001b[0;32m    240\u001b[0m                 \u001b[0malert_text\u001b[0m \u001b[1;33m=\u001b[0m \u001b[0mvalue\u001b[0m\u001b[1;33m[\u001b[0m\u001b[1;34m'alert'\u001b[0m\u001b[1;33m]\u001b[0m\u001b[1;33m.\u001b[0m\u001b[0mget\u001b[0m\u001b[1;33m(\u001b[0m\u001b[1;34m'text'\u001b[0m\u001b[1;33m)\u001b[0m\u001b[1;33m\u001b[0m\u001b[1;33m\u001b[0m\u001b[0m\n\u001b[0;32m    241\u001b[0m             \u001b[1;32mraise\u001b[0m \u001b[0mexception_class\u001b[0m\u001b[1;33m(\u001b[0m\u001b[0mmessage\u001b[0m\u001b[1;33m,\u001b[0m \u001b[0mscreen\u001b[0m\u001b[1;33m,\u001b[0m \u001b[0mstacktrace\u001b[0m\u001b[1;33m,\u001b[0m \u001b[0malert_text\u001b[0m\u001b[1;33m)\u001b[0m\u001b[1;33m\u001b[0m\u001b[1;33m\u001b[0m\u001b[0m\n\u001b[1;32m--> 242\u001b[1;33m         \u001b[1;32mraise\u001b[0m \u001b[0mexception_class\u001b[0m\u001b[1;33m(\u001b[0m\u001b[0mmessage\u001b[0m\u001b[1;33m,\u001b[0m \u001b[0mscreen\u001b[0m\u001b[1;33m,\u001b[0m \u001b[0mstacktrace\u001b[0m\u001b[1;33m)\u001b[0m\u001b[1;33m\u001b[0m\u001b[1;33m\u001b[0m\u001b[0m\n\u001b[0m\u001b[0;32m    243\u001b[0m \u001b[1;33m\u001b[0m\u001b[0m\n\u001b[0;32m    244\u001b[0m     \u001b[1;32mdef\u001b[0m \u001b[0m_value_or_default\u001b[0m\u001b[1;33m(\u001b[0m\u001b[0mself\u001b[0m\u001b[1;33m,\u001b[0m \u001b[0mobj\u001b[0m\u001b[1;33m,\u001b[0m \u001b[0mkey\u001b[0m\u001b[1;33m,\u001b[0m \u001b[0mdefault\u001b[0m\u001b[1;33m)\u001b[0m\u001b[1;33m:\u001b[0m\u001b[1;33m\u001b[0m\u001b[1;33m\u001b[0m\u001b[0m\n",
      "\u001b[1;31mWebDriverException\u001b[0m: Message: chrome not reachable\n  (Session info: chrome=94.0.4606.81)\n"
     ]
    }
   ],
   "source": [
    "for i in shoe_brand_tags:\n",
    "    shoe_brand.append(i.text)\n",
    "shoe_brand    "
   ]
  },
  {
   "cell_type": "code",
   "execution_count": 132,
   "metadata": {},
   "outputs": [
    {
     "data": {
      "text/plain": [
       "[<selenium.webdriver.remote.webelement.WebElement (session=\"2ed8fac955b442cead7a2dd73f1985ae\", element=\"e2c6af97-619d-46a9-8e75-e1dbe9d16b02\")>,\n",
       " <selenium.webdriver.remote.webelement.WebElement (session=\"2ed8fac955b442cead7a2dd73f1985ae\", element=\"33bb8ab8-fb6c-404f-9445-d67a8c052b81\")>,\n",
       " <selenium.webdriver.remote.webelement.WebElement (session=\"2ed8fac955b442cead7a2dd73f1985ae\", element=\"c8cdd43a-c67f-4db9-8698-db6bb3779d07\")>,\n",
       " <selenium.webdriver.remote.webelement.WebElement (session=\"2ed8fac955b442cead7a2dd73f1985ae\", element=\"220523f6-eb8b-4b3b-aea7-f071fe1343e4\")>,\n",
       " <selenium.webdriver.remote.webelement.WebElement (session=\"2ed8fac955b442cead7a2dd73f1985ae\", element=\"2a3db4d0-69ad-4ef4-947e-afcbab80700a\")>,\n",
       " <selenium.webdriver.remote.webelement.WebElement (session=\"2ed8fac955b442cead7a2dd73f1985ae\", element=\"38ae6ae3-8682-4bd6-965d-009ebf2d1a80\")>,\n",
       " <selenium.webdriver.remote.webelement.WebElement (session=\"2ed8fac955b442cead7a2dd73f1985ae\", element=\"b71fa219-d44c-40f6-8130-2411b649a18d\")>,\n",
       " <selenium.webdriver.remote.webelement.WebElement (session=\"2ed8fac955b442cead7a2dd73f1985ae\", element=\"7b3c0447-150f-4d79-a72e-9e94a7f66ed4\")>,\n",
       " <selenium.webdriver.remote.webelement.WebElement (session=\"2ed8fac955b442cead7a2dd73f1985ae\", element=\"e8b03078-855e-4210-a2d8-ac50c0d34723\")>,\n",
       " <selenium.webdriver.remote.webelement.WebElement (session=\"2ed8fac955b442cead7a2dd73f1985ae\", element=\"c291fd57-5eb5-4e78-bd9a-518e05c99b0b\")>,\n",
       " <selenium.webdriver.remote.webelement.WebElement (session=\"2ed8fac955b442cead7a2dd73f1985ae\", element=\"8b077ba6-af40-4186-8cb1-6aeddee33dcb\")>,\n",
       " <selenium.webdriver.remote.webelement.WebElement (session=\"2ed8fac955b442cead7a2dd73f1985ae\", element=\"2d157046-1af5-4c6c-9f9d-1dd567a9cf1e\")>,\n",
       " <selenium.webdriver.remote.webelement.WebElement (session=\"2ed8fac955b442cead7a2dd73f1985ae\", element=\"499c3af5-d456-454e-b18f-b782a0d01eb6\")>,\n",
       " <selenium.webdriver.remote.webelement.WebElement (session=\"2ed8fac955b442cead7a2dd73f1985ae\", element=\"6a3b7fd5-a048-4475-8f94-9c07cb668daa\")>,\n",
       " <selenium.webdriver.remote.webelement.WebElement (session=\"2ed8fac955b442cead7a2dd73f1985ae\", element=\"376a7f5d-ed82-4ad2-b54f-ec0cbded7325\")>,\n",
       " <selenium.webdriver.remote.webelement.WebElement (session=\"2ed8fac955b442cead7a2dd73f1985ae\", element=\"de7cefa7-aaa7-488d-a7da-427c293886c5\")>,\n",
       " <selenium.webdriver.remote.webelement.WebElement (session=\"2ed8fac955b442cead7a2dd73f1985ae\", element=\"a0839869-08c3-4269-9a23-6a430d91dc48\")>,\n",
       " <selenium.webdriver.remote.webelement.WebElement (session=\"2ed8fac955b442cead7a2dd73f1985ae\", element=\"58f0ec99-889a-4b1d-992f-ca70084d7901\")>,\n",
       " <selenium.webdriver.remote.webelement.WebElement (session=\"2ed8fac955b442cead7a2dd73f1985ae\", element=\"0c1bd1bd-e672-4755-a625-156e6cee3a99\")>,\n",
       " <selenium.webdriver.remote.webelement.WebElement (session=\"2ed8fac955b442cead7a2dd73f1985ae\", element=\"cc755ff7-80c6-44d7-9500-b3c03caadfe7\")>,\n",
       " <selenium.webdriver.remote.webelement.WebElement (session=\"2ed8fac955b442cead7a2dd73f1985ae\", element=\"757e6b05-5e54-41d6-a49a-df2e9414e69f\")>,\n",
       " <selenium.webdriver.remote.webelement.WebElement (session=\"2ed8fac955b442cead7a2dd73f1985ae\", element=\"8c79be3d-0e55-4849-8f41-daca22d0f5b3\")>,\n",
       " <selenium.webdriver.remote.webelement.WebElement (session=\"2ed8fac955b442cead7a2dd73f1985ae\", element=\"0e267887-e99c-493b-beb7-a1a76a0604c6\")>,\n",
       " <selenium.webdriver.remote.webelement.WebElement (session=\"2ed8fac955b442cead7a2dd73f1985ae\", element=\"ca24c5c2-c930-4e39-b130-80a7fa3b2b67\")>,\n",
       " <selenium.webdriver.remote.webelement.WebElement (session=\"2ed8fac955b442cead7a2dd73f1985ae\", element=\"45fc6127-ba93-4926-9182-ab4c7c396f54\")>,\n",
       " <selenium.webdriver.remote.webelement.WebElement (session=\"2ed8fac955b442cead7a2dd73f1985ae\", element=\"9c49aeaf-e3ce-4ec0-8459-99e6941053c9\")>,\n",
       " <selenium.webdriver.remote.webelement.WebElement (session=\"2ed8fac955b442cead7a2dd73f1985ae\", element=\"7385a324-5f67-4c8f-b094-0a82e31fb45c\")>,\n",
       " <selenium.webdriver.remote.webelement.WebElement (session=\"2ed8fac955b442cead7a2dd73f1985ae\", element=\"1860bffc-1c9b-42cd-bc48-5dfced35542a\")>,\n",
       " <selenium.webdriver.remote.webelement.WebElement (session=\"2ed8fac955b442cead7a2dd73f1985ae\", element=\"d88bfa13-4882-47b5-a7ef-eaa15600fb74\")>,\n",
       " <selenium.webdriver.remote.webelement.WebElement (session=\"2ed8fac955b442cead7a2dd73f1985ae\", element=\"8720da8b-8d72-4049-a16e-4942cb75ccbf\")>]"
      ]
     },
     "execution_count": 132,
     "metadata": {},
     "output_type": "execute_result"
    }
   ],
   "source": [
    "price_shoe_tag=driver.find_elements_by_xpath(\"//span[@class='product-discountedPrice']\")\n",
    "price_shoe_tag"
   ]
  },
  {
   "cell_type": "code",
   "execution_count": 133,
   "metadata": {},
   "outputs": [
    {
     "data": {
      "text/plain": [
       "[<selenium.webdriver.remote.webelement.WebElement (session=\"2ed8fac955b442cead7a2dd73f1985ae\", element=\"e2c6af97-619d-46a9-8e75-e1dbe9d16b02\")>,\n",
       " <selenium.webdriver.remote.webelement.WebElement (session=\"2ed8fac955b442cead7a2dd73f1985ae\", element=\"33bb8ab8-fb6c-404f-9445-d67a8c052b81\")>,\n",
       " <selenium.webdriver.remote.webelement.WebElement (session=\"2ed8fac955b442cead7a2dd73f1985ae\", element=\"c8cdd43a-c67f-4db9-8698-db6bb3779d07\")>,\n",
       " <selenium.webdriver.remote.webelement.WebElement (session=\"2ed8fac955b442cead7a2dd73f1985ae\", element=\"220523f6-eb8b-4b3b-aea7-f071fe1343e4\")>,\n",
       " <selenium.webdriver.remote.webelement.WebElement (session=\"2ed8fac955b442cead7a2dd73f1985ae\", element=\"2a3db4d0-69ad-4ef4-947e-afcbab80700a\")>,\n",
       " <selenium.webdriver.remote.webelement.WebElement (session=\"2ed8fac955b442cead7a2dd73f1985ae\", element=\"38ae6ae3-8682-4bd6-965d-009ebf2d1a80\")>,\n",
       " <selenium.webdriver.remote.webelement.WebElement (session=\"2ed8fac955b442cead7a2dd73f1985ae\", element=\"b71fa219-d44c-40f6-8130-2411b649a18d\")>,\n",
       " <selenium.webdriver.remote.webelement.WebElement (session=\"2ed8fac955b442cead7a2dd73f1985ae\", element=\"7b3c0447-150f-4d79-a72e-9e94a7f66ed4\")>,\n",
       " <selenium.webdriver.remote.webelement.WebElement (session=\"2ed8fac955b442cead7a2dd73f1985ae\", element=\"e8b03078-855e-4210-a2d8-ac50c0d34723\")>,\n",
       " <selenium.webdriver.remote.webelement.WebElement (session=\"2ed8fac955b442cead7a2dd73f1985ae\", element=\"c291fd57-5eb5-4e78-bd9a-518e05c99b0b\")>,\n",
       " <selenium.webdriver.remote.webelement.WebElement (session=\"2ed8fac955b442cead7a2dd73f1985ae\", element=\"8b077ba6-af40-4186-8cb1-6aeddee33dcb\")>,\n",
       " <selenium.webdriver.remote.webelement.WebElement (session=\"2ed8fac955b442cead7a2dd73f1985ae\", element=\"2d157046-1af5-4c6c-9f9d-1dd567a9cf1e\")>,\n",
       " <selenium.webdriver.remote.webelement.WebElement (session=\"2ed8fac955b442cead7a2dd73f1985ae\", element=\"499c3af5-d456-454e-b18f-b782a0d01eb6\")>,\n",
       " <selenium.webdriver.remote.webelement.WebElement (session=\"2ed8fac955b442cead7a2dd73f1985ae\", element=\"6a3b7fd5-a048-4475-8f94-9c07cb668daa\")>,\n",
       " <selenium.webdriver.remote.webelement.WebElement (session=\"2ed8fac955b442cead7a2dd73f1985ae\", element=\"376a7f5d-ed82-4ad2-b54f-ec0cbded7325\")>,\n",
       " <selenium.webdriver.remote.webelement.WebElement (session=\"2ed8fac955b442cead7a2dd73f1985ae\", element=\"de7cefa7-aaa7-488d-a7da-427c293886c5\")>,\n",
       " <selenium.webdriver.remote.webelement.WebElement (session=\"2ed8fac955b442cead7a2dd73f1985ae\", element=\"a0839869-08c3-4269-9a23-6a430d91dc48\")>,\n",
       " <selenium.webdriver.remote.webelement.WebElement (session=\"2ed8fac955b442cead7a2dd73f1985ae\", element=\"58f0ec99-889a-4b1d-992f-ca70084d7901\")>,\n",
       " <selenium.webdriver.remote.webelement.WebElement (session=\"2ed8fac955b442cead7a2dd73f1985ae\", element=\"0c1bd1bd-e672-4755-a625-156e6cee3a99\")>,\n",
       " <selenium.webdriver.remote.webelement.WebElement (session=\"2ed8fac955b442cead7a2dd73f1985ae\", element=\"cc755ff7-80c6-44d7-9500-b3c03caadfe7\")>,\n",
       " <selenium.webdriver.remote.webelement.WebElement (session=\"2ed8fac955b442cead7a2dd73f1985ae\", element=\"757e6b05-5e54-41d6-a49a-df2e9414e69f\")>,\n",
       " <selenium.webdriver.remote.webelement.WebElement (session=\"2ed8fac955b442cead7a2dd73f1985ae\", element=\"8c79be3d-0e55-4849-8f41-daca22d0f5b3\")>,\n",
       " <selenium.webdriver.remote.webelement.WebElement (session=\"2ed8fac955b442cead7a2dd73f1985ae\", element=\"0e267887-e99c-493b-beb7-a1a76a0604c6\")>,\n",
       " <selenium.webdriver.remote.webelement.WebElement (session=\"2ed8fac955b442cead7a2dd73f1985ae\", element=\"ca24c5c2-c930-4e39-b130-80a7fa3b2b67\")>,\n",
       " <selenium.webdriver.remote.webelement.WebElement (session=\"2ed8fac955b442cead7a2dd73f1985ae\", element=\"45fc6127-ba93-4926-9182-ab4c7c396f54\")>,\n",
       " <selenium.webdriver.remote.webelement.WebElement (session=\"2ed8fac955b442cead7a2dd73f1985ae\", element=\"9c49aeaf-e3ce-4ec0-8459-99e6941053c9\")>,\n",
       " <selenium.webdriver.remote.webelement.WebElement (session=\"2ed8fac955b442cead7a2dd73f1985ae\", element=\"7385a324-5f67-4c8f-b094-0a82e31fb45c\")>,\n",
       " <selenium.webdriver.remote.webelement.WebElement (session=\"2ed8fac955b442cead7a2dd73f1985ae\", element=\"1860bffc-1c9b-42cd-bc48-5dfced35542a\")>,\n",
       " <selenium.webdriver.remote.webelement.WebElement (session=\"2ed8fac955b442cead7a2dd73f1985ae\", element=\"d88bfa13-4882-47b5-a7ef-eaa15600fb74\")>,\n",
       " <selenium.webdriver.remote.webelement.WebElement (session=\"2ed8fac955b442cead7a2dd73f1985ae\", element=\"8720da8b-8d72-4049-a16e-4942cb75ccbf\")>]"
      ]
     },
     "execution_count": 133,
     "metadata": {},
     "output_type": "execute_result"
    }
   ],
   "source": [
    "for i in price_shoe_tag:\n",
    "    price_shoe.append(i.text)\n",
    "price_shoe_tag    "
   ]
  },
  {
   "cell_type": "code",
   "execution_count": 134,
   "metadata": {},
   "outputs": [
    {
     "data": {
      "text/html": [
       "<div>\n",
       "<style scoped>\n",
       "    .dataframe tbody tr th:only-of-type {\n",
       "        vertical-align: middle;\n",
       "    }\n",
       "\n",
       "    .dataframe tbody tr th {\n",
       "        vertical-align: top;\n",
       "    }\n",
       "\n",
       "    .dataframe thead th {\n",
       "        text-align: right;\n",
       "    }\n",
       "</style>\n",
       "<table border=\"1\" class=\"dataframe\">\n",
       "  <thead>\n",
       "    <tr style=\"text-align: right;\">\n",
       "      <th></th>\n",
       "      <th>shoe_brand</th>\n",
       "      <th>price_shoe</th>\n",
       "    </tr>\n",
       "  </thead>\n",
       "  <tbody>\n",
       "    <tr>\n",
       "      <th>0</th>\n",
       "      <td>NaN</td>\n",
       "      <td>Rs. 10499</td>\n",
       "    </tr>\n",
       "    <tr>\n",
       "      <th>1</th>\n",
       "      <td>NaN</td>\n",
       "      <td>Rs. 11199</td>\n",
       "    </tr>\n",
       "    <tr>\n",
       "      <th>2</th>\n",
       "      <td>NaN</td>\n",
       "      <td>Rs. 10399</td>\n",
       "    </tr>\n",
       "    <tr>\n",
       "      <th>3</th>\n",
       "      <td>NaN</td>\n",
       "      <td>Rs. 7999</td>\n",
       "    </tr>\n",
       "    <tr>\n",
       "      <th>4</th>\n",
       "      <td>NaN</td>\n",
       "      <td>Rs. 11999</td>\n",
       "    </tr>\n",
       "    <tr>\n",
       "      <th>5</th>\n",
       "      <td>NaN</td>\n",
       "      <td>Rs. 8099</td>\n",
       "    </tr>\n",
       "    <tr>\n",
       "      <th>6</th>\n",
       "      <td>NaN</td>\n",
       "      <td>Rs. 7199</td>\n",
       "    </tr>\n",
       "    <tr>\n",
       "      <th>7</th>\n",
       "      <td>NaN</td>\n",
       "      <td>Rs. 11199</td>\n",
       "    </tr>\n",
       "    <tr>\n",
       "      <th>8</th>\n",
       "      <td>NaN</td>\n",
       "      <td>Rs. 8999</td>\n",
       "    </tr>\n",
       "    <tr>\n",
       "      <th>9</th>\n",
       "      <td>NaN</td>\n",
       "      <td>Rs. 7149</td>\n",
       "    </tr>\n",
       "    <tr>\n",
       "      <th>10</th>\n",
       "      <td>NaN</td>\n",
       "      <td>Rs. 6999</td>\n",
       "    </tr>\n",
       "    <tr>\n",
       "      <th>11</th>\n",
       "      <td>NaN</td>\n",
       "      <td>Rs. 10799</td>\n",
       "    </tr>\n",
       "    <tr>\n",
       "      <th>12</th>\n",
       "      <td>NaN</td>\n",
       "      <td>Rs. 9099</td>\n",
       "    </tr>\n",
       "    <tr>\n",
       "      <th>13</th>\n",
       "      <td>NaN</td>\n",
       "      <td>Rs. 7999</td>\n",
       "    </tr>\n",
       "    <tr>\n",
       "      <th>14</th>\n",
       "      <td>NaN</td>\n",
       "      <td>Rs. 7999</td>\n",
       "    </tr>\n",
       "    <tr>\n",
       "      <th>15</th>\n",
       "      <td>NaN</td>\n",
       "      <td>Rs. 7149</td>\n",
       "    </tr>\n",
       "    <tr>\n",
       "      <th>16</th>\n",
       "      <td>NaN</td>\n",
       "      <td>Rs. 6999</td>\n",
       "    </tr>\n",
       "    <tr>\n",
       "      <th>17</th>\n",
       "      <td>NaN</td>\n",
       "      <td>Rs. 7799</td>\n",
       "    </tr>\n",
       "    <tr>\n",
       "      <th>18</th>\n",
       "      <td>NaN</td>\n",
       "      <td>Rs. 7773</td>\n",
       "    </tr>\n",
       "    <tr>\n",
       "      <th>19</th>\n",
       "      <td>NaN</td>\n",
       "      <td>Rs. 8449</td>\n",
       "    </tr>\n",
       "    <tr>\n",
       "      <th>20</th>\n",
       "      <td>NaN</td>\n",
       "      <td>Rs. 8999</td>\n",
       "    </tr>\n",
       "    <tr>\n",
       "      <th>21</th>\n",
       "      <td>NaN</td>\n",
       "      <td>Rs. 10399</td>\n",
       "    </tr>\n",
       "    <tr>\n",
       "      <th>22</th>\n",
       "      <td>NaN</td>\n",
       "      <td>Rs. 7999</td>\n",
       "    </tr>\n",
       "    <tr>\n",
       "      <th>23</th>\n",
       "      <td>NaN</td>\n",
       "      <td>Rs. 7999</td>\n",
       "    </tr>\n",
       "    <tr>\n",
       "      <th>24</th>\n",
       "      <td>NaN</td>\n",
       "      <td>Rs. 7199</td>\n",
       "    </tr>\n",
       "    <tr>\n",
       "      <th>25</th>\n",
       "      <td>NaN</td>\n",
       "      <td>Rs. 6999</td>\n",
       "    </tr>\n",
       "    <tr>\n",
       "      <th>26</th>\n",
       "      <td>NaN</td>\n",
       "      <td>Rs. 11199</td>\n",
       "    </tr>\n",
       "    <tr>\n",
       "      <th>27</th>\n",
       "      <td>NaN</td>\n",
       "      <td>Rs. 7006</td>\n",
       "    </tr>\n",
       "    <tr>\n",
       "      <th>28</th>\n",
       "      <td>NaN</td>\n",
       "      <td>Rs. 7199</td>\n",
       "    </tr>\n",
       "    <tr>\n",
       "      <th>29</th>\n",
       "      <td>NaN</td>\n",
       "      <td>Rs. 6999</td>\n",
       "    </tr>\n",
       "  </tbody>\n",
       "</table>\n",
       "</div>"
      ],
      "text/plain": [
       "    shoe_brand price_shoe\n",
       "0          NaN  Rs. 10499\n",
       "1          NaN  Rs. 11199\n",
       "2          NaN  Rs. 10399\n",
       "3          NaN   Rs. 7999\n",
       "4          NaN  Rs. 11999\n",
       "5          NaN   Rs. 8099\n",
       "6          NaN   Rs. 7199\n",
       "7          NaN  Rs. 11199\n",
       "8          NaN   Rs. 8999\n",
       "9          NaN   Rs. 7149\n",
       "10         NaN   Rs. 6999\n",
       "11         NaN  Rs. 10799\n",
       "12         NaN   Rs. 9099\n",
       "13         NaN   Rs. 7999\n",
       "14         NaN   Rs. 7999\n",
       "15         NaN   Rs. 7149\n",
       "16         NaN   Rs. 6999\n",
       "17         NaN   Rs. 7799\n",
       "18         NaN   Rs. 7773\n",
       "19         NaN   Rs. 8449\n",
       "20         NaN   Rs. 8999\n",
       "21         NaN  Rs. 10399\n",
       "22         NaN   Rs. 7999\n",
       "23         NaN   Rs. 7999\n",
       "24         NaN   Rs. 7199\n",
       "25         NaN   Rs. 6999\n",
       "26         NaN  Rs. 11199\n",
       "27         NaN   Rs. 7006\n",
       "28         NaN   Rs. 7199\n",
       "29         NaN   Rs. 6999"
      ]
     },
     "execution_count": 134,
     "metadata": {},
     "output_type": "execute_result"
    }
   ],
   "source": [
    "shoes=pd.DataFrame({})\n",
    "shoes['shoe_brand']=shoe_brand\n",
    "shoes['price_shoe']=price_shoe \n",
    "shoes"
   ]
  },
  {
   "cell_type": "markdown",
   "metadata": {},
   "source": [
    "Q10: Go to webpage https://www.amazon.in/\n",
    " Enter “Laptop” in the search field and then click the search icon.\n",
    " Then set CPU Type filter to “Intel Core i7” and “Intel Core i9” as shown in the \n",
    "below image:WEB SCRAPING ASSIGNMENT-2\n",
    ".\n",
    "After setting the filters scrape first 10 laptops data. You have to scrape 3 attributes \n",
    "for each laptop:\n",
    "1. title\n",
    "2. Ratings\n",
    "3. Price\n",
    "As shown in the below image as the tick marked attributes"
   ]
  },
  {
   "cell_type": "code",
   "execution_count": 35,
   "metadata": {},
   "outputs": [],
   "source": [
    "import selenium\n",
    "import pandas as pd\n",
    "from selenium import webdriver"
   ]
  },
  {
   "cell_type": "code",
   "execution_count": 44,
   "metadata": {},
   "outputs": [],
   "source": [
    "from selenium.webdriver.support.ui import WebDriverWait\n",
    "from selenium.webdriver.support import expected_conditions as EC\n",
    "from selenium.webdriver.common.by import By"
   ]
  },
  {
   "cell_type": "code",
   "execution_count": 48,
   "metadata": {},
   "outputs": [],
   "source": [
    "from time import sleep\n",
    "import random\n",
    "import time"
   ]
  },
  {
   "cell_type": "code",
   "execution_count": 42,
   "metadata": {},
   "outputs": [],
   "source": [
    "from selenium.common.exceptions import ElementNotInteractableException"
   ]
  },
  {
   "cell_type": "code",
   "execution_count": 36,
   "metadata": {},
   "outputs": [],
   "source": [
    "driver =webdriver.Chrome(r'C:\\Users\\Om Prakash\\Downloads\\chromedriver_win32/chromedriver.exe')"
   ]
  },
  {
   "cell_type": "code",
   "execution_count": 37,
   "metadata": {},
   "outputs": [],
   "source": [
    "driver=webdriver.Chrome('chromedriver.exe')"
   ]
  },
  {
   "cell_type": "code",
   "execution_count": 49,
   "metadata": {},
   "outputs": [
    {
     "name": "stdout",
     "output_type": "stream",
     "text": [
      "Exception Raised: Message: element not interactable\n",
      "  (Session info: chrome=94.0.4606.81)\n",
      "\n"
     ]
    }
   ],
   "source": [
    "driver.get('https://www.amazon.in/')\n",
    "time.sleep(5)\n",
    "try:\n",
    "    laptop=driver.find_element_by_xpath(\"//div[@class='nav-fill']\")\n",
    "    laptop.send_keys(\"laptop\")\n",
    "except ElementNotInteractableException as e:\n",
    "    print('Exception Raised:',e)"
   ]
  },
  {
   "cell_type": "code",
   "execution_count": 50,
   "metadata": {},
   "outputs": [
    {
     "ename": "ElementNotInteractableException",
     "evalue": "Message: element not interactable\n  (Session info: chrome=94.0.4606.81)\n",
     "output_type": "error",
     "traceback": [
      "\u001b[1;31m---------------------------------------------------------------------------\u001b[0m",
      "\u001b[1;31mElementNotInteractableException\u001b[0m           Traceback (most recent call last)",
      "\u001b[1;32m<ipython-input-50-b3edadf2d5c2>\u001b[0m in \u001b[0;36m<module>\u001b[1;34m\u001b[0m\n\u001b[0;32m      1\u001b[0m \u001b[0mlaptop\u001b[0m\u001b[1;33m=\u001b[0m\u001b[0mdriver\u001b[0m\u001b[1;33m.\u001b[0m\u001b[0mfind_element_by_xpath\u001b[0m\u001b[1;33m(\u001b[0m\u001b[1;34m\"//div[@class='nav-fill']\"\u001b[0m\u001b[1;33m)\u001b[0m\u001b[1;33m\u001b[0m\u001b[1;33m\u001b[0m\u001b[0m\n\u001b[1;32m----> 2\u001b[1;33m \u001b[0mlaptop\u001b[0m\u001b[1;33m.\u001b[0m\u001b[0msend_keys\u001b[0m\u001b[1;33m(\u001b[0m\u001b[1;34m\"laptop\"\u001b[0m\u001b[1;33m)\u001b[0m\u001b[1;33m\u001b[0m\u001b[1;33m\u001b[0m\u001b[0m\n\u001b[0m",
      "\u001b[1;32m~\\anaconda3\\lib\\site-packages\\selenium\\webdriver\\remote\\webelement.py\u001b[0m in \u001b[0;36msend_keys\u001b[1;34m(self, *value)\u001b[0m\n\u001b[0;32m    475\u001b[0m                 \u001b[0mvalue\u001b[0m \u001b[1;33m=\u001b[0m \u001b[0mself\u001b[0m\u001b[1;33m.\u001b[0m\u001b[0m_upload\u001b[0m\u001b[1;33m(\u001b[0m\u001b[0mlocal_file\u001b[0m\u001b[1;33m)\u001b[0m\u001b[1;33m\u001b[0m\u001b[1;33m\u001b[0m\u001b[0m\n\u001b[0;32m    476\u001b[0m \u001b[1;33m\u001b[0m\u001b[0m\n\u001b[1;32m--> 477\u001b[1;33m         self._execute(Command.SEND_KEYS_TO_ELEMENT,\n\u001b[0m\u001b[0;32m    478\u001b[0m                       {'text': \"\".join(keys_to_typing(value)),\n\u001b[0;32m    479\u001b[0m                        'value': keys_to_typing(value)})\n",
      "\u001b[1;32m~\\anaconda3\\lib\\site-packages\\selenium\\webdriver\\remote\\webelement.py\u001b[0m in \u001b[0;36m_execute\u001b[1;34m(self, command, params)\u001b[0m\n\u001b[0;32m    631\u001b[0m             \u001b[0mparams\u001b[0m \u001b[1;33m=\u001b[0m \u001b[1;33m{\u001b[0m\u001b[1;33m}\u001b[0m\u001b[1;33m\u001b[0m\u001b[1;33m\u001b[0m\u001b[0m\n\u001b[0;32m    632\u001b[0m         \u001b[0mparams\u001b[0m\u001b[1;33m[\u001b[0m\u001b[1;34m'id'\u001b[0m\u001b[1;33m]\u001b[0m \u001b[1;33m=\u001b[0m \u001b[0mself\u001b[0m\u001b[1;33m.\u001b[0m\u001b[0m_id\u001b[0m\u001b[1;33m\u001b[0m\u001b[1;33m\u001b[0m\u001b[0m\n\u001b[1;32m--> 633\u001b[1;33m         \u001b[1;32mreturn\u001b[0m \u001b[0mself\u001b[0m\u001b[1;33m.\u001b[0m\u001b[0m_parent\u001b[0m\u001b[1;33m.\u001b[0m\u001b[0mexecute\u001b[0m\u001b[1;33m(\u001b[0m\u001b[0mcommand\u001b[0m\u001b[1;33m,\u001b[0m \u001b[0mparams\u001b[0m\u001b[1;33m)\u001b[0m\u001b[1;33m\u001b[0m\u001b[1;33m\u001b[0m\u001b[0m\n\u001b[0m\u001b[0;32m    634\u001b[0m \u001b[1;33m\u001b[0m\u001b[0m\n\u001b[0;32m    635\u001b[0m     \u001b[1;32mdef\u001b[0m \u001b[0mfind_element\u001b[0m\u001b[1;33m(\u001b[0m\u001b[0mself\u001b[0m\u001b[1;33m,\u001b[0m \u001b[0mby\u001b[0m\u001b[1;33m=\u001b[0m\u001b[0mBy\u001b[0m\u001b[1;33m.\u001b[0m\u001b[0mID\u001b[0m\u001b[1;33m,\u001b[0m \u001b[0mvalue\u001b[0m\u001b[1;33m=\u001b[0m\u001b[1;32mNone\u001b[0m\u001b[1;33m)\u001b[0m\u001b[1;33m:\u001b[0m\u001b[1;33m\u001b[0m\u001b[1;33m\u001b[0m\u001b[0m\n",
      "\u001b[1;32m~\\anaconda3\\lib\\site-packages\\selenium\\webdriver\\remote\\webdriver.py\u001b[0m in \u001b[0;36mexecute\u001b[1;34m(self, driver_command, params)\u001b[0m\n\u001b[0;32m    319\u001b[0m         \u001b[0mresponse\u001b[0m \u001b[1;33m=\u001b[0m \u001b[0mself\u001b[0m\u001b[1;33m.\u001b[0m\u001b[0mcommand_executor\u001b[0m\u001b[1;33m.\u001b[0m\u001b[0mexecute\u001b[0m\u001b[1;33m(\u001b[0m\u001b[0mdriver_command\u001b[0m\u001b[1;33m,\u001b[0m \u001b[0mparams\u001b[0m\u001b[1;33m)\u001b[0m\u001b[1;33m\u001b[0m\u001b[1;33m\u001b[0m\u001b[0m\n\u001b[0;32m    320\u001b[0m         \u001b[1;32mif\u001b[0m \u001b[0mresponse\u001b[0m\u001b[1;33m:\u001b[0m\u001b[1;33m\u001b[0m\u001b[1;33m\u001b[0m\u001b[0m\n\u001b[1;32m--> 321\u001b[1;33m             \u001b[0mself\u001b[0m\u001b[1;33m.\u001b[0m\u001b[0merror_handler\u001b[0m\u001b[1;33m.\u001b[0m\u001b[0mcheck_response\u001b[0m\u001b[1;33m(\u001b[0m\u001b[0mresponse\u001b[0m\u001b[1;33m)\u001b[0m\u001b[1;33m\u001b[0m\u001b[1;33m\u001b[0m\u001b[0m\n\u001b[0m\u001b[0;32m    322\u001b[0m             response['value'] = self._unwrap_value(\n\u001b[0;32m    323\u001b[0m                 response.get('value', None))\n",
      "\u001b[1;32m~\\anaconda3\\lib\\site-packages\\selenium\\webdriver\\remote\\errorhandler.py\u001b[0m in \u001b[0;36mcheck_response\u001b[1;34m(self, response)\u001b[0m\n\u001b[0;32m    240\u001b[0m                 \u001b[0malert_text\u001b[0m \u001b[1;33m=\u001b[0m \u001b[0mvalue\u001b[0m\u001b[1;33m[\u001b[0m\u001b[1;34m'alert'\u001b[0m\u001b[1;33m]\u001b[0m\u001b[1;33m.\u001b[0m\u001b[0mget\u001b[0m\u001b[1;33m(\u001b[0m\u001b[1;34m'text'\u001b[0m\u001b[1;33m)\u001b[0m\u001b[1;33m\u001b[0m\u001b[1;33m\u001b[0m\u001b[0m\n\u001b[0;32m    241\u001b[0m             \u001b[1;32mraise\u001b[0m \u001b[0mexception_class\u001b[0m\u001b[1;33m(\u001b[0m\u001b[0mmessage\u001b[0m\u001b[1;33m,\u001b[0m \u001b[0mscreen\u001b[0m\u001b[1;33m,\u001b[0m \u001b[0mstacktrace\u001b[0m\u001b[1;33m,\u001b[0m \u001b[0malert_text\u001b[0m\u001b[1;33m)\u001b[0m\u001b[1;33m\u001b[0m\u001b[1;33m\u001b[0m\u001b[0m\n\u001b[1;32m--> 242\u001b[1;33m         \u001b[1;32mraise\u001b[0m \u001b[0mexception_class\u001b[0m\u001b[1;33m(\u001b[0m\u001b[0mmessage\u001b[0m\u001b[1;33m,\u001b[0m \u001b[0mscreen\u001b[0m\u001b[1;33m,\u001b[0m \u001b[0mstacktrace\u001b[0m\u001b[1;33m)\u001b[0m\u001b[1;33m\u001b[0m\u001b[1;33m\u001b[0m\u001b[0m\n\u001b[0m\u001b[0;32m    243\u001b[0m \u001b[1;33m\u001b[0m\u001b[0m\n\u001b[0;32m    244\u001b[0m     \u001b[1;32mdef\u001b[0m \u001b[0m_value_or_default\u001b[0m\u001b[1;33m(\u001b[0m\u001b[0mself\u001b[0m\u001b[1;33m,\u001b[0m \u001b[0mobj\u001b[0m\u001b[1;33m,\u001b[0m \u001b[0mkey\u001b[0m\u001b[1;33m,\u001b[0m \u001b[0mdefault\u001b[0m\u001b[1;33m)\u001b[0m\u001b[1;33m:\u001b[0m\u001b[1;33m\u001b[0m\u001b[1;33m\u001b[0m\u001b[0m\n",
      "\u001b[1;31mElementNotInteractableException\u001b[0m: Message: element not interactable\n  (Session info: chrome=94.0.4606.81)\n"
     ]
    }
   ],
   "source": [
    "laptop=driver.find_element_by_xpath(\"//div[@class='nav-fill']\")\n",
    "laptop.send_keys(\"laptop\")"
   ]
  },
  {
   "cell_type": "code",
   "execution_count": 52,
   "metadata": {},
   "outputs": [],
   "source": [
    "laptop_search=driver.find_element_by_xpath(\"//div[@class='nav-search-submit nav-sprite']\")\n",
    "laptop_search.click()"
   ]
  },
  {
   "cell_type": "code",
   "execution_count": 53,
   "metadata": {},
   "outputs": [],
   "source": [
    "title=[]\n",
    "Ratings=[]\n",
    "Price=[]\n"
   ]
  },
  {
   "cell_type": "code",
   "execution_count": 57,
   "metadata": {},
   "outputs": [
    {
     "data": {
      "text/plain": [
       "[<selenium.webdriver.remote.webelement.WebElement (session=\"49602db3b9753dd46bcb35570c262709\", element=\"3688866d-a9dc-4573-bbe5-9cbe1f962e5d\")>,\n",
       " <selenium.webdriver.remote.webelement.WebElement (session=\"49602db3b9753dd46bcb35570c262709\", element=\"42bf78a2-bc41-4ab6-b092-010b1ee2181d\")>,\n",
       " <selenium.webdriver.remote.webelement.WebElement (session=\"49602db3b9753dd46bcb35570c262709\", element=\"a4a302f4-90bc-4097-afe4-45eda0ab5f65\")>,\n",
       " <selenium.webdriver.remote.webelement.WebElement (session=\"49602db3b9753dd46bcb35570c262709\", element=\"8cee2e87-4283-4aab-8c42-a7145925f007\")>,\n",
       " <selenium.webdriver.remote.webelement.WebElement (session=\"49602db3b9753dd46bcb35570c262709\", element=\"692455e1-5452-4a39-b417-2e6bd1a4f0fd\")>,\n",
       " <selenium.webdriver.remote.webelement.WebElement (session=\"49602db3b9753dd46bcb35570c262709\", element=\"3ed26795-9c7a-46f6-8717-6acc23ce2c84\")>,\n",
       " <selenium.webdriver.remote.webelement.WebElement (session=\"49602db3b9753dd46bcb35570c262709\", element=\"eceac123-16be-4a51-a35c-a74ecfc81929\")>,\n",
       " <selenium.webdriver.remote.webelement.WebElement (session=\"49602db3b9753dd46bcb35570c262709\", element=\"0a2cb05b-0678-468e-9d9f-916a459f8b12\")>,\n",
       " <selenium.webdriver.remote.webelement.WebElement (session=\"49602db3b9753dd46bcb35570c262709\", element=\"ecceeb2b-a965-4d28-a256-f222d39e7f7a\")>,\n",
       " <selenium.webdriver.remote.webelement.WebElement (session=\"49602db3b9753dd46bcb35570c262709\", element=\"84287b61-bd30-4fd2-b392-2f49da48a6ec\")>,\n",
       " <selenium.webdriver.remote.webelement.WebElement (session=\"49602db3b9753dd46bcb35570c262709\", element=\"e21fcfc4-5809-4b24-92ad-1ffabcdee1f1\")>,\n",
       " <selenium.webdriver.remote.webelement.WebElement (session=\"49602db3b9753dd46bcb35570c262709\", element=\"6d8cfa4d-24de-4794-9391-45e1c75f034c\")>,\n",
       " <selenium.webdriver.remote.webelement.WebElement (session=\"49602db3b9753dd46bcb35570c262709\", element=\"cd10cc71-eaf4-4cc1-99b5-e9dbb9137343\")>,\n",
       " <selenium.webdriver.remote.webelement.WebElement (session=\"49602db3b9753dd46bcb35570c262709\", element=\"f509502d-3334-4c88-8576-1d4c855e798b\")>,\n",
       " <selenium.webdriver.remote.webelement.WebElement (session=\"49602db3b9753dd46bcb35570c262709\", element=\"ad2a1187-9f5e-4470-9bcf-5c016737d0d5\")>,\n",
       " <selenium.webdriver.remote.webelement.WebElement (session=\"49602db3b9753dd46bcb35570c262709\", element=\"d066ecc5-2058-4297-b406-693f8b902eaf\")>,\n",
       " <selenium.webdriver.remote.webelement.WebElement (session=\"49602db3b9753dd46bcb35570c262709\", element=\"fdd0b529-eff1-4759-a519-04551031a8e2\")>,\n",
       " <selenium.webdriver.remote.webelement.WebElement (session=\"49602db3b9753dd46bcb35570c262709\", element=\"80b3d8ee-984f-404e-adcb-5014d062ba45\")>,\n",
       " <selenium.webdriver.remote.webelement.WebElement (session=\"49602db3b9753dd46bcb35570c262709\", element=\"191dc2b9-bb02-45cd-855c-2b8cef0b2462\")>,\n",
       " <selenium.webdriver.remote.webelement.WebElement (session=\"49602db3b9753dd46bcb35570c262709\", element=\"00030ccf-5e64-489d-8a36-b1525d42826c\")>,\n",
       " <selenium.webdriver.remote.webelement.WebElement (session=\"49602db3b9753dd46bcb35570c262709\", element=\"212689f8-dcee-41d5-bfd3-c848319783ff\")>,\n",
       " <selenium.webdriver.remote.webelement.WebElement (session=\"49602db3b9753dd46bcb35570c262709\", element=\"927a4c5a-35b2-4407-9351-860988965888\")>,\n",
       " <selenium.webdriver.remote.webelement.WebElement (session=\"49602db3b9753dd46bcb35570c262709\", element=\"d5465cc6-b9eb-4bbf-a255-81bb336b0a7d\")>,\n",
       " <selenium.webdriver.remote.webelement.WebElement (session=\"49602db3b9753dd46bcb35570c262709\", element=\"48d21995-80cf-41b1-a1f7-066568a1f0d6\")>,\n",
       " <selenium.webdriver.remote.webelement.WebElement (session=\"49602db3b9753dd46bcb35570c262709\", element=\"08755af6-435e-491f-b561-2fa4e1bd6975\")>,\n",
       " <selenium.webdriver.remote.webelement.WebElement (session=\"49602db3b9753dd46bcb35570c262709\", element=\"8e32df00-27d0-43a9-a0a4-62282f84ee3c\")>,\n",
       " <selenium.webdriver.remote.webelement.WebElement (session=\"49602db3b9753dd46bcb35570c262709\", element=\"f55ee74f-5f67-4955-b73d-c9e29c6d001c\")>,\n",
       " <selenium.webdriver.remote.webelement.WebElement (session=\"49602db3b9753dd46bcb35570c262709\", element=\"ba8549b7-ea9e-455a-9d0b-0121e34256a4\")>,\n",
       " <selenium.webdriver.remote.webelement.WebElement (session=\"49602db3b9753dd46bcb35570c262709\", element=\"da1493e1-7efb-4779-85d4-bb934e574ced\")>,\n",
       " <selenium.webdriver.remote.webelement.WebElement (session=\"49602db3b9753dd46bcb35570c262709\", element=\"6bc11886-7d42-48ca-acee-fbbc98561595\")>,\n",
       " <selenium.webdriver.remote.webelement.WebElement (session=\"49602db3b9753dd46bcb35570c262709\", element=\"3166b846-08b3-42a2-a225-15d5f3bc3672\")>,\n",
       " <selenium.webdriver.remote.webelement.WebElement (session=\"49602db3b9753dd46bcb35570c262709\", element=\"60128e73-9d64-43d1-a2cf-62c4706e4349\")>,\n",
       " <selenium.webdriver.remote.webelement.WebElement (session=\"49602db3b9753dd46bcb35570c262709\", element=\"8c276a56-6352-412f-b81a-63ed8dd5a1b3\")>,\n",
       " <selenium.webdriver.remote.webelement.WebElement (session=\"49602db3b9753dd46bcb35570c262709\", element=\"e8a47d0c-5f95-480b-a113-ee38b99818ab\")>,\n",
       " <selenium.webdriver.remote.webelement.WebElement (session=\"49602db3b9753dd46bcb35570c262709\", element=\"7fd7f55e-9e80-404a-a2fa-a4a45427d452\")>,\n",
       " <selenium.webdriver.remote.webelement.WebElement (session=\"49602db3b9753dd46bcb35570c262709\", element=\"d26047ef-42b5-43af-8e7d-2be0ebe33064\")>,\n",
       " <selenium.webdriver.remote.webelement.WebElement (session=\"49602db3b9753dd46bcb35570c262709\", element=\"68b35696-7cc7-4abb-a9b8-61279157d706\")>,\n",
       " <selenium.webdriver.remote.webelement.WebElement (session=\"49602db3b9753dd46bcb35570c262709\", element=\"9563b4ff-e874-4435-9c70-5b3ee71daa83\")>]"
      ]
     },
     "execution_count": 57,
     "metadata": {},
     "output_type": "execute_result"
    }
   ],
   "source": [
    "title_lap=driver.find_elements_by_xpath(\"//h2[@class='a-size-mini a-spacing-none a-color-base s-line-clamp-2']\")\n",
    "title_lap"
   ]
  },
  {
   "cell_type": "code",
   "execution_count": 59,
   "metadata": {},
   "outputs": [
    {
     "data": {
      "text/plain": [
       "['Fujitsu UH-X 11th Gen Intel i7 Core 13.3” (33.78cm) FHD IPS 400Nits Thin and Light Laptop (16GB/512GB SSD/Win10/Office/Iris Xe Graphics/Backlit Kb/ Fingerprint Reader/Black/878gms), 4ZR1D67596',\n",
       " 'Lenovo ThinkBook 15 Intel 11th Gen Core i7 15.6\" (39.62 cm) FHD IPS 300 nits Antiglare 100% sRGB Thin and Light Laptop (16GB/512GB SSD/Windows 10/MS Office/3 Yr Onsite Warranty/1.7 Kg), 20VEA0HHIH',\n",
       " 'Acer Nitro 5 11th Gen Intel Core i7-11800H 15.6\" (39.62cms) Full HD Gaming Laptop (16 GB/256GB SSD/1 TB HDD/Win 10/RTX 3050 Ti 4GB Graphics/144 Hz, Black, 2.4 kg/RGB Backlit Keyboard) AN515-57',\n",
       " 'Mi Notebook Horizon Edition 14 Intel Core i7-10510U 10th Gen Thin and Light Laptop(8GB/512GB SSD/Windows 10/Nvidia MX350 2GB Graphics/Grey/1.35Kg)(Without Webcam) XMA1904-AF',\n",
       " 'Life Digital Laptop 15.6-inch (39.62 cms) (Intel Core i7, 4GB RAM, 256GB SSD, Windows 10), ZED AIR CX7',\n",
       " 'HP Pavilion (2021) Intel 11th Gen Core i7 14 inches FHD Screen Thin & Light Laptop, 16 GB RAM, 1TB SSD, Iris Xe Graphics, Windows 10, MS Office, Backlit Keyboard, 1.41kg (14-dv0058TU), Silver',\n",
       " 'Dell 14 (2021) i7-1195G7 2in1 Touch Screen Laptop, 16GB, 512GB SSD, Win 10 + MS Office, 14.0\" (35.56 cms) FHD Display, Backlit KB, FPR + Active Pen, Platinum Silver (Inspiron 5410, D560596WIN9S)',\n",
       " 'Lenovo ThinkBook 15 Intel 11th Gen Core i7 15.6\" (39.62 cm) FHD IPS 300 nits Antiglare 100% sRGB Thin and Light Laptop (16GB/512GB SSD/Windows 10/MS Office/3 Yr Onsite Warranty/1.7 Kg), 20VEA0HHIH',\n",
       " 'HP Pavilion x360 11th Gen Intel Core i7 14-inch(35.6 cm) Touchscreen 2-in-1 FHD Laptop (16GB/512GB SSD/Fingerprint Reader/Windows 10/MS Office/Natural Silver/1.41 Kg), 14-dy0050TU',\n",
       " 'HP Pavilion 13(2021) 11th Gen Intel Core i7 Laptop, 16GB RAM, 1TB SSD, 13.3-inch(33.8 cm) FHD Screen, Win 10, MS Office, Ceramic White, 1.24 Kg (13-bb0078TU)',\n",
       " 'ASUS TUF Gaming F15 (2021) 15.6-inch (39.62 cms) FHD 144Hz, Intel Core i7-11800H 11th Gen, RTX 3050 4GB Graphics, Gaming Laptop (8GB/1TB SSD/Windows 10/Gray/2.3 Kg), FX566HC-HN050T',\n",
       " 'ASUS TUF Dash F15 (2021) 15.6-inch (39.62 cms) FHD 144Hz, Intel Core i7-11370H 11th Gen, RTX 3050 4GB Graphics, Gaming Laptop (16GB/512GB SSD/Windows 10/Gray/2 Kg), FX516PCZ-HN091T',\n",
       " 'Lenovo Yoga 7 11th Gen Intel Core i7 14\" Full HD IPS 2-in-1 Touchscreen Laptop (16GB/512GB SSD/Windows 10/MS Office 2019/Lenovo Digital Pen/Slate Grey/Aluminium Surface/1.43Kg), 82BH00E0IN',\n",
       " 'Fujitsu UH-X 11th Gen Intel i7 Core 13.3” (33.78cm) FHD IPS 400Nits Thin and Light Laptop (16GB/512GB SSD/Win10/Office/Iris Xe Graphics/Backlit Kb/ Fingerprint Reader/Black/878gms), 4ZR1D67596',\n",
       " 'LG Gram Ultra-Light 11th Gen Core i7,16 GB RAM, 512 GB SSD, Win-10, Iris Xe Graphics, 16-inches (40.64 cms), Thunderbolt 4, USC -C x 2 (with Power), 1.19 kg, 3 Yr Warranty (16Z90P-G.AH75A2, Black)',\n",
       " 'LG Gram Ultra-Light 11th Gen Core i7,16 GB RAM, 512 GB SSD, Win-10, Iris Xe Graphics, 17-inches (43.18 cms), Thunderbolt 4, USC -C x 2 (with Power), 1.35 kg, 3 Yr Warranty (17Z90P-G.AH75A2, Black)',\n",
       " 'ASUS TUF Dash F15 (2021) 15.6\" (39.62 cm) FHD 240Hz/3ms, Intel Core i7-11370H, GeForce RTX 3060 6GB Graphics, Gaming Laptop (16GB RAM/1TB SSD/Office 2019/Windows 10 Home/Gray/2 Kg) FX516PM-AZ153TS',\n",
       " 'Lenovo Legion 5 10th Gen Intel Core i7-10750H 15.6\" (39.63cm) FHD IPS Gaming Laptop (16GB/512GB SSD/Windows 10/NVIDIA GTX 1650 4GB/120Hz Refresh Display/Phantom Black/2.3Kg), 82AU00PNIN',\n",
       " 'HP Pavilion Gaming 11th Gen Intel Core i7 15.6-inch(39.6 cm) FHD Gaming Laptop (16GB RAM/512GB SSD/144Hz/GTX 1650 4GB Graphics/Win 10/MS Office/Shadow Black/2.28 Kg), 15-dk2075tx',\n",
       " 'Fujitsu UH-X 11th Gen Intel Core i7 13.3 inches Full HD IPS 400Nits 2-in1 Touch Convertible Business Laptop (16GB/1TB SSD/Windows 10/Office/Iris Xe Graphics/Backlit Kb/Black/0.997 kg, 4ZR1D71993)',\n",
       " 'Dell 15 (2021) i7-10870H Gaming Laptop, 16GB DDR4, 512GB SSD, Win 10 + MS Office, NVIDIA RTX 3050 Ti 4GB, 15.6\" (39.61 cms) FHD AG 250 nits 120Hz, Backlit KB Orange (G15 5510, D560534WIN9B)',\n",
       " 'Lenovo ThinkBook 15 Intel 11th Gen Core i7 15.6\"(39.62 cm) FHD IPS 300 nits Antiglare 100% RGB Thin and Light Laptop (16GB/1TB HDD+128GB SSD/Windows 10/MS Office/3Yr Onsite Warranty/1.7 Kg),20VEA0HBIH',\n",
       " 'Lenovo IdeaPad Gaming 3 11th Gen Intel Core i7-11370H 15.6\" (39.63cm) FHD IPS Gaming Laptop (8GB/512GB SSD/Windows 10/NVIDIA RTX 3050 4GB/120Hz Refresh Display/Shadow Black/2.25Kg), 82K1004EIN',\n",
       " 'Lenovo Legion 5 11th Gen Intel Core i7 15.6\"(39.62cm) FHD IPS Gaming Laptop (16GB/512GB SSD/NVIDIA RTX 3050 4GB/120Hz Refresh Rate/Windows 10/MS Office/Backlit Keyboard/Phantom Blue/2.4Kg), 82JK007WIN',\n",
       " 'Dell 15 (2021) i7-11800H Gaming Laptop, 16GB, 512GB SSD, Win 10 + MS Office, NVIDIA RTX 3050 Ti 4GB, 15.6\" (39.61 cms) FHD, Backlit KB Orange, Dark Shadow Grey (G15 5511, D560546WIN9B)',\n",
       " 'ASUS TUF Dash F15 (2021) 15.6-inch (39.62 cms) FHD 144Hz, Intel Core i7-11370H 11th Gen, RTX 3050 Ti 4GB Graphics, Gaming Laptop (16GB/1TB SSD/Office 2019/Windows 10/Gray/2 Kg), FX516PEZ-HN105TS',\n",
       " 'ASUS TUF Dash F15 (2021), 15.6-inch (39.62 cms) FHD 144Hz, Intel Core i7-11370H 11th Gen, RTX 3050 4GB Graphics Gaming Laptop (16GB RAM/512GB SSD/Windows 10/White/2 kg), FX516PC-HN062T',\n",
       " '(Renewed) Dell Intel Core i7 4th Gen 14 Inch(35.56 cms) 1366x768 HD Laptop (8GB RAM/500GB HDD/Windows 10 Pro/MS Office 2019/Intel Integrated HD Graphics 4600/2.1Kg,Silver) Latitude E6440',\n",
       " 'HP Envy Intel 11th Gen Core i7 Processor 13.3 inches FHD Touchscreen Gaming Laptop (16GB/1TB SSD/Windows 10/NVIDIA MX450 2GB/Natural Silver/1.3 kg), 13-ba1018TX',\n",
       " 'Lenovo Legion 7 10th Gen Intel Core i7 15.6 inch Full HD Gaming Laptop (16GB/1TB SSD/Windows 10/MS Office 2019/144 Hz/NVIDIA RTX 2070 8GB GDDR6 Graphics/Slate Grey/2.25Kg), 81YU0029IN',\n",
       " '',\n",
       " '',\n",
       " '',\n",
       " '',\n",
       " '',\n",
       " '',\n",
       " '',\n",
       " '',\n",
       " 'Fujitsu UH-X 11th Gen Intel i7 Core 13.3” (33.78cm) FHD IPS 400Nits Thin and Light Laptop (16GB/512GB SSD/Win10/Office/Iris Xe Graphics/Backlit Kb/ Fingerprint Reader/Black/878gms), 4ZR1D67596',\n",
       " 'Lenovo ThinkBook 15 Intel 11th Gen Core i7 15.6\" (39.62 cm) FHD IPS 300 nits Antiglare 100% sRGB Thin and Light Laptop (16GB/512GB SSD/Windows 10/MS Office/3 Yr Onsite Warranty/1.7 Kg), 20VEA0HHIH',\n",
       " 'Acer Nitro 5 11th Gen Intel Core i7-11800H 15.6\" (39.62cms) Full HD Gaming Laptop (16 GB/256GB SSD/1 TB HDD/Win 10/RTX 3050 Ti 4GB Graphics/144 Hz, Black, 2.4 kg/RGB Backlit Keyboard) AN515-57',\n",
       " 'Mi Notebook Horizon Edition 14 Intel Core i7-10510U 10th Gen Thin and Light Laptop(8GB/512GB SSD/Windows 10/Nvidia MX350 2GB Graphics/Grey/1.35Kg)(Without Webcam) XMA1904-AF',\n",
       " 'Life Digital Laptop 15.6-inch (39.62 cms) (Intel Core i7, 4GB RAM, 256GB SSD, Windows 10), ZED AIR CX7',\n",
       " 'HP Pavilion (2021) Intel 11th Gen Core i7 14 inches FHD Screen Thin & Light Laptop, 16 GB RAM, 1TB SSD, Iris Xe Graphics, Windows 10, MS Office, Backlit Keyboard, 1.41kg (14-dv0058TU), Silver',\n",
       " 'Dell 14 (2021) i7-1195G7 2in1 Touch Screen Laptop, 16GB, 512GB SSD, Win 10 + MS Office, 14.0\" (35.56 cms) FHD Display, Backlit KB, FPR + Active Pen, Platinum Silver (Inspiron 5410, D560596WIN9S)',\n",
       " 'Lenovo ThinkBook 15 Intel 11th Gen Core i7 15.6\" (39.62 cm) FHD IPS 300 nits Antiglare 100% sRGB Thin and Light Laptop (16GB/512GB SSD/Windows 10/MS Office/3 Yr Onsite Warranty/1.7 Kg), 20VEA0HHIH',\n",
       " 'HP Pavilion x360 11th Gen Intel Core i7 14-inch(35.6 cm) Touchscreen 2-in-1 FHD Laptop (16GB/512GB SSD/Fingerprint Reader/Windows 10/MS Office/Natural Silver/1.41 Kg), 14-dy0050TU',\n",
       " 'HP Pavilion 13(2021) 11th Gen Intel Core i7 Laptop, 16GB RAM, 1TB SSD, 13.3-inch(33.8 cm) FHD Screen, Win 10, MS Office, Ceramic White, 1.24 Kg (13-bb0078TU)',\n",
       " 'ASUS TUF Gaming F15 (2021) 15.6-inch (39.62 cms) FHD 144Hz, Intel Core i7-11800H 11th Gen, RTX 3050 4GB Graphics, Gaming Laptop (8GB/1TB SSD/Windows 10/Gray/2.3 Kg), FX566HC-HN050T',\n",
       " 'ASUS TUF Dash F15 (2021) 15.6-inch (39.62 cms) FHD 144Hz, Intel Core i7-11370H 11th Gen, RTX 3050 4GB Graphics, Gaming Laptop (16GB/512GB SSD/Windows 10/Gray/2 Kg), FX516PCZ-HN091T',\n",
       " 'Lenovo Yoga 7 11th Gen Intel Core i7 14\" Full HD IPS 2-in-1 Touchscreen Laptop (16GB/512GB SSD/Windows 10/MS Office 2019/Lenovo Digital Pen/Slate Grey/Aluminium Surface/1.43Kg), 82BH00E0IN',\n",
       " 'Fujitsu UH-X 11th Gen Intel i7 Core 13.3” (33.78cm) FHD IPS 400Nits Thin and Light Laptop (16GB/512GB SSD/Win10/Office/Iris Xe Graphics/Backlit Kb/ Fingerprint Reader/Black/878gms), 4ZR1D67596',\n",
       " 'LG Gram Ultra-Light 11th Gen Core i7,16 GB RAM, 512 GB SSD, Win-10, Iris Xe Graphics, 16-inches (40.64 cms), Thunderbolt 4, USC -C x 2 (with Power), 1.19 kg, 3 Yr Warranty (16Z90P-G.AH75A2, Black)',\n",
       " 'LG Gram Ultra-Light 11th Gen Core i7,16 GB RAM, 512 GB SSD, Win-10, Iris Xe Graphics, 17-inches (43.18 cms), Thunderbolt 4, USC -C x 2 (with Power), 1.35 kg, 3 Yr Warranty (17Z90P-G.AH75A2, Black)',\n",
       " 'ASUS TUF Dash F15 (2021) 15.6\" (39.62 cm) FHD 240Hz/3ms, Intel Core i7-11370H, GeForce RTX 3060 6GB Graphics, Gaming Laptop (16GB RAM/1TB SSD/Office 2019/Windows 10 Home/Gray/2 Kg) FX516PM-AZ153TS',\n",
       " 'Lenovo Legion 5 10th Gen Intel Core i7-10750H 15.6\" (39.63cm) FHD IPS Gaming Laptop (16GB/512GB SSD/Windows 10/NVIDIA GTX 1650 4GB/120Hz Refresh Display/Phantom Black/2.3Kg), 82AU00PNIN',\n",
       " 'HP Pavilion Gaming 11th Gen Intel Core i7 15.6-inch(39.6 cm) FHD Gaming Laptop (16GB RAM/512GB SSD/144Hz/GTX 1650 4GB Graphics/Win 10/MS Office/Shadow Black/2.28 Kg), 15-dk2075tx',\n",
       " 'Fujitsu UH-X 11th Gen Intel Core i7 13.3 inches Full HD IPS 400Nits 2-in1 Touch Convertible Business Laptop (16GB/1TB SSD/Windows 10/Office/Iris Xe Graphics/Backlit Kb/Black/0.997 kg, 4ZR1D71993)',\n",
       " 'Dell 15 (2021) i7-10870H Gaming Laptop, 16GB DDR4, 512GB SSD, Win 10 + MS Office, NVIDIA RTX 3050 Ti 4GB, 15.6\" (39.61 cms) FHD AG 250 nits 120Hz, Backlit KB Orange (G15 5510, D560534WIN9B)',\n",
       " 'Lenovo ThinkBook 15 Intel 11th Gen Core i7 15.6\"(39.62 cm) FHD IPS 300 nits Antiglare 100% RGB Thin and Light Laptop (16GB/1TB HDD+128GB SSD/Windows 10/MS Office/3Yr Onsite Warranty/1.7 Kg),20VEA0HBIH',\n",
       " 'Lenovo IdeaPad Gaming 3 11th Gen Intel Core i7-11370H 15.6\" (39.63cm) FHD IPS Gaming Laptop (8GB/512GB SSD/Windows 10/NVIDIA RTX 3050 4GB/120Hz Refresh Display/Shadow Black/2.25Kg), 82K1004EIN',\n",
       " 'Lenovo Legion 5 11th Gen Intel Core i7 15.6\"(39.62cm) FHD IPS Gaming Laptop (16GB/512GB SSD/NVIDIA RTX 3050 4GB/120Hz Refresh Rate/Windows 10/MS Office/Backlit Keyboard/Phantom Blue/2.4Kg), 82JK007WIN',\n",
       " 'Dell 15 (2021) i7-11800H Gaming Laptop, 16GB, 512GB SSD, Win 10 + MS Office, NVIDIA RTX 3050 Ti 4GB, 15.6\" (39.61 cms) FHD, Backlit KB Orange, Dark Shadow Grey (G15 5511, D560546WIN9B)',\n",
       " 'ASUS TUF Dash F15 (2021) 15.6-inch (39.62 cms) FHD 144Hz, Intel Core i7-11370H 11th Gen, RTX 3050 Ti 4GB Graphics, Gaming Laptop (16GB/1TB SSD/Office 2019/Windows 10/Gray/2 Kg), FX516PEZ-HN105TS',\n",
       " 'ASUS TUF Dash F15 (2021), 15.6-inch (39.62 cms) FHD 144Hz, Intel Core i7-11370H 11th Gen, RTX 3050 4GB Graphics Gaming Laptop (16GB RAM/512GB SSD/Windows 10/White/2 kg), FX516PC-HN062T',\n",
       " '(Renewed) Dell Intel Core i7 4th Gen 14 Inch(35.56 cms) 1366x768 HD Laptop (8GB RAM/500GB HDD/Windows 10 Pro/MS Office 2019/Intel Integrated HD Graphics 4600/2.1Kg,Silver) Latitude E6440',\n",
       " 'HP Envy Intel 11th Gen Core i7 Processor 13.3 inches FHD Touchscreen Gaming Laptop (16GB/1TB SSD/Windows 10/NVIDIA MX450 2GB/Natural Silver/1.3 kg), 13-ba1018TX',\n",
       " 'Lenovo Legion 7 10th Gen Intel Core i7 15.6 inch Full HD Gaming Laptop (16GB/1TB SSD/Windows 10/MS Office 2019/144 Hz/NVIDIA RTX 2070 8GB GDDR6 Graphics/Slate Grey/2.25Kg), 81YU0029IN',\n",
       " '',\n",
       " '',\n",
       " '',\n",
       " '',\n",
       " '',\n",
       " '',\n",
       " '',\n",
       " '']"
      ]
     },
     "execution_count": 59,
     "metadata": {},
     "output_type": "execute_result"
    }
   ],
   "source": [
    "for i in title_lap:\n",
    "    title.append(i.text)\n",
    "title    "
   ]
  },
  {
   "cell_type": "code",
   "execution_count": 68,
   "metadata": {},
   "outputs": [
    {
     "data": {
      "text/plain": [
       "[<selenium.webdriver.remote.webelement.WebElement (session=\"49602db3b9753dd46bcb35570c262709\", element=\"bfdfaabf-6d71-4a78-8521-3f0c723d1863\")>,\n",
       " <selenium.webdriver.remote.webelement.WebElement (session=\"49602db3b9753dd46bcb35570c262709\", element=\"e05e0528-fbbf-4cbc-9c5a-f08fafddd289\")>,\n",
       " <selenium.webdriver.remote.webelement.WebElement (session=\"49602db3b9753dd46bcb35570c262709\", element=\"f7dc584e-96ea-47a3-b0bd-00027eaf6100\")>,\n",
       " <selenium.webdriver.remote.webelement.WebElement (session=\"49602db3b9753dd46bcb35570c262709\", element=\"e78b2332-ff9f-44b9-80ee-d07ae7473659\")>,\n",
       " <selenium.webdriver.remote.webelement.WebElement (session=\"49602db3b9753dd46bcb35570c262709\", element=\"7e44e1b6-0d18-4e65-aeec-085001898fc4\")>,\n",
       " <selenium.webdriver.remote.webelement.WebElement (session=\"49602db3b9753dd46bcb35570c262709\", element=\"53391c6f-79da-413d-87bb-60efdfd47320\")>,\n",
       " <selenium.webdriver.remote.webelement.WebElement (session=\"49602db3b9753dd46bcb35570c262709\", element=\"0f989a07-54f6-4f8d-979a-872898a3d690\")>,\n",
       " <selenium.webdriver.remote.webelement.WebElement (session=\"49602db3b9753dd46bcb35570c262709\", element=\"ab826fea-416e-4f0d-a526-8e4fe1899d58\")>,\n",
       " <selenium.webdriver.remote.webelement.WebElement (session=\"49602db3b9753dd46bcb35570c262709\", element=\"3b2fac6f-0404-4c8a-9507-2b71a88f719b\")>,\n",
       " <selenium.webdriver.remote.webelement.WebElement (session=\"49602db3b9753dd46bcb35570c262709\", element=\"70dcf171-2249-4e49-b2e4-f4187772c530\")>,\n",
       " <selenium.webdriver.remote.webelement.WebElement (session=\"49602db3b9753dd46bcb35570c262709\", element=\"306377bb-26eb-4bfe-86f3-87b19cf08ea9\")>,\n",
       " <selenium.webdriver.remote.webelement.WebElement (session=\"49602db3b9753dd46bcb35570c262709\", element=\"f210e350-7982-49b0-ae4f-56a0d5ae8993\")>]"
      ]
     },
     "execution_count": 68,
     "metadata": {},
     "output_type": "execute_result"
    }
   ],
   "source": [
    "Ratings_lap=driver.find_elements_by_xpath(\"//i[@class='a-icon a-icon-star-small a-star-small-4-5 aok-align-bottom']\")\n",
    "Ratings_lap"
   ]
  },
  {
   "cell_type": "code",
   "execution_count": 69,
   "metadata": {},
   "outputs": [
    {
     "data": {
      "text/plain": [
       "['',\n",
       " '',\n",
       " '',\n",
       " '',\n",
       " '',\n",
       " '',\n",
       " '',\n",
       " '',\n",
       " '',\n",
       " '',\n",
       " '',\n",
       " '',\n",
       " '',\n",
       " '',\n",
       " '',\n",
       " '',\n",
       " '',\n",
       " '',\n",
       " '',\n",
       " '',\n",
       " '',\n",
       " '',\n",
       " '',\n",
       " '',\n",
       " '',\n",
       " '',\n",
       " '',\n",
       " '',\n",
       " '',\n",
       " '',\n",
       " '',\n",
       " '',\n",
       " '',\n",
       " '',\n",
       " '',\n",
       " '',\n",
       " '',\n",
       " '',\n",
       " '',\n",
       " 'Sponsored',\n",
       " '',\n",
       " '',\n",
       " 'Sponsored',\n",
       " '',\n",
       " '',\n",
       " '',\n",
       " '',\n",
       " '',\n",
       " '',\n",
       " '(9 new offers)',\n",
       " '',\n",
       " '',\n",
       " '',\n",
       " '(9 new offers)',\n",
       " '',\n",
       " '',\n",
       " '',\n",
       " '',\n",
       " '',\n",
       " '(7 new offers)',\n",
       " '',\n",
       " '',\n",
       " 'Sponsored',\n",
       " '',\n",
       " '',\n",
       " 'Sponsored',\n",
       " '',\n",
       " '',\n",
       " '',\n",
       " '',\n",
       " '',\n",
       " '',\n",
       " '',\n",
       " '',\n",
       " '',\n",
       " '(2 new offers)',\n",
       " '',\n",
       " '',\n",
       " '',\n",
       " 'Sponsored',\n",
       " '',\n",
       " '',\n",
       " 'Sponsored',\n",
       " '',\n",
       " '',\n",
       " '',\n",
       " '',\n",
       " '',\n",
       " '',\n",
       " '',\n",
       " '',\n",
       " '',\n",
       " '',\n",
       " '',\n",
       " '',\n",
       " '',\n",
       " '',\n",
       " '',\n",
       " '',\n",
       " '',\n",
       " '',\n",
       " '',\n",
       " '',\n",
       " '',\n",
       " '',\n",
       " '',\n",
       " '',\n",
       " '',\n",
       " '',\n",
       " '',\n",
       " '',\n",
       " '',\n",
       " '',\n",
       " '',\n",
       " '',\n",
       " '',\n",
       " '']"
      ]
     },
     "execution_count": 69,
     "metadata": {},
     "output_type": "execute_result"
    }
   ],
   "source": [
    "for i in Ratings_lap:\n",
    "    Ratings.append(i.text)\n",
    "Ratings    "
   ]
  },
  {
   "cell_type": "code",
   "execution_count": 70,
   "metadata": {},
   "outputs": [
    {
     "data": {
      "text/plain": [
       "[<selenium.webdriver.remote.webelement.WebElement (session=\"49602db3b9753dd46bcb35570c262709\", element=\"e2d69f42-f09e-404e-b36b-ecdf5c3907c3\")>,\n",
       " <selenium.webdriver.remote.webelement.WebElement (session=\"49602db3b9753dd46bcb35570c262709\", element=\"9f9baedc-5e3e-44fd-846d-4f9036bb5579\")>,\n",
       " <selenium.webdriver.remote.webelement.WebElement (session=\"49602db3b9753dd46bcb35570c262709\", element=\"f1fb7f04-4c17-4a64-8186-9699e2ddf813\")>,\n",
       " <selenium.webdriver.remote.webelement.WebElement (session=\"49602db3b9753dd46bcb35570c262709\", element=\"2b1c5655-4ba1-4655-9ab7-a6e73f42ea4a\")>,\n",
       " <selenium.webdriver.remote.webelement.WebElement (session=\"49602db3b9753dd46bcb35570c262709\", element=\"6733baa2-906a-4fd4-8f71-9c0eab1c8656\")>,\n",
       " <selenium.webdriver.remote.webelement.WebElement (session=\"49602db3b9753dd46bcb35570c262709\", element=\"c2bee2c8-6cfe-416f-86a1-a20d76921804\")>,\n",
       " <selenium.webdriver.remote.webelement.WebElement (session=\"49602db3b9753dd46bcb35570c262709\", element=\"034a036b-d865-4d6f-886d-87c5680552ac\")>,\n",
       " <selenium.webdriver.remote.webelement.WebElement (session=\"49602db3b9753dd46bcb35570c262709\", element=\"1f7b560a-33b7-462b-8ca4-2d6f610d9d7b\")>,\n",
       " <selenium.webdriver.remote.webelement.WebElement (session=\"49602db3b9753dd46bcb35570c262709\", element=\"1c2924cb-598e-4a32-9b22-ea91c53bdc59\")>,\n",
       " <selenium.webdriver.remote.webelement.WebElement (session=\"49602db3b9753dd46bcb35570c262709\", element=\"1575ab48-efae-4ef9-b62a-f4ed68c4176b\")>,\n",
       " <selenium.webdriver.remote.webelement.WebElement (session=\"49602db3b9753dd46bcb35570c262709\", element=\"f58b4ea8-8117-456f-86f8-94d1d421c2fe\")>,\n",
       " <selenium.webdriver.remote.webelement.WebElement (session=\"49602db3b9753dd46bcb35570c262709\", element=\"0cde2144-cc7c-4130-b33f-30ee7e6d799a\")>,\n",
       " <selenium.webdriver.remote.webelement.WebElement (session=\"49602db3b9753dd46bcb35570c262709\", element=\"26ebc96d-5068-492c-8a9f-00c57495f24f\")>,\n",
       " <selenium.webdriver.remote.webelement.WebElement (session=\"49602db3b9753dd46bcb35570c262709\", element=\"fd7fec3e-a6f6-4504-bfd5-bde0b336124b\")>,\n",
       " <selenium.webdriver.remote.webelement.WebElement (session=\"49602db3b9753dd46bcb35570c262709\", element=\"e8f5ba98-59fa-47e2-8b9f-13720295ee27\")>,\n",
       " <selenium.webdriver.remote.webelement.WebElement (session=\"49602db3b9753dd46bcb35570c262709\", element=\"bd350e98-2c1e-443b-931d-d616a79fb7fb\")>,\n",
       " <selenium.webdriver.remote.webelement.WebElement (session=\"49602db3b9753dd46bcb35570c262709\", element=\"bdae007a-1da8-4dc7-92ba-07ea72735cd7\")>,\n",
       " <selenium.webdriver.remote.webelement.WebElement (session=\"49602db3b9753dd46bcb35570c262709\", element=\"bcb03cd3-7745-47bd-8769-d5d033517421\")>,\n",
       " <selenium.webdriver.remote.webelement.WebElement (session=\"49602db3b9753dd46bcb35570c262709\", element=\"07d80375-73fc-4808-b8d1-276a14548fa7\")>,\n",
       " <selenium.webdriver.remote.webelement.WebElement (session=\"49602db3b9753dd46bcb35570c262709\", element=\"0e9bb364-69f1-461e-9b58-11188d22c9d0\")>,\n",
       " <selenium.webdriver.remote.webelement.WebElement (session=\"49602db3b9753dd46bcb35570c262709\", element=\"b810029b-6ee2-4c48-aa7c-239ac2d34f3e\")>,\n",
       " <selenium.webdriver.remote.webelement.WebElement (session=\"49602db3b9753dd46bcb35570c262709\", element=\"ecc5d647-cd0b-4c7a-b8c8-5651084b95f8\")>,\n",
       " <selenium.webdriver.remote.webelement.WebElement (session=\"49602db3b9753dd46bcb35570c262709\", element=\"84f4ce21-f92e-4c8d-be09-50dd6af7409e\")>,\n",
       " <selenium.webdriver.remote.webelement.WebElement (session=\"49602db3b9753dd46bcb35570c262709\", element=\"d66ab5e3-eb82-41a8-baa4-b4ca48f23621\")>,\n",
       " <selenium.webdriver.remote.webelement.WebElement (session=\"49602db3b9753dd46bcb35570c262709\", element=\"90bedc01-d99d-4cdd-b70f-960561322bfc\")>,\n",
       " <selenium.webdriver.remote.webelement.WebElement (session=\"49602db3b9753dd46bcb35570c262709\", element=\"07e681ad-21ad-41cb-8204-c118e70a9e99\")>,\n",
       " <selenium.webdriver.remote.webelement.WebElement (session=\"49602db3b9753dd46bcb35570c262709\", element=\"4942b7e1-3a4e-4053-bc33-633d67615436\")>,\n",
       " <selenium.webdriver.remote.webelement.WebElement (session=\"49602db3b9753dd46bcb35570c262709\", element=\"37fa8627-100c-4e8d-9d59-19d54feed021\")>,\n",
       " <selenium.webdriver.remote.webelement.WebElement (session=\"49602db3b9753dd46bcb35570c262709\", element=\"0548b52b-0e3d-4b70-ade6-dbe56b8e1f7b\")>,\n",
       " <selenium.webdriver.remote.webelement.WebElement (session=\"49602db3b9753dd46bcb35570c262709\", element=\"fc284430-3d76-419b-8805-8b0ee7c03ef2\")>,\n",
       " <selenium.webdriver.remote.webelement.WebElement (session=\"49602db3b9753dd46bcb35570c262709\", element=\"5ee34a61-dd24-480d-b330-ba795ee90ad0\")>,\n",
       " <selenium.webdriver.remote.webelement.WebElement (session=\"49602db3b9753dd46bcb35570c262709\", element=\"7b485971-7c2a-472d-92e6-84eb7e7af738\")>,\n",
       " <selenium.webdriver.remote.webelement.WebElement (session=\"49602db3b9753dd46bcb35570c262709\", element=\"f213ac68-f0b6-41af-bfc8-7a6d29711ff8\")>,\n",
       " <selenium.webdriver.remote.webelement.WebElement (session=\"49602db3b9753dd46bcb35570c262709\", element=\"e1fe7d09-2c37-4fbc-bdc5-cb73c0341cbd\")>,\n",
       " <selenium.webdriver.remote.webelement.WebElement (session=\"49602db3b9753dd46bcb35570c262709\", element=\"443159a1-fadd-415a-8302-4f066fb80284\")>,\n",
       " <selenium.webdriver.remote.webelement.WebElement (session=\"49602db3b9753dd46bcb35570c262709\", element=\"182ce34c-3eb8-4d35-8b83-cfd7a096087d\")>]"
      ]
     },
     "execution_count": 70,
     "metadata": {},
     "output_type": "execute_result"
    }
   ],
   "source": [
    "Price_lap=driver.find_elements_by_xpath(\"//span[@class='a-price-whole']\")\n",
    "Price_lap"
   ]
  },
  {
   "cell_type": "code",
   "execution_count": 71,
   "metadata": {},
   "outputs": [
    {
     "data": {
      "text/plain": [
       "['89,990',\n",
       " '84,990',\n",
       " '85,990',\n",
       " '53,990',\n",
       " '24,990',\n",
       " '84,990',\n",
       " '89,990',\n",
       " '84,990',\n",
       " '84,990',\n",
       " '91,990',\n",
       " '84,990',\n",
       " '93,990',\n",
       " '99,990',\n",
       " '89,990',\n",
       " '92,290',\n",
       " '95,490',\n",
       " '1,19,990',\n",
       " '83,490',\n",
       " '89,990',\n",
       " '1,02,990',\n",
       " '1,01,490',\n",
       " '85,990',\n",
       " '88,990',\n",
       " '1,04,990',\n",
       " '1,08,999',\n",
       " '1,07,990',\n",
       " '94,990',\n",
       " '34,899',\n",
       " '1,28,800',\n",
       " '1,66,910',\n",
       " '',\n",
       " '',\n",
       " '',\n",
       " '',\n",
       " '',\n",
       " '']"
      ]
     },
     "execution_count": 71,
     "metadata": {},
     "output_type": "execute_result"
    }
   ],
   "source": [
    "for i in Price_lap:\n",
    "    Price.append(i.text)\n",
    "Price    "
   ]
  },
  {
   "cell_type": "code",
   "execution_count": 72,
   "metadata": {},
   "outputs": [
    {
     "data": {
      "text/html": [
       "<div>\n",
       "<style scoped>\n",
       "    .dataframe tbody tr th:only-of-type {\n",
       "        vertical-align: middle;\n",
       "    }\n",
       "\n",
       "    .dataframe tbody tr th {\n",
       "        vertical-align: top;\n",
       "    }\n",
       "\n",
       "    .dataframe thead th {\n",
       "        text-align: right;\n",
       "    }\n",
       "</style>\n",
       "<table border=\"1\" class=\"dataframe\">\n",
       "  <thead>\n",
       "    <tr style=\"text-align: right;\">\n",
       "      <th></th>\n",
       "      <th>title</th>\n",
       "      <th>Ratings</th>\n",
       "      <th>Price</th>\n",
       "    </tr>\n",
       "  </thead>\n",
       "  <tbody>\n",
       "    <tr>\n",
       "      <th>0</th>\n",
       "      <td>Fujitsu UH-X 11th Gen Intel i7 Core 13.3” (33....</td>\n",
       "      <td></td>\n",
       "      <td>89,990</td>\n",
       "    </tr>\n",
       "    <tr>\n",
       "      <th>1</th>\n",
       "      <td>Lenovo ThinkBook 15 Intel 11th Gen Core i7 15....</td>\n",
       "      <td></td>\n",
       "      <td>84,990</td>\n",
       "    </tr>\n",
       "    <tr>\n",
       "      <th>2</th>\n",
       "      <td>Acer Nitro 5 11th Gen Intel Core i7-11800H 15....</td>\n",
       "      <td></td>\n",
       "      <td>85,990</td>\n",
       "    </tr>\n",
       "    <tr>\n",
       "      <th>3</th>\n",
       "      <td>Mi Notebook Horizon Edition 14 Intel Core i7-1...</td>\n",
       "      <td></td>\n",
       "      <td>53,990</td>\n",
       "    </tr>\n",
       "    <tr>\n",
       "      <th>4</th>\n",
       "      <td>Life Digital Laptop 15.6-inch (39.62 cms) (Int...</td>\n",
       "      <td></td>\n",
       "      <td>24,990</td>\n",
       "    </tr>\n",
       "    <tr>\n",
       "      <th>5</th>\n",
       "      <td>HP Pavilion (2021) Intel 11th Gen Core i7 14 i...</td>\n",
       "      <td></td>\n",
       "      <td>84,990</td>\n",
       "    </tr>\n",
       "    <tr>\n",
       "      <th>6</th>\n",
       "      <td>Dell 14 (2021) i7-1195G7 2in1 Touch Screen Lap...</td>\n",
       "      <td></td>\n",
       "      <td>89,990</td>\n",
       "    </tr>\n",
       "    <tr>\n",
       "      <th>7</th>\n",
       "      <td>Lenovo ThinkBook 15 Intel 11th Gen Core i7 15....</td>\n",
       "      <td></td>\n",
       "      <td>84,990</td>\n",
       "    </tr>\n",
       "    <tr>\n",
       "      <th>8</th>\n",
       "      <td>HP Pavilion x360 11th Gen Intel Core i7 14-inc...</td>\n",
       "      <td></td>\n",
       "      <td>84,990</td>\n",
       "    </tr>\n",
       "    <tr>\n",
       "      <th>9</th>\n",
       "      <td>HP Pavilion 13(2021) 11th Gen Intel Core i7 La...</td>\n",
       "      <td></td>\n",
       "      <td>91,990</td>\n",
       "    </tr>\n",
       "  </tbody>\n",
       "</table>\n",
       "</div>"
      ],
      "text/plain": [
       "                                               title Ratings   Price\n",
       "0  Fujitsu UH-X 11th Gen Intel i7 Core 13.3” (33....          89,990\n",
       "1  Lenovo ThinkBook 15 Intel 11th Gen Core i7 15....          84,990\n",
       "2  Acer Nitro 5 11th Gen Intel Core i7-11800H 15....          85,990\n",
       "3  Mi Notebook Horizon Edition 14 Intel Core i7-1...          53,990\n",
       "4  Life Digital Laptop 15.6-inch (39.62 cms) (Int...          24,990\n",
       "5  HP Pavilion (2021) Intel 11th Gen Core i7 14 i...          84,990\n",
       "6  Dell 14 (2021) i7-1195G7 2in1 Touch Screen Lap...          89,990\n",
       "7  Lenovo ThinkBook 15 Intel 11th Gen Core i7 15....          84,990\n",
       "8  HP Pavilion x360 11th Gen Intel Core i7 14-inc...          84,990\n",
       "9  HP Pavilion 13(2021) 11th Gen Intel Core i7 La...          91,990"
      ]
     },
     "execution_count": 72,
     "metadata": {},
     "output_type": "execute_result"
    }
   ],
   "source": [
    "lap=pd.DataFrame({})\n",
    "lap['title']=title[0:10]\n",
    "lap['Ratings']=Ratings[0:10]\n",
    "lap['Price']=Price[0:10]\n",
    "lap"
   ]
  },
  {
   "cell_type": "code",
   "execution_count": null,
   "metadata": {},
   "outputs": [],
   "source": []
  }
 ],
 "metadata": {
  "kernelspec": {
   "display_name": "Python 3",
   "language": "python",
   "name": "python3"
  }
 },
 "nbformat": 4,
 "nbformat_minor": 4
}
